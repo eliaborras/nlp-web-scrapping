{
 "cells": [
  {
   "cell_type": "markdown",
   "metadata": {},
   "source": [
    "# Contents"
   ]
  },
  {
   "cell_type": "markdown",
   "metadata": {},
   "source": [
    "* Analysing topics inside data tweets.\n",
    "* Chossen 100 num of topics due to the short length of tweets. \n",
    "* The higher the number of topics the the higher the specificity of the topic, \n",
    "given the small amount of words per tweet. \n",
    "* The lower the number of topics the more general the topic and less correlated to specific words. \n",
    "\n",
    "* In the plot we can see:\n",
    "* probability distributions seems to discern a bit. However, topic 53 seems is highlu probable no mater what sentiment. \n",
    "* There are some small overlapings could be due to the number of topics chosen "
   ]
  },
  {
   "cell_type": "markdown",
   "metadata": {},
   "source": [
    "# Setup"
   ]
  },
  {
   "cell_type": "code",
   "execution_count": 1,
   "metadata": {},
   "outputs": [],
   "source": [
    "import re\n",
    "from collections import Counter\n",
    "\n",
    "import pandas as pd\n",
    "import numpy as np\n",
    "import gensim\n",
    "from gensim.models.ldamulticore import LdaMulticore\n",
    "\n",
    "import nltk\n",
    "import matplotlib.pyplot as plt"
   ]
  },
  {
   "cell_type": "markdown",
   "metadata": {},
   "source": [
    "# Raw dataset"
   ]
  },
  {
   "cell_type": "code",
   "execution_count": 2,
   "metadata": {},
   "outputs": [],
   "source": [
    "data = pd.read_csv('../../data/raw/tweets-train.csv')"
   ]
  },
  {
   "cell_type": "code",
   "execution_count": 3,
   "metadata": {},
   "outputs": [
    {
     "data": {
      "text/html": [
       "<div>\n",
       "<style scoped>\n",
       "    .dataframe tbody tr th:only-of-type {\n",
       "        vertical-align: middle;\n",
       "    }\n",
       "\n",
       "    .dataframe tbody tr th {\n",
       "        vertical-align: top;\n",
       "    }\n",
       "\n",
       "    .dataframe thead th {\n",
       "        text-align: right;\n",
       "    }\n",
       "</style>\n",
       "<table border=\"1\" class=\"dataframe\">\n",
       "  <thead>\n",
       "    <tr style=\"text-align: right;\">\n",
       "      <th></th>\n",
       "      <th>textID</th>\n",
       "      <th>text</th>\n",
       "      <th>selected_text</th>\n",
       "      <th>sentiment</th>\n",
       "    </tr>\n",
       "  </thead>\n",
       "  <tbody>\n",
       "    <tr>\n",
       "      <th>0</th>\n",
       "      <td>cb774db0d1</td>\n",
       "      <td>I`d have responded, if I were going</td>\n",
       "      <td>I`d have responded, if I were going</td>\n",
       "      <td>neutral</td>\n",
       "    </tr>\n",
       "    <tr>\n",
       "      <th>1</th>\n",
       "      <td>549e992a42</td>\n",
       "      <td>Sooo SAD I will miss you here in San Diego!!!</td>\n",
       "      <td>Sooo SAD</td>\n",
       "      <td>negative</td>\n",
       "    </tr>\n",
       "    <tr>\n",
       "      <th>2</th>\n",
       "      <td>088c60f138</td>\n",
       "      <td>my boss is bullying me...</td>\n",
       "      <td>bullying me</td>\n",
       "      <td>negative</td>\n",
       "    </tr>\n",
       "    <tr>\n",
       "      <th>3</th>\n",
       "      <td>9642c003ef</td>\n",
       "      <td>what interview! leave me alone</td>\n",
       "      <td>leave me alone</td>\n",
       "      <td>negative</td>\n",
       "    </tr>\n",
       "    <tr>\n",
       "      <th>4</th>\n",
       "      <td>358bd9e861</td>\n",
       "      <td>Sons of ****, why couldn`t they put them on t...</td>\n",
       "      <td>Sons of ****,</td>\n",
       "      <td>negative</td>\n",
       "    </tr>\n",
       "  </tbody>\n",
       "</table>\n",
       "</div>"
      ],
      "text/plain": [
       "       textID                                               text  \\\n",
       "0  cb774db0d1                I`d have responded, if I were going   \n",
       "1  549e992a42      Sooo SAD I will miss you here in San Diego!!!   \n",
       "2  088c60f138                          my boss is bullying me...   \n",
       "3  9642c003ef                     what interview! leave me alone   \n",
       "4  358bd9e861   Sons of ****, why couldn`t they put them on t...   \n",
       "\n",
       "                         selected_text sentiment  \n",
       "0  I`d have responded, if I were going   neutral  \n",
       "1                             Sooo SAD  negative  \n",
       "2                          bullying me  negative  \n",
       "3                       leave me alone  negative  \n",
       "4                        Sons of ****,  negative  "
      ]
     },
     "execution_count": 3,
     "metadata": {},
     "output_type": "execute_result"
    }
   ],
   "source": [
    "data.head()"
   ]
  },
  {
   "cell_type": "code",
   "execution_count": 4,
   "metadata": {},
   "outputs": [],
   "source": [
    "data = data.dropna().reset_index()"
   ]
  },
  {
   "cell_type": "code",
   "execution_count": 5,
   "metadata": {},
   "outputs": [
    {
     "data": {
      "text/plain": [
       "index            0\n",
       "textID           0\n",
       "text             0\n",
       "selected_text    0\n",
       "sentiment        0\n",
       "dtype: int64"
      ]
     },
     "execution_count": 5,
     "metadata": {},
     "output_type": "execute_result"
    }
   ],
   "source": [
    "data.isnull().sum()"
   ]
  },
  {
   "cell_type": "markdown",
   "metadata": {},
   "source": [
    "## 1. Tokenizing / cleaning text"
   ]
  },
  {
   "cell_type": "code",
   "execution_count": 6,
   "metadata": {},
   "outputs": [],
   "source": [
    "special_word = 'tweeety'\n",
    "\n",
    "def remove_ascii_words(df, column):\n",
    "    \"\"\" removes non-ascii characters from the 'texts' column in df.\n",
    "    It returns the words containig non-ascii characers.\n",
    "    \"\"\"\n",
    "    for i in range(len(df)):\n",
    "        for word in df.iloc[i][column].split(' '):\n",
    "            # removing chars above 128 ascii\n",
    "            if any([ord(character) >= 128 for character in word]):\n",
    "                # replace odd word with tweeetty \n",
    "                df.loc[i, column] = df.loc[i, column].replace(word, special_word)\n",
    "    \n",
    "\n",
    "\n",
    "def get_good_tokens(sentence):\n",
    "    \"\"\"replacing punctuation with \"\" empty.\n",
    "    filtering empty words from replaced puctuation\"\"\"\n",
    "    replaced_punctation = list(map(lambda token: re.sub('[^0-9A-Za-z!?]+', '', token), sentence))\n",
    "    removed_punctation = list(filter(lambda token: token, replaced_punctation))\n",
    "    return removed_punctation\n",
    "\n",
    "\n",
    "def w2v_preprocessing(df, column):\n",
    "    \"\"\" All the preprocessing steps for word2vec are done in this function.\n",
    "    All mutations are done on the dataframe itself. So this function returns\n",
    "    nothing. Not using it now but usefull in future if word embed applied. \n",
    "    \"\"\"\n",
    "    df['text'] = df[column].str.lower()\n",
    "    df['document_sentences'] = df[column].str.split('.')  # split texts into individual sentences\n",
    "    df['tokenized_sentences'] = list(map(lambda sentence:\n",
    "                                         list(map(nltk.word_tokenize, sentence)),\n",
    "                                         df.document_sentences))  # tokenize sentences\n",
    "    df['tokenized_sentences'] = list(map(lambda sentence:\n",
    "                                         list(map(get_good_tokens, sentence)),\n",
    "                                         df.tokenized_sentences))  # remove unwanted characters\n",
    "    df['tokenized_sentences'] = list(map(lambda sentence:\n",
    "                                         list(filter(lambda lst: lst, sentence)),\n",
    "                                         df.tokenized_sentences))  # remove empty lists\n",
    "\n",
    "    \n",
    "def lda_get_good_tokens(df, column):\n",
    "    \"\"\"\"\"\"\n",
    "    df['tokenized_text'] = list(map(nltk.word_tokenize, df[column]))\n",
    "    df['tokenized_text'] = list(map(get_good_tokens, df.tokenized_text))\n",
    "    \n",
    "    \n",
    "def remove_stopwords(df):\n",
    "    \"\"\" Removes stopwords based on a known set of stopwords\n",
    "    available in the nltk package. \n",
    "    \"\"\"\n",
    "    stopwords = nltk.corpus.stopwords.words('english')+['tweeety']\n",
    "\n",
    "    df['stopwords_removed'] = list(map(lambda doc:\n",
    "                                       [word for word in doc if word not in stopwords],\n",
    "                                       df.tokenized_text))\n",
    "    \n",
    "def stem_words(df):\n",
    "    \"\"\"Remove word endings using nltk lemmatizer\"\"\"\n",
    "    lemm = nltk.stem.WordNetLemmatizer()\n",
    "    df['lemmatized_text'] = list(map(lambda sentence:\n",
    "                                     list(map(lemm.lemmatize, sentence)),\n",
    "                                     df.stopwords_removed))\n",
    "\n",
    "    p_stemmer = nltk.stem.porter.PorterStemmer()\n",
    "    df['stemmed_text'] = list(map(lambda sentence:\n",
    "                                  list(map(p_stemmer.stem, sentence)),\n",
    "                                  df.lemmatized_text))\n",
    "    "
   ]
  },
  {
   "cell_type": "code",
   "execution_count": 7,
   "metadata": {},
   "outputs": [],
   "source": [
    "def tokenizing_cleaning_tweets(df):\n",
    "    remove_ascii_words(df, 'text')\n",
    "    w2v_preprocessing(df, 'text')\n",
    "    lda_get_good_tokens(df, 'text')\n",
    "    remove_stopwords(df)\n",
    "    stem_words(df)\n",
    "    \n",
    "tokenizing_cleaning_tweets(data)"
   ]
  },
  {
   "cell_type": "markdown",
   "metadata": {},
   "source": [
    "## Vectorize words"
   ]
  },
  {
   "cell_type": "code",
   "execution_count": 8,
   "metadata": {},
   "outputs": [],
   "source": [
    "def document_to_bow(df, column):\n",
    "    # create dict\n",
    "    dictionary = gensim.corpora.Dictionary(df[column])\n",
    "    print(dictionary)\n",
    "    # filtering low count \n",
    "    dictionary.filter_extremes(no_above=0.8, no_below=3)\n",
    "    # Reindexes the remaining words after filtering \n",
    "    dictionary.compactify()\n",
    "    print(\"Left with {} words.\".format(len(dictionary.values())))\n",
    "    # Make a BOW for every document\n",
    "    df['bow'] = list(map(lambda doc: dictionary.doc2bow(doc), df.stemmed_text))\n",
    "    return dictionary"
   ]
  },
  {
   "cell_type": "code",
   "execution_count": 9,
   "metadata": {},
   "outputs": [
    {
     "name": "stdout",
     "output_type": "stream",
     "text": [
      "Dictionary(22016 unique tokens: ['go', 'respond', '!', 'diego', 'miss']...)\n",
      "Left with 5655 words.\n"
     ]
    }
   ],
   "source": [
    "dictionary = document_to_bow(data, 'stemmed_text')"
   ]
  },
  {
   "cell_type": "code",
   "execution_count": 10,
   "metadata": {},
   "outputs": [
    {
     "data": {
      "text/html": [
       "<div>\n",
       "<style scoped>\n",
       "    .dataframe tbody tr th:only-of-type {\n",
       "        vertical-align: middle;\n",
       "    }\n",
       "\n",
       "    .dataframe tbody tr th {\n",
       "        vertical-align: top;\n",
       "    }\n",
       "\n",
       "    .dataframe thead th {\n",
       "        text-align: right;\n",
       "    }\n",
       "</style>\n",
       "<table border=\"1\" class=\"dataframe\">\n",
       "  <thead>\n",
       "    <tr style=\"text-align: right;\">\n",
       "      <th></th>\n",
       "      <th>index</th>\n",
       "      <th>textID</th>\n",
       "      <th>text</th>\n",
       "      <th>selected_text</th>\n",
       "      <th>sentiment</th>\n",
       "      <th>document_sentences</th>\n",
       "      <th>tokenized_sentences</th>\n",
       "      <th>tokenized_text</th>\n",
       "      <th>stopwords_removed</th>\n",
       "      <th>lemmatized_text</th>\n",
       "      <th>stemmed_text</th>\n",
       "      <th>bow</th>\n",
       "    </tr>\n",
       "  </thead>\n",
       "  <tbody>\n",
       "    <tr>\n",
       "      <th>0</th>\n",
       "      <td>0</td>\n",
       "      <td>cb774db0d1</td>\n",
       "      <td>i`d have responded, if i were going</td>\n",
       "      <td>I`d have responded, if I were going</td>\n",
       "      <td>neutral</td>\n",
       "      <td>[ i`d have responded, if i were going]</td>\n",
       "      <td>[[i, d, have, responded, if, i, were, going]]</td>\n",
       "      <td>[i, d, have, responded, if, i, were, going]</td>\n",
       "      <td>[responded, going]</td>\n",
       "      <td>[responded, going]</td>\n",
       "      <td>[respond, go]</td>\n",
       "      <td>[(0, 1), (1, 1)]</td>\n",
       "    </tr>\n",
       "    <tr>\n",
       "      <th>1</th>\n",
       "      <td>1</td>\n",
       "      <td>549e992a42</td>\n",
       "      <td>sooo sad i will miss you here in san diego!!!</td>\n",
       "      <td>Sooo SAD</td>\n",
       "      <td>negative</td>\n",
       "      <td>[ sooo sad i will miss you here in san diego!!!]</td>\n",
       "      <td>[[sooo, sad, i, will, miss, you, here, in, san...</td>\n",
       "      <td>[sooo, sad, i, will, miss, you, here, in, san,...</td>\n",
       "      <td>[sooo, sad, miss, san, diego, !, !, !]</td>\n",
       "      <td>[sooo, sad, miss, san, diego, !, !, !]</td>\n",
       "      <td>[sooo, sad, miss, san, diego, !, !, !]</td>\n",
       "      <td>[(2, 3), (3, 1), (4, 1), (5, 1), (6, 1), (7, 1)]</td>\n",
       "    </tr>\n",
       "    <tr>\n",
       "      <th>2</th>\n",
       "      <td>2</td>\n",
       "      <td>088c60f138</td>\n",
       "      <td>my boss is bullying me...</td>\n",
       "      <td>bullying me</td>\n",
       "      <td>negative</td>\n",
       "      <td>[my boss is bullying me, , , ]</td>\n",
       "      <td>[[my, boss, is, bullying, me]]</td>\n",
       "      <td>[my, boss, is, bullying, me]</td>\n",
       "      <td>[boss, bullying]</td>\n",
       "      <td>[bos, bullying]</td>\n",
       "      <td>[bo, bulli]</td>\n",
       "      <td>[(8, 1), (9, 1)]</td>\n",
       "    </tr>\n",
       "    <tr>\n",
       "      <th>3</th>\n",
       "      <td>3</td>\n",
       "      <td>9642c003ef</td>\n",
       "      <td>what interview! leave me alone</td>\n",
       "      <td>leave me alone</td>\n",
       "      <td>negative</td>\n",
       "      <td>[ what interview! leave me alone]</td>\n",
       "      <td>[[what, interview, !, leave, me, alone]]</td>\n",
       "      <td>[what, interview, !, leave, me, alone]</td>\n",
       "      <td>[interview, !, leave, alone]</td>\n",
       "      <td>[interview, !, leave, alone]</td>\n",
       "      <td>[interview, !, leav, alon]</td>\n",
       "      <td>[(2, 1), (10, 1), (11, 1), (12, 1)]</td>\n",
       "    </tr>\n",
       "    <tr>\n",
       "      <th>4</th>\n",
       "      <td>4</td>\n",
       "      <td>358bd9e861</td>\n",
       "      <td>sons of ****, why couldn`t they put them on t...</td>\n",
       "      <td>Sons of ****,</td>\n",
       "      <td>negative</td>\n",
       "      <td>[ sons of ****, why couldn`t they put them on ...</td>\n",
       "      <td>[[sons, of, why, couldn, t, they, put, them, o...</td>\n",
       "      <td>[sons, of, why, couldn, t, they, put, them, on...</td>\n",
       "      <td>[sons, put, releases, already, bought]</td>\n",
       "      <td>[son, put, release, already, bought]</td>\n",
       "      <td>[son, put, releas, alreadi, bought]</td>\n",
       "      <td>[(13, 1), (14, 1), (15, 1), (16, 1), (17, 1)]</td>\n",
       "    </tr>\n",
       "  </tbody>\n",
       "</table>\n",
       "</div>"
      ],
      "text/plain": [
       "   index      textID                                               text  \\\n",
       "0      0  cb774db0d1                i`d have responded, if i were going   \n",
       "1      1  549e992a42      sooo sad i will miss you here in san diego!!!   \n",
       "2      2  088c60f138                          my boss is bullying me...   \n",
       "3      3  9642c003ef                     what interview! leave me alone   \n",
       "4      4  358bd9e861   sons of ****, why couldn`t they put them on t...   \n",
       "\n",
       "                         selected_text sentiment  \\\n",
       "0  I`d have responded, if I were going   neutral   \n",
       "1                             Sooo SAD  negative   \n",
       "2                          bullying me  negative   \n",
       "3                       leave me alone  negative   \n",
       "4                        Sons of ****,  negative   \n",
       "\n",
       "                                  document_sentences  \\\n",
       "0             [ i`d have responded, if i were going]   \n",
       "1   [ sooo sad i will miss you here in san diego!!!]   \n",
       "2                     [my boss is bullying me, , , ]   \n",
       "3                  [ what interview! leave me alone]   \n",
       "4  [ sons of ****, why couldn`t they put them on ...   \n",
       "\n",
       "                                 tokenized_sentences  \\\n",
       "0      [[i, d, have, responded, if, i, were, going]]   \n",
       "1  [[sooo, sad, i, will, miss, you, here, in, san...   \n",
       "2                     [[my, boss, is, bullying, me]]   \n",
       "3           [[what, interview, !, leave, me, alone]]   \n",
       "4  [[sons, of, why, couldn, t, they, put, them, o...   \n",
       "\n",
       "                                      tokenized_text  \\\n",
       "0        [i, d, have, responded, if, i, were, going]   \n",
       "1  [sooo, sad, i, will, miss, you, here, in, san,...   \n",
       "2                       [my, boss, is, bullying, me]   \n",
       "3             [what, interview, !, leave, me, alone]   \n",
       "4  [sons, of, why, couldn, t, they, put, them, on...   \n",
       "\n",
       "                        stopwords_removed  \\\n",
       "0                      [responded, going]   \n",
       "1  [sooo, sad, miss, san, diego, !, !, !]   \n",
       "2                        [boss, bullying]   \n",
       "3            [interview, !, leave, alone]   \n",
       "4  [sons, put, releases, already, bought]   \n",
       "\n",
       "                          lemmatized_text  \\\n",
       "0                      [responded, going]   \n",
       "1  [sooo, sad, miss, san, diego, !, !, !]   \n",
       "2                         [bos, bullying]   \n",
       "3            [interview, !, leave, alone]   \n",
       "4    [son, put, release, already, bought]   \n",
       "\n",
       "                             stemmed_text  \\\n",
       "0                           [respond, go]   \n",
       "1  [sooo, sad, miss, san, diego, !, !, !]   \n",
       "2                             [bo, bulli]   \n",
       "3              [interview, !, leav, alon]   \n",
       "4     [son, put, releas, alreadi, bought]   \n",
       "\n",
       "                                                bow  \n",
       "0                                  [(0, 1), (1, 1)]  \n",
       "1  [(2, 3), (3, 1), (4, 1), (5, 1), (6, 1), (7, 1)]  \n",
       "2                                  [(8, 1), (9, 1)]  \n",
       "3               [(2, 1), (10, 1), (11, 1), (12, 1)]  \n",
       "4     [(13, 1), (14, 1), (15, 1), (16, 1), (17, 1)]  "
      ]
     },
     "execution_count": 10,
     "metadata": {},
     "output_type": "execute_result"
    }
   ],
   "source": [
    "data.head()"
   ]
  },
  {
   "cell_type": "markdown",
   "metadata": {},
   "source": [
    "# LDA model"
   ]
  },
  {
   "cell_type": "code",
   "execution_count": 15,
   "metadata": {},
   "outputs": [],
   "source": [
    "# LDA (training)\n",
    "def training_lda(num_topics, corpus=data.bow, id2word=dictionary):\n",
    "    #A multicore approach to decrease training time\n",
    "    LDAmodel = LdaMulticore(corpus=corpus,\n",
    "                            id2word=id2word,\n",
    "                            num_topics=num_topics,\n",
    "                            workers=4,\n",
    "                            chunksize=2000,\n",
    "                            passes=7,\n",
    "                            alpha='asymmetric')\n",
    "    return LDAmodel\n",
    "\n",
    "# LDA topic inspection\n",
    "def document_to_lda_features(lda_model, document):\n",
    "    \"\"\" Transforms a bag of words document to features.\n",
    "    It returns the proportion of how much each topic was\n",
    "    present in the document.\n",
    "    \"\"\"\n",
    "    topic_importances = lda_model.get_document_topics(document, minimum_probability=0)\n",
    "    topic_importances = np.array(topic_importances)\n",
    "    return topic_importances[:,1]"
   ]
  },
  {
   "cell_type": "markdown",
   "metadata": {},
   "source": [
    "# Plot funcion"
   ]
  },
  {
   "cell_type": "code",
   "execution_count": 12,
   "metadata": {},
   "outputs": [],
   "source": [
    "def ploting_topics_distributions(pos_topic_dist, neg_topic_dist, neu_topic_dis, *, num_topics, ylim=0.06,):\n",
    "    fig, [ax1,ax2,ax3] = plt.subplots(3,1,figsize=(20,15))\n",
    "\n",
    "    nr_top_bars = 5\n",
    "    ax1.set_title(\"Pos sentiment distributions\", fontsize=16)\n",
    "    ax2.set_title(\"Neg sentiment distributions\", fontsize=16)\n",
    "    ax3.set_title(\"Neu sentiment distributions\", fontsize=16)\n",
    "    ax3.text(-10, 0.04, \"Average Probability of Topic\", fontsize=30, ha=\"center\", va=\"center\",\n",
    "             rotation=\"vertical\")\n",
    "\n",
    "    for ax, distribution, color in zip([ax1,ax2,ax3],\n",
    "                                   [pos_topic_dist,neg_topic_dist,neu_topic_dis],\n",
    "                                   ['b','g','r']):\n",
    "        # Individual distribution barplots\n",
    "        ax.bar(range(len(distribution)), distribution, alpha=0.7)\n",
    "        rects = ax.patches\n",
    "        for i in np.argsort(distribution)[-nr_top_bars:]:\n",
    "            rects[i].set_color(color)\n",
    "            rects[i].set_alpha(1)\n",
    "        # General plotting adjustments\n",
    "        ax.set_xlim(-1, 50)\n",
    "        ax.set_xticks(range(0, num_topics+1, 5))\n",
    "        ax.set_xticklabels(range(0,num_topics+1, 5), fontsize=16)\n",
    "        ax.set_ylim(0,ylim)\n",
    "        ax.set_yticks([0,ylim/2,ylim])\n",
    "        ax.set_yticklabels([0,ylim/2,ylim], fontsize=16)\n",
    "\n",
    "        fig.tight_layout(h_pad=3.)\n"
   ]
  },
  {
   "cell_type": "markdown",
   "metadata": {},
   "source": [
    "## Analysing for 100 of topics"
   ]
  },
  {
   "cell_type": "code",
   "execution_count": 16,
   "metadata": {},
   "outputs": [],
   "source": [
    "LDAmodel100 = training_lda(num_topics = 100)\n",
    "\n",
    "data['lda_features100'] = list(map(\n",
    "    lambda doc: document_to_lda_features(LDAmodel100, doc),\n",
    "    data.bow))"
   ]
  },
  {
   "cell_type": "markdown",
   "metadata": {},
   "source": [
    "### Topics distribution"
   ]
  },
  {
   "cell_type": "markdown",
   "metadata": {},
   "source": [
    "How to read the plot:\n",
    "- x axes num topics classified from 0 to topics analysed\n",
    "- y axes the probability of the topic found in data for the specific sentiment\n",
    "- ideally high probabilities across sentiments shoun't match same topic. If so it would suggest diff to forecast those topic observations"
   ]
  },
  {
   "cell_type": "code",
   "execution_count": 17,
   "metadata": {},
   "outputs": [
    {
     "name": "stderr",
     "output_type": "stream",
     "text": [
      "C:\\Users\\Elia\\AppData\\Roaming\\Python\\Python37\\site-packages\\ipykernel_launcher.py:28: UserWarning: Tight layout not applied. The left and right margins cannot be made large enough to accommodate all axes decorations. \n"
     ]
    },
    {
     "data": {
      "image/png": "[encoded data removed]",
      "text/plain": [
       "<Figure size 1440x1080 with 3 Axes>"
      ]
     },
     "metadata": {
      "needs_background": "light"
     },
     "output_type": "display_data"
    }
   ],
   "source": [
    "pos_top_dist = data.loc[data.sentiment == 'positive', 'lda_features100'].mean()\n",
    "neg_top_dist = data.loc[data.sentiment == 'negative', 'lda_features100'].mean()\n",
    "neu_top_dist = data.loc[data.sentiment == 'neutral', 'lda_features100'].mean()\n",
    "ploting_topics_distributions(pos_top_dist, neg_top_dist, neu_top_dist, num_topics=100)"
   ]
  },
  {
   "cell_type": "markdown",
   "metadata": {},
   "source": [
    "## Analysing for 60 of topics"
   ]
  },
  {
   "cell_type": "code",
   "execution_count": 18,
   "metadata": {},
   "outputs": [],
   "source": [
    "LDAmodel60 = training_lda(num_topics = 60)\n",
    "\n",
    "data['lda_features60'] = list(map(\n",
    "    lambda doc: document_to_lda_features(LDAmodel60, doc),\n",
    "    data.bow))"
   ]
  },
  {
   "cell_type": "markdown",
   "metadata": {},
   "source": [
    "### Topics distribution"
   ]
  },
  {
   "cell_type": "code",
   "execution_count": 19,
   "metadata": {},
   "outputs": [
    {
     "name": "stderr",
     "output_type": "stream",
     "text": [
      "C:\\Users\\Elia\\AppData\\Roaming\\Python\\Python37\\site-packages\\ipykernel_launcher.py:28: UserWarning: Tight layout not applied. The left and right margins cannot be made large enough to accommodate all axes decorations. \n"
     ]
    },
    {
     "data": {
      "image/png": "[encoded data removed]",
      "text/plain": [
       "<Figure size 1440x1080 with 3 Axes>"
      ]
     },
     "metadata": {
      "needs_background": "light"
     },
     "output_type": "display_data"
    }
   ],
   "source": [
    "pos_top_dist = data.loc[data.sentiment == 'positive', 'lda_features60'].mean()\n",
    "neg_top_dist = data.loc[data.sentiment == 'negative', 'lda_features60'].mean()\n",
    "neu_top_dist = data.loc[data.sentiment == 'neutral', 'lda_features60'].mean()\n",
    "ploting_topics_distributions(pos_top_dist, neg_top_dist, neu_top_dist, num_topics=60, ylim=0.09)"
   ]
  },
  {
   "cell_type": "code",
   "execution_count": null,
   "metadata": {},
   "outputs": [],
   "source": []
  }
 ],
 "metadata": {
  "kernelspec": {
   "display_name": "Python 3",
   "language": "python",
   "name": "python3"
  },
  "language_info": {
   "codemirror_mode": {
    "name": "ipython",
    "version": 3
   },
   "file_extension": ".py",
   "mimetype": "text/x-python",
   "name": "python",
   "nbconvert_exporter": "python",
   "pygments_lexer": "ipython3",
   "version": "3.7.0"
  }
 },
 "nbformat": 4,
 "nbformat_minor": 4
}
