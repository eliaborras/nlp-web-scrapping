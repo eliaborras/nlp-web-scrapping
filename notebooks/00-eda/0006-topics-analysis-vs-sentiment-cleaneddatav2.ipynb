{
 "cells": [
  {
   "cell_type": "markdown",
   "metadata": {},
   "source": [
    "# Contents"
   ]
  },
  {
   "cell_type": "markdown",
   "metadata": {},
   "source": [
    "* Probability distributions seems to discern a bit. \n",
    "* There are some small overlapings could be due to the number of topics choseen .\n",
    "* Not sure whether word embedings can perform well on our \"two short\" sentences. \n",
    "* Looking at the topics seem common words appear across al topics and just one or two differ"
   ]
  },
  {
   "cell_type": "markdown",
   "metadata": {},
   "source": [
    "# Setup"
   ]
  },
  {
   "cell_type": "code",
   "execution_count": 17,
   "metadata": {},
   "outputs": [],
   "source": [
    "import re\n",
    "from collections import Counter\n",
    "import pandas as pd\n",
    "import numpy as np\n",
    "import gensim\n",
    "from gensim.models.ldamulticore import LdaMulticore\n",
    "import nltk\n",
    "import matplotlib.pyplot as plt"
   ]
  },
  {
   "cell_type": "markdown",
   "metadata": {},
   "source": [
    "# Raw dataset"
   ]
  },
  {
   "cell_type": "code",
   "execution_count": 18,
   "metadata": {},
   "outputs": [],
   "source": [
    "data = pd.read_csv('../../data/processed/cleanedDataV2.csv')"
   ]
  },
  {
   "cell_type": "code",
   "execution_count": 19,
   "metadata": {},
   "outputs": [
    {
     "data": {
      "text/html": [
       "<div>\n",
       "<style scoped>\n",
       "    .dataframe tbody tr th:only-of-type {\n",
       "        vertical-align: middle;\n",
       "    }\n",
       "\n",
       "    .dataframe tbody tr th {\n",
       "        vertical-align: top;\n",
       "    }\n",
       "\n",
       "    .dataframe thead th {\n",
       "        text-align: right;\n",
       "    }\n",
       "</style>\n",
       "<table border=\"1\" class=\"dataframe\">\n",
       "  <thead>\n",
       "    <tr style=\"text-align: right;\">\n",
       "      <th></th>\n",
       "      <th>textID</th>\n",
       "      <th>text</th>\n",
       "      <th>sentiment</th>\n",
       "    </tr>\n",
       "  </thead>\n",
       "  <tbody>\n",
       "    <tr>\n",
       "      <th>0</th>\n",
       "      <td>cb774db0d1</td>\n",
       "      <td>['respond', 'go']</td>\n",
       "      <td>neutral</td>\n",
       "    </tr>\n",
       "    <tr>\n",
       "      <th>1</th>\n",
       "      <td>549e992a42</td>\n",
       "      <td>['sad', 'miss']</td>\n",
       "      <td>negative</td>\n",
       "    </tr>\n",
       "    <tr>\n",
       "      <th>2</th>\n",
       "      <td>088c60f138</td>\n",
       "      <td>['boss', 'bully']</td>\n",
       "      <td>negative</td>\n",
       "    </tr>\n",
       "    <tr>\n",
       "      <th>3</th>\n",
       "      <td>9642c003ef</td>\n",
       "      <td>['interview', 'leave', 'alone']</td>\n",
       "      <td>negative</td>\n",
       "    </tr>\n",
       "    <tr>\n",
       "      <th>4</th>\n",
       "      <td>358bd9e861</td>\n",
       "      <td>['son', 'put', 'release', 'already', 'buy']</td>\n",
       "      <td>negative</td>\n",
       "    </tr>\n",
       "  </tbody>\n",
       "</table>\n",
       "</div>"
      ],
      "text/plain": [
       "       textID                                         text sentiment\n",
       "0  cb774db0d1                            ['respond', 'go']   neutral\n",
       "1  549e992a42                              ['sad', 'miss']  negative\n",
       "2  088c60f138                            ['boss', 'bully']  negative\n",
       "3  9642c003ef              ['interview', 'leave', 'alone']  negative\n",
       "4  358bd9e861  ['son', 'put', 'release', 'already', 'buy']  negative"
      ]
     },
     "execution_count": 19,
     "metadata": {},
     "output_type": "execute_result"
    }
   ],
   "source": [
    "data.head()"
   ]
  },
  {
   "cell_type": "code",
   "execution_count": 20,
   "metadata": {},
   "outputs": [],
   "source": [
    "data = data.dropna().reset_index()"
   ]
  },
  {
   "cell_type": "code",
   "execution_count": 21,
   "metadata": {},
   "outputs": [
    {
     "data": {
      "text/plain": [
       "index        0\n",
       "textID       0\n",
       "text         0\n",
       "sentiment    0\n",
       "dtype: int64"
      ]
     },
     "execution_count": 21,
     "metadata": {},
     "output_type": "execute_result"
    }
   ],
   "source": [
    "data.isnull().sum()"
   ]
  },
  {
   "cell_type": "markdown",
   "metadata": {},
   "source": [
    "# Parse data"
   ]
  },
  {
   "cell_type": "code",
   "execution_count": 22,
   "metadata": {},
   "outputs": [],
   "source": [
    "#Convert list of tokens to string\n",
    "list_corpus = []\n",
    "for sentence in data['text']:\n",
    "    tokens = sentence.replace(\"[\",\"\").replace(\"]\",\"\").replace(\"'\",\"\").replace(\",\",\"\")\n",
    "    list_corpus.append(tokens)\n",
    "data['text'] = list_corpus"
   ]
  },
  {
   "cell_type": "code",
   "execution_count": 23,
   "metadata": {},
   "outputs": [],
   "source": [
    "data['text'] = data.text.apply(lambda x: x.split(' '))"
   ]
  },
  {
   "cell_type": "markdown",
   "metadata": {},
   "source": [
    "## Vectorize words"
   ]
  },
  {
   "cell_type": "code",
   "execution_count": 29,
   "metadata": {},
   "outputs": [],
   "source": [
    "def document_to_bow(df, column):\n",
    "    # create dict\n",
    "    dictionary = gensim.corpora.Dictionary(df[column])\n",
    "    print(dictionary)\n",
    "    # filtering low count \n",
    "    dictionary.filter_extremes(no_above=0.8, no_below=3)\n",
    "    # Reindexes the remaining words after filtering \n",
    "    dictionary.compactify()\n",
    "    print(\"Left with {} words.\".format(len(dictionary.values())))\n",
    "    # Make a BOW for every document\n",
    "    df['bow'] = list(map(lambda doc: dictionary.doc2bow(doc), df[column]))\n",
    "    return dictionary"
   ]
  },
  {
   "cell_type": "code",
   "execution_count": 30,
   "metadata": {},
   "outputs": [
    {
     "name": "stdout",
     "output_type": "stream",
     "text": [
      "Dictionary(9652 unique tokens: ['go', 'respond', 'miss', 'sad', 'boss']...)\n",
      "Left with 4116 words.\n"
     ]
    },
    {
     "data": {
      "text/html": [
       "<div>\n",
       "<style scoped>\n",
       "    .dataframe tbody tr th:only-of-type {\n",
       "        vertical-align: middle;\n",
       "    }\n",
       "\n",
       "    .dataframe tbody tr th {\n",
       "        vertical-align: top;\n",
       "    }\n",
       "\n",
       "    .dataframe thead th {\n",
       "        text-align: right;\n",
       "    }\n",
       "</style>\n",
       "<table border=\"1\" class=\"dataframe\">\n",
       "  <thead>\n",
       "    <tr style=\"text-align: right;\">\n",
       "      <th></th>\n",
       "      <th>index</th>\n",
       "      <th>textID</th>\n",
       "      <th>text</th>\n",
       "      <th>sentiment</th>\n",
       "      <th>bow</th>\n",
       "    </tr>\n",
       "  </thead>\n",
       "  <tbody>\n",
       "    <tr>\n",
       "      <th>0</th>\n",
       "      <td>0</td>\n",
       "      <td>cb774db0d1</td>\n",
       "      <td>[respond, go]</td>\n",
       "      <td>neutral</td>\n",
       "      <td>[(0, 1), (1, 1)]</td>\n",
       "    </tr>\n",
       "    <tr>\n",
       "      <th>1</th>\n",
       "      <td>1</td>\n",
       "      <td>549e992a42</td>\n",
       "      <td>[sad, miss]</td>\n",
       "      <td>negative</td>\n",
       "      <td>[(2, 1), (3, 1)]</td>\n",
       "    </tr>\n",
       "    <tr>\n",
       "      <th>2</th>\n",
       "      <td>2</td>\n",
       "      <td>088c60f138</td>\n",
       "      <td>[boss, bully]</td>\n",
       "      <td>negative</td>\n",
       "      <td>[(4, 1), (5, 1)]</td>\n",
       "    </tr>\n",
       "    <tr>\n",
       "      <th>3</th>\n",
       "      <td>3</td>\n",
       "      <td>9642c003ef</td>\n",
       "      <td>[interview, leave, alone]</td>\n",
       "      <td>negative</td>\n",
       "      <td>[(6, 1), (7, 1), (8, 1)]</td>\n",
       "    </tr>\n",
       "    <tr>\n",
       "      <th>4</th>\n",
       "      <td>4</td>\n",
       "      <td>358bd9e861</td>\n",
       "      <td>[son, put, release, already, buy]</td>\n",
       "      <td>negative</td>\n",
       "      <td>[(9, 1), (10, 1), (11, 1), (12, 1), (13, 1)]</td>\n",
       "    </tr>\n",
       "  </tbody>\n",
       "</table>\n",
       "</div>"
      ],
      "text/plain": [
       "   index      textID                               text sentiment  \\\n",
       "0      0  cb774db0d1                      [respond, go]   neutral   \n",
       "1      1  549e992a42                        [sad, miss]  negative   \n",
       "2      2  088c60f138                      [boss, bully]  negative   \n",
       "3      3  9642c003ef          [interview, leave, alone]  negative   \n",
       "4      4  358bd9e861  [son, put, release, already, buy]  negative   \n",
       "\n",
       "                                            bow  \n",
       "0                              [(0, 1), (1, 1)]  \n",
       "1                              [(2, 1), (3, 1)]  \n",
       "2                              [(4, 1), (5, 1)]  \n",
       "3                      [(6, 1), (7, 1), (8, 1)]  \n",
       "4  [(9, 1), (10, 1), (11, 1), (12, 1), (13, 1)]  "
      ]
     },
     "execution_count": 30,
     "metadata": {},
     "output_type": "execute_result"
    }
   ],
   "source": [
    "dictionary = document_to_bow(data, 'text')\n",
    "data.head()"
   ]
  },
  {
   "cell_type": "markdown",
   "metadata": {},
   "source": [
    "## LDA model"
   ]
  },
  {
   "cell_type": "code",
   "execution_count": 31,
   "metadata": {},
   "outputs": [],
   "source": [
    "# LDA (training)\n",
    "def training_lda(num_topics, corpus=data.bow, id2word=dictionary):\n",
    "    #A multicore approach to decrease training time\n",
    "    LDAmodel = LdaMulticore(corpus=corpus,\n",
    "                            id2word=id2word,\n",
    "                            num_topics=num_topics,\n",
    "                            workers=4,\n",
    "                            chunksize=2000,\n",
    "                            passes=7,\n",
    "                            alpha='asymmetric')\n",
    "    return LDAmodel\n",
    "\n",
    "# LDA topic inspection\n",
    "def document_to_lda_features(lda_model, document):\n",
    "    \"\"\" Transforms a bag of words document to features.\n",
    "    It returns the proportion of how much each topic was\n",
    "    present in the document.\n",
    "    \"\"\"\n",
    "    topic_importances = lda_model.get_document_topics(document, minimum_probability=0)\n",
    "    topic_importances = np.array(topic_importances)\n",
    "    return topic_importances[:,1]"
   ]
  },
  {
   "cell_type": "markdown",
   "metadata": {},
   "source": [
    "# Plot funcion"
   ]
  },
  {
   "cell_type": "code",
   "execution_count": 32,
   "metadata": {},
   "outputs": [],
   "source": [
    "def ploting_topics_distributions(pos_topic_dist, neg_topic_dist, neu_topic_dis, *, num_topics, ylim=0.06,):\n",
    "    fig, [ax1,ax2,ax3] = plt.subplots(3,1,figsize=(20,15))\n",
    "\n",
    "    nr_top_bars = 5\n",
    "    ax1.set_title(\"Pos sentiment distributions\", fontsize=16)\n",
    "    ax2.set_title(\"Neg sentiment distributions\", fontsize=16)\n",
    "    ax3.set_title(\"Neu sentiment distributions\", fontsize=16)\n",
    "    ax3.text(-10, 0.04, \"Average Probability of Topic\", fontsize=30, ha=\"center\", va=\"center\",\n",
    "             rotation=\"vertical\")\n",
    "\n",
    "    for ax, distribution, color in zip([ax1,ax2,ax3],\n",
    "                                   [pos_topic_dist,neg_topic_dist,neu_topic_dis],\n",
    "                                   ['b','g','r']):\n",
    "        # Individual distribution barplots\n",
    "        ax.bar(range(len(distribution)), distribution, alpha=0.7)\n",
    "        rects = ax.patches\n",
    "        for i in np.argsort(distribution)[-nr_top_bars:]:\n",
    "            rects[i].set_color(color)\n",
    "            rects[i].set_alpha(1)\n",
    "        # General plotting adjustments\n",
    "        ax.set_xlim(-1, 50)\n",
    "        ax.set_xticks(range(0, num_topics+1, 5))\n",
    "        ax.set_xticklabels(range(0,num_topics+1, 5), fontsize=16)\n",
    "        ax.set_ylim(0,ylim)\n",
    "        ax.set_yticks([0,ylim/2,ylim])\n",
    "        ax.set_yticklabels([0,ylim/2,ylim], fontsize=16)\n",
    "\n",
    "        fig.tight_layout(h_pad=3.)\n"
   ]
  },
  {
   "cell_type": "markdown",
   "metadata": {},
   "source": [
    "# LDA topic inspection"
   ]
  },
  {
   "cell_type": "code",
   "execution_count": 33,
   "metadata": {},
   "outputs": [],
   "source": [
    "LDAmodel100 = training_lda(num_topics = 100)\n",
    "\n",
    "data['lda_features100'] = list(map(\n",
    "    lambda doc: document_to_lda_features(LDAmodel100, doc),\n",
    "    data.bow))"
   ]
  },
  {
   "cell_type": "markdown",
   "metadata": {},
   "source": [
    "## Topics distribution"
   ]
  },
  {
   "cell_type": "code",
   "execution_count": 35,
   "metadata": {},
   "outputs": [
    {
     "name": "stderr",
     "output_type": "stream",
     "text": [
      "C:\\Users\\Elia\\AppData\\Roaming\\Python\\Python37\\site-packages\\ipykernel_launcher.py:28: UserWarning: Tight layout not applied. The left and right margins cannot be made large enough to accommodate all axes decorations. \n"
     ]
    },
    {
     "data": {
      "image/png": "[encoded data removed]",
      "text/plain": [
       "<Figure size 1440x1080 with 3 Axes>"
      ]
     },
     "metadata": {
      "needs_background": "light"
     },
     "output_type": "display_data"
    }
   ],
   "source": [
    "pos_top_dist = data.loc[data.sentiment == 'positive', 'lda_features100'].mean()\n",
    "neg_top_dist = data.loc[data.sentiment == 'negative', 'lda_features100'].mean()\n",
    "neu_top_dist = data.loc[data.sentiment == 'neutral', 'lda_features100'].mean()\n",
    "ploting_topics_distributions(pos_top_dist, neg_top_dist, neu_top_dist, num_topics=100)"
   ]
  },
  {
   "cell_type": "markdown",
   "metadata": {},
   "source": [
    "# Printing topics found"
   ]
  },
  {
   "cell_type": "code",
   "execution_count": 36,
   "metadata": {},
   "outputs": [
    {
     "name": "stdout",
     "output_type": "stream",
     "text": [
      "0: 0.024*\"not\" + 0.020*\"get\" + 0.017*\"go\" + 0.016*\"background\" + 0.016*\"new\" + 0.014*\"blast\" + 0.014*\"angry\" + 0.012*\"horror\" + 0.012*\"ran\" + 0.012*\"idiot\"\n",
      "\n",
      "1: 0.019*\"apps\" + 0.019*\"like\" + 0.018*\"awe\" + 0.016*\"need\" + 0.012*\"crave\" + 0.012*\"get\" + 0.012*\"much\" + 0.012*\"central\" + 0.012*\"butter\" + 0.011*\"today\"\n",
      "\n",
      "2: 0.028*\"congratulation\" + 0.021*\"bummer\" + 0.021*\"time\" + 0.020*\"today\" + 0.020*\"like\" + 0.019*\"get\" + 0.017*\"kitchen\" + 0.017*\"bio\" + 0.016*\"rite\" + 0.015*\"cleaning\"\n",
      "\n",
      "3: 0.039*\"depress\" + 0.039*\"not\" + 0.035*\"kick\" + 0.022*\"like\" + 0.021*\"know\" + 0.018*\"sent\" + 0.017*\"good\" + 0.016*\"base\" + 0.016*\"escape\" + 0.016*\"mon\"\n",
      "\n",
      "4: 0.027*\"make\" + 0.026*\"milk\" + 0.026*\"get\" + 0.025*\"consider\" + 0.023*\"thru\" + 0.020*\"time\" + 0.017*\"buddy\" + 0.017*\"lack\" + 0.017*\"snap\" + 0.017*\"swear\"\n",
      "\n",
      "5: 0.039*\"indeed\" + 0.034*\"blah\" + 0.020*\"laundry\" + 0.020*\"positive\" + 0.019*\"freeze\" + 0.017*\"need\" + 0.016*\"hurry\" + 0.016*\"typical\" + 0.015*\"replace\" + 0.015*\"today\"\n",
      "\n",
      "6: 0.033*\"marry\" + 0.028*\"daddy\" + 0.027*\"pas\" + 0.025*\"longer\" + 0.024*\"weight\" + 0.023*\"migraine\" + 0.021*\"oops\" + 0.020*\"pro\" + 0.019*\"sway\" + 0.019*\"go\"\n",
      "\n",
      "7: 0.190*\"man\" + 0.031*\"black\" + 0.026*\"like\" + 0.025*\"rip\" + 0.025*\"get\" + 0.022*\"law\" + 0.020*\"freak\" + 0.019*\"bottle\" + 0.016*\"throw\" + 0.015*\"price\"\n",
      "\n",
      "8: 0.073*\"sadly\" + 0.053*\"none\" + 0.045*\"get\" + 0.039*\"degree\" + 0.037*\"fire\" + 0.028*\"ahead\" + 0.027*\"chick\" + 0.024*\"hes\" + 0.019*\"root\" + 0.018*\"literally\"\n",
      "\n",
      "9: 0.068*\"yep\" + 0.059*\"horrible\" + 0.053*\"agree\" + 0.040*\"felt\" + 0.034*\"single\" + 0.033*\"nobody\" + 0.031*\"future\" + 0.030*\"cough\" + 0.026*\"manage\" + 0.023*\"lately\"\n",
      "\n",
      "10: 0.087*\"blip\" + 0.068*\"town\" + 0.046*\"middle\" + 0.037*\"spell\" + 0.028*\"view\" + 0.023*\"time\" + 0.022*\"coast\" + 0.020*\"here\" + 0.019*\"200\" + 0.016*\"avoid\"\n",
      "\n",
      "11: 0.059*\"different\" + 0.057*\"ride\" + 0.053*\"cheese\" + 0.045*\"get\" + 0.042*\"stuck\" + 0.037*\"quote\" + 0.034*\"mention\" + 0.022*\"bathroom\" + 0.022*\"island\" + 0.019*\"watching\"\n",
      "\n",
      "12: 0.079*\"tea\" + 0.064*\"stand\" + 0.057*\"fell\" + 0.051*\"daughter\" + 0.048*\"finger\" + 0.032*\"piece\" + 0.031*\"toe\" + 0.029*\"not\" + 0.027*\"sugar\" + 0.027*\"private\"\n",
      "\n",
      "13: 0.066*\"load\" + 0.049*\"non\" + 0.043*\"yummy\" + 0.032*\"match\" + 0.031*\"not\" + 0.029*\"board\" + 0.025*\"system\" + 0.024*\"make\" + 0.024*\"force\" + 0.021*\"regret\"\n",
      "\n",
      "14: 0.127*\"word\" + 0.048*\"cross\" + 0.045*\"jay\" + 0.041*\"host\" + 0.032*\"neck\" + 0.031*\"even\" + 0.031*\"finger\" + 0.031*\"terrible\" + 0.030*\"click\" + 0.029*\"sims\"\n",
      "\n",
      "15: 0.139*\"class\" + 0.047*\"cousin\" + 0.034*\"hospital\" + 0.034*\"french\" + 0.026*\"build\" + 0.024*\"today\" + 0.023*\"type\" + 0.023*\"client\" + 0.021*\"fake\" + 0.021*\"begin\"\n",
      "\n",
      "16: 0.101*\"woke\" + 0.048*\"tip\" + 0.047*\"leg\" + 0.031*\"character\" + 0.029*\"result\" + 0.027*\"driver\" + 0.025*\"magic\" + 0.024*\"happens\" + 0.021*\"surely\" + 0.021*\"entertain\"\n",
      "\n",
      "17: 0.177*\"still\" + 0.069*\"dear\" + 0.061*\"sign\" + 0.035*\"sexy\" + 0.027*\"entire\" + 0.026*\"land\" + 0.022*\"not\" + 0.020*\"tune\" + 0.019*\"need\" + 0.019*\"get\"\n",
      "\n",
      "18: 0.058*\"guitar\" + 0.052*\"box\" + 0.045*\"lesson\" + 0.045*\"others\" + 0.036*\"get\" + 0.036*\"channel\" + 0.035*\"history\" + 0.034*\"five\" + 0.028*\"button\" + 0.027*\"tree\"\n",
      "\n",
      "19: 0.188*\"mean\" + 0.184*\"big\" + 0.037*\"stress\" + 0.028*\"waste\" + 0.028*\"speak\" + 0.028*\"not\" + 0.025*\"know\" + 0.021*\"voice\" + 0.016*\"even\" + 0.016*\"energy\"\n",
      "\n",
      "20: 0.149*\"many\" + 0.040*\"not\" + 0.034*\"cooky\" + 0.031*\"trouble\" + 0.027*\"simple\" + 0.024*\"midnight\" + 0.023*\"senior\" + 0.022*\"assignment\" + 0.020*\"situation\" + 0.020*\"fault\"\n",
      "\n",
      "21: 0.362*\"long\" + 0.071*\"time\" + 0.067*\"need\" + 0.046*\"boyfriend\" + 0.035*\"crash\" + 0.033*\"officially\" + 0.030*\"tummy\" + 0.029*\"go\" + 0.026*\"third\" + 0.023*\"gig\"\n",
      "\n",
      "22: 0.364*\"sad\" + 0.079*\"hang\" + 0.052*\"lady\" + 0.043*\"make\" + 0.038*\"weird\" + 0.032*\"net\" + 0.029*\"min\" + 0.023*\"tear\" + 0.021*\"get\" + 0.021*\"drag\"\n",
      "\n",
      "23: 0.492*\"home\" + 0.091*\"get\" + 0.061*\"kill\" + 0.038*\"back\" + 0.024*\"round\" + 0.019*\"everyday\" + 0.015*\"front\" + 0.015*\"thing\" + 0.015*\"time\" + 0.014*\"log\"\n",
      "\n",
      "24: 0.162*\"later\" + 0.114*\"catch\" + 0.042*\"appreciate\" + 0.039*\"power\" + 0.036*\"key\" + 0.029*\"need\" + 0.026*\"favourite\" + 0.026*\"get\" + 0.025*\"hilarious\" + 0.025*\"back\"\n",
      "\n",
      "25: 0.427*\"say\" + 0.071*\"amaze\" + 0.035*\"thing\" + 0.027*\"small\" + 0.025*\"cant\" + 0.024*\"know\" + 0.021*\"wife\" + 0.018*\"not\" + 0.018*\"think\" + 0.017*\"like\"\n",
      "\n",
      "26: 0.193*\"finish\" + 0.049*\"burn\" + 0.048*\"state\" + 0.042*\"chill\" + 0.037*\"twilight\" + 0.037*\"peace\" + 0.035*\"wolverine\" + 0.031*\"everywhere\" + 0.029*\"awful\" + 0.023*\"reading\"\n",
      "\n",
      "27: 0.265*\"yeah\" + 0.074*\"ago\" + 0.056*\"suppose\" + 0.056*\"half\" + 0.044*\"three\" + 0.038*\"sunny\" + 0.028*\"hun\" + 0.026*\"hold\" + 0.026*\"heat\" + 0.026*\"ate\"\n",
      "\n",
      "28: 0.304*\"night\" + 0.234*\"last\" + 0.131*\"tweet\" + 0.027*\"ice\" + 0.026*\"upset\" + 0.025*\"laugh\" + 0.021*\"cream\" + 0.016*\"go\" + 0.014*\"lame\" + 0.013*\"along\"\n",
      "\n",
      "29: 0.179*\"must\" + 0.077*\"chocolate\" + 0.070*\"forgot\" + 0.056*\"yum\" + 0.041*\"fill\" + 0.041*\"lazy\" + 0.039*\"left\" + 0.032*\"bang\" + 0.027*\"gross\" + 0.027*\"area\"\n",
      "\n",
      "30: 0.252*\"great\" + 0.177*\"friend\" + 0.172*\"weekend\" + 0.030*\"hope\" + 0.028*\"wonderful\" + 0.025*\"good\" + 0.024*\"best\" + 0.023*\"ouch\" + 0.020*\"well\" + 0.019*\"today\"\n",
      "\n",
      "31: 0.244*\"do\" + 0.055*\"get\" + 0.044*\"pool\" + 0.035*\"cup\" + 0.033*\"boring\" + 0.033*\"thinking\" + 0.030*\"swim\" + 0.029*\"go\" + 0.025*\"kitty\" + 0.023*\"ocean\"\n",
      "\n",
      "32: 0.117*\"without\" + 0.103*\"ask\" + 0.090*\"rock\" + 0.090*\"fail\" + 0.059*\"smile\" + 0.040*\"note\" + 0.033*\"notice\" + 0.029*\"not\" + 0.028*\"smell\" + 0.028*\"step\"\n",
      "\n",
      "33: 0.343*\"sleep\" + 0.063*\"face\" + 0.060*\"part\" + 0.043*\"get\" + 0.040*\"cant\" + 0.038*\"train\" + 0.029*\"time\" + 0.023*\"kiss\" + 0.023*\"need\" + 0.022*\"quick\"\n",
      "\n",
      "34: 0.211*\"listen\" + 0.146*\"hair\" + 0.069*\"number\" + 0.052*\"english\" + 0.040*\"get\" + 0.032*\"blow\" + 0.027*\"delete\" + 0.026*\"fever\" + 0.024*\"perform\" + 0.020*\"cut\"\n",
      "\n",
      "35: 0.152*\"enjoy\" + 0.106*\"book\" + 0.097*\"close\" + 0.091*\"funny\" + 0.041*\"date\" + 0.037*\"light\" + 0.028*\"shirt\" + 0.024*\"although\" + 0.024*\"not\" + 0.023*\"like\"\n",
      "\n",
      "36: 0.372*\"wish\" + 0.132*\"would\" + 0.032*\"make\" + 0.029*\"team\" + 0.024*\"want\" + 0.022*\"matter\" + 0.022*\"bike\" + 0.020*\"goodbye\" + 0.018*\"go\" + 0.018*\"sale\"\n",
      "\n",
      "37: 0.456*\"fun\" + 0.107*\"much\" + 0.046*\"especially\" + 0.043*\"sunshine\" + 0.039*\"babe\" + 0.024*\"hope\" + 0.016*\"hotel\" + 0.015*\"plant\" + 0.015*\"fab\" + 0.015*\"burger\"\n",
      "\n",
      "38: 0.632*\"love\" + 0.123*\"cool\" + 0.020*\"return\" + 0.020*\"much\" + 0.017*\"remind\" + 0.016*\"interest\" + 0.012*\"info\" + 0.012*\"know\" + 0.010*\"mix\" + 0.010*\"make\"\n",
      "\n",
      "39: 0.169*\"always\" + 0.160*\"song\" + 0.070*\"super\" + 0.034*\"shoe\" + 0.033*\"traffic\" + 0.031*\"new\" + 0.030*\"download\" + 0.026*\"version\" + 0.024*\"homework\" + 0.024*\"make\"\n",
      "\n",
      "40: 0.291*\"morning\" + 0.198*\"good\" + 0.042*\"one\" + 0.029*\"hope\" + 0.029*\"cake\" + 0.022*\"100\" + 0.020*\"today\" + 0.020*\"sort\" + 0.018*\"co\" + 0.018*\"pass\"\n",
      "\n",
      "41: 0.247*\"nice\" + 0.152*\"please\" + 0.113*\"bore\" + 0.080*\"change\" + 0.079*\"drive\" + 0.025*\"get\" + 0.025*\"college\" + 0.022*\"want\" + 0.020*\"puppy\" + 0.018*\"ton\"\n",
      "\n",
      "42: 0.177*\"head\" + 0.106*\"cry\" + 0.056*\"save\" + 0.054*\"true\" + 0.050*\"link\" + 0.045*\"shower\" + 0.038*\"unfortunately\" + 0.030*\"band\" + 0.029*\"beat\" + 0.028*\"shot\"\n",
      "\n",
      "43: 0.136*\"job\" + 0.109*\"new\" + 0.107*\"since\" + 0.066*\"thought\" + 0.056*\"pay\" + 0.043*\"course\" + 0.039*\"get\" + 0.031*\"lay\" + 0.029*\"want\" + 0.029*\"meeting\"\n",
      "\n",
      "44: 0.257*\"thanks\" + 0.135*\"hey\" + 0.098*\"something\" + 0.098*\"ready\" + 0.079*\"get\" + 0.038*\"hopefully\" + 0.037*\"mommy\" + 0.022*\"easy\" + 0.021*\"chat\" + 0.017*\"know\"\n",
      "\n",
      "45: 0.290*\"back\" + 0.093*\"he\" + 0.080*\"stupid\" + 0.062*\"get\" + 0.053*\"bring\" + 0.041*\"season\" + 0.032*\"go\" + 0.029*\"shopping\" + 0.027*\"white\" + 0.027*\"bum\"\n",
      "\n",
      "46: 0.408*\"miss\" + 0.122*\"never\" + 0.079*\"lose\" + 0.041*\"trip\" + 0.041*\"boo\" + 0.032*\"learn\" + 0.022*\"sell\" + 0.022*\"near\" + 0.020*\"age\" + 0.018*\"back\"\n",
      "\n",
      "47: 0.118*\"help\" + 0.101*\"birthday\" + 0.077*\"enough\" + 0.055*\"try\" + 0.054*\"else\" + 0.047*\"site\" + 0.047*\"fine\" + 0.042*\"figure\" + 0.035*\"get\" + 0.032*\"not\"\n",
      "\n",
      "48: 0.114*\"summer\" + 0.110*\"plan\" + 0.103*\"shes\" + 0.067*\"email\" + 0.056*\"fair\" + 0.051*\"beach\" + 0.047*\"bye\" + 0.037*\"business\" + 0.035*\"dang\" + 0.031*\"support\"\n",
      "\n",
      "49: 0.173*\"take\" + 0.142*\"read\" + 0.132*\"run\" + 0.097*\"almost\" + 0.050*\"city\" + 0.032*\"shame\" + 0.023*\"like\" + 0.023*\"alright\" + 0.021*\"think\" + 0.020*\"extra\"\n",
      "\n",
      "50: 0.132*\"best\" + 0.129*\"ugh\" + 0.128*\"party\" + 0.087*\"sweet\" + 0.087*\"dream\" + 0.086*\"mum\" + 0.060*\"online\" + 0.054*\"stick\" + 0.022*\"review\" + 0.020*\"teach\"\n",
      "\n",
      "51: 0.160*\"give\" + 0.131*\"ever\" + 0.113*\"hear\" + 0.039*\"episode\" + 0.032*\"red\" + 0.030*\"best\" + 0.030*\"mad\" + 0.030*\"think\" + 0.029*\"mile\" + 0.029*\"answer\"\n",
      "\n",
      "52: 0.130*\"till\" + 0.095*\"hit\" + 0.091*\"update\" + 0.069*\"wear\" + 0.058*\"nap\" + 0.036*\"surprise\" + 0.036*\"take\" + 0.034*\"exactly\" + 0.030*\"forever\" + 0.030*\"website\"\n",
      "\n",
      "53: 0.230*\"guy\" + 0.086*\"luck\" + 0.082*\"dinner\" + 0.077*\"good\" + 0.054*\"test\" + 0.048*\"list\" + 0.033*\"cook\" + 0.031*\"make\" + 0.027*\"group\" + 0.027*\"block\"\n",
      "\n",
      "54: 0.233*\"maybe\" + 0.078*\"lucky\" + 0.045*\"machine\" + 0.040*\"slept\" + 0.036*\"service\" + 0.036*\"child\" + 0.029*\"bloody\" + 0.029*\"web\" + 0.029*\"design\" + 0.028*\"think\"\n",
      "\n",
      "55: 0.117*\"saw\" + 0.110*\"anything\" + 0.089*\"star\" + 0.087*\"money\" + 0.085*\"food\" + 0.058*\"rest\" + 0.054*\"trek\" + 0.051*\"worry\" + 0.033*\"good\" + 0.030*\"men\"\n",
      "\n",
      "56: 0.212*\"sure\" + 0.163*\"hurt\" + 0.070*\"eye\" + 0.061*\"mind\" + 0.054*\"not\" + 0.045*\"together\" + 0.034*\"mess\" + 0.028*\"brain\" + 0.022*\"issue\" + 0.020*\"exhaust\"\n",
      "\n",
      "57: 0.231*\"look\" + 0.121*\"follow\" + 0.097*\"like\" + 0.069*\"sound\" + 0.057*\"place\" + 0.052*\"follower\" + 0.051*\"picture\" + 0.047*\"forward\" + 0.028*\"good\" + 0.025*\"get\"\n",
      "\n",
      "58: 0.216*\"leave\" + 0.128*\"finally\" + 0.124*\"break\" + 0.050*\"reply\" + 0.042*\"hungry\" + 0.025*\"understand\" + 0.022*\"get\" + 0.021*\"go\" + 0.021*\"want\" + 0.019*\"app\"\n",
      "\n",
      "59: 0.290*\"sorry\" + 0.101*\"meet\" + 0.076*\"video\" + 0.075*\"minute\" + 0.043*\"join\" + 0.039*\"park\" + 0.036*\"congrats\" + 0.026*\"spent\" + 0.025*\"not\" + 0.023*\"pull\"\n",
      "\n",
      "60: 0.115*\"internet\" + 0.099*\"amazing\" + 0.091*\"tired\" + 0.085*\"slow\" + 0.068*\"page\" + 0.050*\"1st\" + 0.050*\"get\" + 0.050*\"moon\" + 0.037*\"2nd\" + 0.037*\"arm\"\n",
      "\n",
      "61: 0.184*\"week\" + 0.166*\"right\" + 0.117*\"next\" + 0.064*\"early\" + 0.063*\"hot\" + 0.052*\"get\" + 0.032*\"every\" + 0.028*\"time\" + 0.025*\"well\" + 0.023*\"heart\"\n",
      "\n",
      "62: 0.166*\"may\" + 0.080*\"probably\" + 0.075*\"headache\" + 0.074*\"hug\" + 0.069*\"clean\" + 0.049*\"point\" + 0.041*\"war\" + 0.040*\"4th\" + 0.033*\"bet\" + 0.030*\"star\"\n",
      "\n",
      "63: 0.262*\"keep\" + 0.102*\"real\" + 0.047*\"absolutely\" + 0.044*\"plus\" + 0.034*\"deal\" + 0.033*\"ball\" + 0.032*\"track\" + 0.030*\"egg\" + 0.025*\"hero\" + 0.025*\"cost\"\n",
      "\n",
      "64: 0.281*\"tomorrow\" + 0.135*\"wan\" + 0.060*\"awake\" + 0.054*\"wrong\" + 0.052*\"open\" + 0.051*\"anyone\" + 0.043*\"pain\" + 0.018*\"art\" + 0.017*\"get\" + 0.017*\"back\"\n",
      "\n",
      "65: 0.175*\"house\" + 0.137*\"move\" + 0.063*\"brother\" + 0.062*\"moment\" + 0.052*\"special\" + 0.049*\"tour\" + 0.045*\"laptop\" + 0.038*\"get\" + 0.033*\"parent\" + 0.025*\"promise\"\n",
      "\n",
      "66: 0.239*\"call\" + 0.188*\"phone\" + 0.049*\"bout\" + 0.031*\"huh\" + 0.031*\"piss\" + 0.030*\"radio\" + 0.030*\"charge\" + 0.029*\"get\" + 0.029*\"touch\" + 0.026*\"dunno\"\n",
      "\n",
      "67: 0.082*\"text\" + 0.079*\"get\" + 0.071*\"dress\" + 0.063*\"woman\" + 0.062*\"record\" + 0.045*\"access\" + 0.039*\"quiz\" + 0.027*\"needle\" + 0.023*\"truth\" + 0.019*\"2010\"\n",
      "\n",
      "68: 0.190*\"bed\" + 0.127*\"first\" + 0.084*\"god\" + 0.071*\"family\" + 0.064*\"least\" + 0.055*\"full\" + 0.049*\"time\" + 0.047*\"busy\" + 0.044*\"concert\" + 0.043*\"crazy\"\n",
      "\n",
      "69: 0.275*\"hate\" + 0.078*\"remember\" + 0.077*\"wonder\" + 0.068*\"come\" + 0.046*\"definitely\" + 0.035*\"not\" + 0.032*\"hows\" + 0.030*\"mobile\" + 0.029*\"earlier\" + 0.027*\"tom\"\n",
      "\n",
      "70: 0.198*\"away\" + 0.114*\"lovely\" + 0.075*\"high\" + 0.048*\"go\" + 0.045*\"line\" + 0.042*\"club\" + 0.035*\"dark\" + 0.031*\"bill\" + 0.029*\"get\" + 0.026*\"bird\"\n",
      "\n",
      "71: 0.270*\"play\" + 0.164*\"wow\" + 0.123*\"excite\" + 0.091*\"dad\" + 0.063*\"foot\" + 0.059*\"care\" + 0.058*\"til\" + 0.035*\"take\" + 0.024*\"screw\" + 0.021*\"blackberry\"\n",
      "\n",
      "72: 0.195*\"suck\" + 0.163*\"already\" + 0.139*\"guess\" + 0.125*\"buy\" + 0.088*\"totally\" + 0.058*\"ticket\" + 0.033*\"get\" + 0.019*\"want\" + 0.013*\"good\" + 0.011*\"need\"\n",
      "\n",
      "73: 0.474*\"day\" + 0.208*\"happy\" + 0.169*\"mother\" + 0.024*\"everyone\" + 0.019*\"good\" + 0.017*\"today\" + 0.012*\"breakfast\" + 0.009*\"grow\" + 0.006*\"every\" + 0.006*\"hope\"\n",
      "\n",
      "74: 0.180*\"another\" + 0.167*\"life\" + 0.100*\"write\" + 0.080*\"free\" + 0.046*\"store\" + 0.031*\"go\" + 0.029*\"count\" + 0.028*\"get\" + 0.027*\"apple\" + 0.027*\"screen\"\n",
      "\n",
      "75: 0.189*\"way\" + 0.113*\"talk\" + 0.086*\"late\" + 0.084*\"glad\" + 0.060*\"beautiful\" + 0.060*\"little\" + 0.051*\"name\" + 0.051*\"boy\" + 0.048*\"kind\" + 0.040*\"hope\"\n",
      "\n",
      "76: 0.413*\"work\" + 0.056*\"two\" + 0.044*\"actually\" + 0.043*\"car\" + 0.039*\"lunch\" + 0.038*\"might\" + 0.037*\"month\" + 0.034*\"get\" + 0.034*\"far\" + 0.030*\"not\"\n",
      "\n",
      "77: 0.169*\"eat\" + 0.119*\"stop\" + 0.093*\"around\" + 0.075*\"outside\" + 0.070*\"office\" + 0.033*\"due\" + 0.031*\"fact\" + 0.023*\"bag\" + 0.018*\"quiet\" + 0.016*\"burnt\"\n",
      "\n",
      "78: 0.153*\"seem\" + 0.101*\"cute\" + 0.090*\"problem\" + 0.082*\"add\" + 0.072*\"spend\" + 0.067*\"person\" + 0.062*\"share\" + 0.036*\"green\" + 0.032*\"like\" + 0.030*\"annoy\"\n",
      "\n",
      "79: 0.280*\"bad\" + 0.106*\"pretty\" + 0.086*\"pic\" + 0.086*\"poor\" + 0.085*\"baby\" + 0.056*\"post\" + 0.038*\"news\" + 0.026*\"order\" + 0.022*\"good\" + 0.022*\"upload\"\n",
      "\n",
      "80: 0.136*\"let\" + 0.135*\"awesome\" + 0.110*\"sick\" + 0.075*\"weather\" + 0.066*\"sun\" + 0.060*\"whats\" + 0.047*\"fan\" + 0.038*\"kinda\" + 0.032*\"think\" + 0.032*\"dance\"\n",
      "\n",
      "81: 0.182*\"wait\" + 0.140*\"show\" + 0.126*\"year\" + 0.112*\"yes\" + 0.106*\"though\" + 0.099*\"cant\" + 0.096*\"live\" + 0.018*\"heard\" + 0.017*\"know\" + 0.016*\"mac\"\n",
      "\n",
      "82: 0.167*\"lot\" + 0.090*\"mine\" + 0.087*\"turn\" + 0.078*\"hell\" + 0.075*\"room\" + 0.053*\"second\" + 0.050*\"sigh\" + 0.043*\"sister\" + 0.040*\"cut\" + 0.030*\"hmm\"\n",
      "\n",
      "83: 0.222*\"watch\" + 0.186*\"movie\" + 0.055*\"vote\" + 0.039*\"google\" + 0.034*\"sing\" + 0.032*\"album\" + 0.032*\"pizza\" + 0.023*\"coz\" + 0.023*\"good\" + 0.021*\"go\"\n",
      "\n",
      "84: 0.096*\"able\" + 0.092*\"perfect\" + 0.071*\"pack\" + 0.059*\"project\" + 0.049*\"lonely\" + 0.049*\"profile\" + 0.045*\"fantastic\" + 0.038*\"imagine\" + 0.036*\"race\" + 0.035*\"vacation\"\n",
      "\n",
      "85: 0.281*\"hour\" + 0.183*\"old\" + 0.167*\"tire\" + 0.090*\"know\" + 0.037*\"seriously\" + 0.036*\"today\" + 0.036*\"bus\" + 0.034*\"son\" + 0.018*\"shift\" + 0.018*\"get\"\n",
      "\n",
      "86: 0.208*\"girl\" + 0.192*\"thank\" + 0.077*\"okay\" + 0.077*\"photo\" + 0.040*\"fix\" + 0.039*\"blue\" + 0.031*\"camera\" + 0.028*\"flight\" + 0.028*\"cancel\" + 0.027*\"broken\"\n",
      "\n",
      "87: 0.208*\"twitter\" + 0.112*\"wont\" + 0.098*\"tell\" + 0.078*\"someone\" + 0.063*\"yesterday\" + 0.062*\"tho\" + 0.058*\"stay\" + 0.054*\"win\" + 0.038*\"anymore\" + 0.028*\"pick\"\n",
      "\n",
      "88: 0.270*\"feel\" + 0.084*\"not\" + 0.077*\"yet\" + 0.075*\"well\" + 0.068*\"like\" + 0.054*\"coffee\" + 0.049*\"world\" + 0.037*\"good\" + 0.032*\"shop\" + 0.029*\"quite\"\n",
      "\n",
      "89: 0.222*\"school\" + 0.198*\"soon\" + 0.066*\"holiday\" + 0.058*\"dead\" + 0.052*\"bank\" + 0.045*\"top\" + 0.035*\"get\" + 0.035*\"gift\" + 0.031*\"go\" + 0.027*\"today\"\n",
      "\n",
      "90: 0.485*\"really\" + 0.101*\"want\" + 0.041*\"get\" + 0.039*\"final\" + 0.029*\"chance\" + 0.027*\"need\" + 0.024*\"good\" + 0.022*\"paper\" + 0.015*\"not\" + 0.013*\"allow\"\n",
      "\n",
      "91: 0.248*\"tonight\" + 0.094*\"put\" + 0.091*\"get\" + 0.088*\"stuff\" + 0.086*\"cold\" + 0.056*\"hello\" + 0.040*\"go\" + 0.039*\"account\" + 0.030*\"wed\" + 0.024*\"gutted\"\n",
      "\n",
      "92: 0.185*\"kid\" + 0.086*\"set\" + 0.078*\"think\" + 0.065*\"past\" + 0.062*\"flu\" + 0.046*\"hubby\" + 0.043*\"swine\" + 0.043*\"graduation\" + 0.042*\"go\" + 0.040*\"woo\"\n",
      "\n",
      "93: 0.264*\"rain\" + 0.129*\"dog\" + 0.096*\"cat\" + 0.076*\"hand\" + 0.061*\"window\" + 0.054*\"worth\" + 0.047*\"get\" + 0.039*\"clothes\" + 0.036*\"church\" + 0.028*\"doubt\"\n",
      "\n",
      "94: 0.117*\"end\" + 0.102*\"sit\" + 0.090*\"believe\" + 0.066*\"idea\" + 0.058*\"cant\" + 0.056*\"reason\" + 0.045*\"fall\" + 0.039*\"asleep\" + 0.033*\"rather\" + 0.032*\"prom\"\n",
      "\n",
      "95: 0.135*\"happen\" + 0.104*\"wake\" + 0.072*\"instead\" + 0.064*\"sometimes\" + 0.059*\"sore\" + 0.043*\"afternoon\" + 0.038*\"visit\" + 0.033*\"throat\" + 0.026*\"go\" + 0.026*\"lie\"\n",
      "\n",
      "96: 0.234*\"bit\" + 0.117*\"nothing\" + 0.092*\"drink\" + 0.063*\"forget\" + 0.062*\"goodnight\" + 0.038*\"jealous\" + 0.032*\"water\" + 0.031*\"short\" + 0.031*\"beer\" + 0.029*\"bee\"\n",
      "\n",
      "97: 0.126*\"music\" + 0.103*\"die\" + 0.086*\"walk\" + 0.075*\"hop\" + 0.072*\"card\" + 0.053*\"realize\" + 0.047*\"warm\" + 0.046*\"story\" + 0.044*\"inside\" + 0.035*\"present\"\n",
      "\n",
      "98: 0.345*\"see\" + 0.127*\"could\" + 0.050*\"send\" + 0.045*\"everything\" + 0.041*\"whole\" + 0.030*\"yea\" + 0.028*\"blog\" + 0.027*\"message\" + 0.026*\"ill\" + 0.021*\"get\"\n",
      "\n",
      "99: 0.195*\"start\" + 0.111*\"check\" + 0.098*\"hard\" + 0.098*\"game\" + 0.070*\"exam\" + 0.048*\"either\" + 0.043*\"feeling\" + 0.041*\"anyway\" + 0.033*\"mood\" + 0.027*\"cant\"\n",
      "\n"
     ]
    }
   ],
   "source": [
    "for i,topic in LDAmodel100.show_topics(formatted=True, num_topics=num_topics, num_words=10):\n",
    "    print(str(i)+\": \"+ topic)\n",
    "    print()"
   ]
  },
  {
   "cell_type": "code",
   "execution_count": 45,
   "metadata": {},
   "outputs": [
    {
     "data": {
      "text/plain": [
       "4116"
      ]
     },
     "execution_count": 45,
     "metadata": {},
     "output_type": "execute_result"
    }
   ],
   "source": [
    "LDAmodel100.num_terms"
   ]
  },
  {
   "cell_type": "code",
   "execution_count": 49,
   "metadata": {},
   "outputs": [
    {
     "data": {
      "text/plain": [
       "'0.343*\"sleep\" + 0.063*\"face\" + 0.060*\"part\" + 0.043*\"get\" + 0.040*\"cant\" + 0.038*\"train\" + 0.029*\"time\" + 0.023*\"kiss\" + 0.023*\"need\" + 0.022*\"quick\"'"
      ]
     },
     "execution_count": 49,
     "metadata": {},
     "output_type": "execute_result"
    }
   ],
   "source": [
    "LDAmodel100.print_topic(33)"
   ]
  }
 ],
 "metadata": {
  "kernelspec": {
   "display_name": "Python 3",
   "language": "python",
   "name": "python3"
  },
  "language_info": {
   "codemirror_mode": {
    "name": "ipython",
    "version": 3
   },
   "file_extension": ".py",
   "mimetype": "text/x-python",
   "name": "python",
   "nbconvert_exporter": "python",
   "pygments_lexer": "ipython3",
   "version": "3.7.0"
  }
 },
 "nbformat": 4,
 "nbformat_minor": 4
}
