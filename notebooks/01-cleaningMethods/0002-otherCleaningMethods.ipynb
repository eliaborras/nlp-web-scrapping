{
 "cells": [
  {
   "cell_type": "markdown",
   "metadata": {},
   "source": [
    "### Further word Removal Method tests"
   ]
  },
  {
   "cell_type": "code",
   "execution_count": 95,
   "metadata": {},
   "outputs": [],
   "source": [
    "import pandas as pd\n",
    "import numpy as np\n",
    "import re\n",
    "import matplotlib.pyplot as plt\n",
    "from nltk.tokenize import word_tokenize"
   ]
  },
  {
   "cell_type": "code",
   "execution_count": 96,
   "metadata": {
    "scrolled": true
   },
   "outputs": [
    {
     "data": {
      "text/html": [
       "<div>\n",
       "<style scoped>\n",
       "    .dataframe tbody tr th:only-of-type {\n",
       "        vertical-align: middle;\n",
       "    }\n",
       "\n",
       "    .dataframe tbody tr th {\n",
       "        vertical-align: top;\n",
       "    }\n",
       "\n",
       "    .dataframe thead th {\n",
       "        text-align: right;\n",
       "    }\n",
       "</style>\n",
       "<table border=\"1\" class=\"dataframe\">\n",
       "  <thead>\n",
       "    <tr style=\"text-align: right;\">\n",
       "      <th></th>\n",
       "      <th>textID</th>\n",
       "      <th>text</th>\n",
       "      <th>sentiment</th>\n",
       "    </tr>\n",
       "  </thead>\n",
       "  <tbody>\n",
       "    <tr>\n",
       "      <th>0</th>\n",
       "      <td>cb774db0d1</td>\n",
       "      <td>['would', 'respond', 'go']</td>\n",
       "      <td>neutral</td>\n",
       "    </tr>\n",
       "    <tr>\n",
       "      <th>1</th>\n",
       "      <td>549e992a42</td>\n",
       "      <td>['sooo', 'sad', 'miss', 'san', 'diego']</td>\n",
       "      <td>negative</td>\n",
       "    </tr>\n",
       "    <tr>\n",
       "      <th>2</th>\n",
       "      <td>088c60f138</td>\n",
       "      <td>['boss', 'bully']</td>\n",
       "      <td>negative</td>\n",
       "    </tr>\n",
       "    <tr>\n",
       "      <th>3</th>\n",
       "      <td>9642c003ef</td>\n",
       "      <td>['interview', 'leave', 'alone']</td>\n",
       "      <td>negative</td>\n",
       "    </tr>\n",
       "    <tr>\n",
       "      <th>4</th>\n",
       "      <td>358bd9e861</td>\n",
       "      <td>['son', 'could', 'not', 'put', 'release', 'alr...</td>\n",
       "      <td>negative</td>\n",
       "    </tr>\n",
       "  </tbody>\n",
       "</table>\n",
       "</div>"
      ],
      "text/plain": [
       "       textID                                               text sentiment\n",
       "0  cb774db0d1                         ['would', 'respond', 'go']   neutral\n",
       "1  549e992a42            ['sooo', 'sad', 'miss', 'san', 'diego']  negative\n",
       "2  088c60f138                                  ['boss', 'bully']  negative\n",
       "3  9642c003ef                    ['interview', 'leave', 'alone']  negative\n",
       "4  358bd9e861  ['son', 'could', 'not', 'put', 'release', 'alr...  negative"
      ]
     },
     "execution_count": 96,
     "metadata": {},
     "output_type": "execute_result"
    }
   ],
   "source": [
    "cleanData = pd.read_csv(r'cleanedData.csv')\n",
    "cleanData.head(5)"
   ]
  },
  {
   "cell_type": "code",
   "execution_count": 97,
   "metadata": {},
   "outputs": [
    {
     "name": "stdout",
     "output_type": "stream",
     "text": [
      "[\"['would', 'respond', 'go']\", \"['sooo', 'sad', 'miss', 'san', 'diego']\", \"['boss', 'bully']\", \"['interview', 'leave', 'alone']\", \"['son', 'could', 'not', 'put', 'release', 'already', 'buy']\"]\n"
     ]
    }
   ],
   "source": [
    "token_list = cleanData['text'].tolist()\n",
    "print(token_list[:5])"
   ]
  },
  {
   "cell_type": "code",
   "execution_count": 98,
   "metadata": {},
   "outputs": [
    {
     "name": "stdout",
     "output_type": "stream",
     "text": [
      "['would respond go', 'sooo sad miss san diego', 'boss bully', 'interview leave alone', 'son could not put release already buy']\n"
     ]
    }
   ],
   "source": [
    "#Convert list of tokens to string\n",
    "list_corpus = []\n",
    "for tokens in token_list:\n",
    "    tokens = tokens.replace(\"[\",\"\").replace(\"]\",\"\").replace(\"'\",\"\").replace(\",\",\"\")\n",
    "    list_corpus.append(tokens)\n",
    "print(list_corpus[:5])"
   ]
  },
  {
   "cell_type": "code",
   "execution_count": 99,
   "metadata": {},
   "outputs": [
    {
     "name": "stdout",
     "output_type": "stream",
     "text": [
      "[['would', 'respond', 'go'], ['sooo', 'sad', 'miss', 'san', 'diego'], ['boss', 'bully'], ['interview', 'leave', 'alone'], ['son', 'could', 'not', 'put', 'release', 'already', 'buy']]\n"
     ]
    }
   ],
   "source": [
    "from nltk.tokenize import word_tokenize\n",
    "listOfTokens = []\n",
    "def tokenizer(x):\n",
    "    for text in x:\n",
    "        text = str(text)\n",
    "        text = word_tokenize(text)# You can also use sent_tokenize depending on what type of NLP you do\n",
    "        listOfTokens.append(text)\n",
    "tokenizer(list_corpus) #change to data['text'] for original word count\n",
    "\n",
    "#Print what text data looks like in first tweet\n",
    "print(listOfTokens[:5])"
   ]
  },
  {
   "cell_type": "code",
   "execution_count": 100,
   "metadata": {},
   "outputs": [
    {
     "name": "stdout",
     "output_type": "stream",
     "text": [
      "198338 tokens total, with a vocabulary size of 23262\n"
     ]
    }
   ],
   "source": [
    "#Create Vocabulary\n",
    "all_words = [token for tokens in listOfTokens for token in tokens]\n",
    "vocab1 = sorted(list(set(all_words)))\n",
    "print(\"%s tokens total, with a vocabulary size of %s\" % (len(all_words), len(vocab1)))\n",
    "#sentence_lengths = [len(tokens) for tokens in listOfTokens]"
   ]
  },
  {
   "cell_type": "code",
   "execution_count": 101,
   "metadata": {},
   "outputs": [],
   "source": [
    "#Inspect vocabulary\n",
    "rubbish = vocab1[:1859]"
   ]
  },
  {
   "cell_type": "code",
   "execution_count": 102,
   "metadata": {},
   "outputs": [
    {
     "name": "stdout",
     "output_type": "stream",
     "text": [
      "['000th', '00am', '00pm', '02mxjj', '05ixbj', '06am', '07am', '07jzs', '07k6e', '07k6x', '07kbq', '07kjr', '07xfs', '07xoh', '07xoi', '08kaifj', '097dfj', '0_o', '0a7v3j', '0f', '0ghz', '0guyoj', '0k', '0l2tsj', '0mqko', '0n', '0rpm', '0ut', '0xhu5j', '0zywwj', '1000th', '1000x', '100greatestgames', '100msg', '100th', '100x', '103f', '104m6wj', '10am', '10days', '10jsepj', '10k', '10m', '10mins', '10mm', '10p', '10pm', '10th', '10ty', '10uemq', '10yr', '1155hours', '117th', '11am', '11e', '11pm', '11th', '11w', '121908inlove', '12am', '12f0y', '12hr', '12k', '12lbs', '12p', '12r3c3', '12s', '12seconds', '12st', '12th', '12yr', '137cty', '1386am', '13f5m0', '13gigs', '13nfk1', '13pdrmj', '13pqtw', '13th', '13tolife', '147heu', '14m', '14mph', '14s', '14th', '14yr', '1500ft', '1500rpm', '153bpm', '154upj', '15am', '15c', '15fo4x', '15gb', '15h30', '15mins', '15minutes', '15th', '15yyid', '1600th', '160hp', '16k', '16lbs', '16th', '16urvv', '16w6zv', '170th', '17again', '17cy61', '17jiy8', '17th', '17zw1j', '1828x1556', '182s', '1864ml', '18aeg8', '18hrs', '18kwzh', '18mos', '18s', '18th', '1930s', '1980s', '199zwd', '19th', '1am', '1bi7ad', '1c', '1direction', '1doeej', '1e15', '1fav', '1gb', '1gurq', '1h30m', '1h33mn', '1hour', '1hr', '1k', '1kg', '1km', '1lol', '1million', '1ntp', '1ofmy', '1pm', '1s', '1st', '1tb', '1thing', '1ujzq', '1vn0', '1x', '1x2610', '1xiz', '1xri', '1zpf', '1zu9', '1zyg', '2008s', '2009the', '200f2', '200km', '200lbs', '201th', '20am', '20dd', '20gf', '20min', '20mins', '20pm', '20somethin', '20th', '20xs', '20yrs', '21cu', '21life', '21month', '21rk', '21st', '21uf', '22hrs', '22nd', '236am', '239k', '23b', '23rd', '24hr', '24hrs', '24mer', '24th', '250e', '250gb', '250k', '253ce', '25c', '25k', '25mbps', '27th', '2888mo', '28c', '28hh', '28th', '291kms', '29ers', '29th', '29yr', '2a', '2aa0m', '2agcth', '2am', '2b', '2cal', '2ce', '2d', '2day', '2dayme', '2dives', '2dmtn', '2do', '2field', '2for1', '2ft', '2gather', '2getha', '2gether', '2ghz', '2goin', '2hear', '2hi2t4y', '2hours', '2hpbg4', '2hrs', '2j3l', '2k6', '2kids', '2l', '2l63l', '2m', '2maro', '2me', '2moro', '2morrow', '2moz', '2mrw', '2my', '2nd', '2ndary', '2night', '2nit', '2nite', '2njv', '2nlc', '2nte', '2nyt', '2or', '2pm', '2s1y', '2sljbw', '2stop', '2sw4v', '2toa', '2twitter', '2uhs', '2urgp', '2uzx4', '2ve', '2vko', '2w5v', '2x', '2x2924', '2xdpf', '2xjoc', '2yr', '2zemt', '2zgfk', '300th', '30am', '30c', '30day', '30mins', '30p', '30pm', '30rc4', '30rock', '30s', '30sec', '30stm', '30th', '30tools', '30yo', '31st', '31th', '320gb', '32mb', '330pm', '336u5', '33hus', '34mb', '35am', '35mins', '35th', '36pz', '37nnd', '37wt5f', '38am', '38pm', '38th', '3alaiiik', '3am', '3bnas', '3bt', '3d', '3ds', '3g', '3goxn', '3hannah', '3hours', '3hrs', '3jfg', '3k', '3koyqo', '3lbs', '3lin', '3lqux', '3mb', '3mdce', '3nid8', '3nzth', '3o3zxoj', '3o7rv', '3oh3', '3oth', '3pj876', '3pjnc', '3pm', '3rd', '3to7', '3u', '3ware', '3wordsaftersex', '3x', '3x2500', '3x3', '3x3wq', '3xm7d', '3ysav', '400e', '400mb', '400th', '404d', '40k', '40mins', '40s', '416b7', '41dbn', '42nd', '449yj', '44am', '44secs', '45am', '45pm', '45r61', '45th', '46am', '47days', '48am', '48gy0', '48hours', '48hoursnz', '49am', '4a', '4am', '4bckp', '4ce', '4d', '4d8', '4days', '4ever', '4fnaa', '4fzo7', '4g', '4gb', '4gemf', '4get', '4give', '4gnlp', '4got', '4hbs5', '4hours', '4hsd2', '4i2zu', '4i3g6', '4iq19', '4iw0x', '4j585', '4j6kc', '4j8us', '4j8yk', '4j91r', '4j92o', '4j95z', '4j99z', '4j9eo', '4j9fb', '4j9x4', '4ja12', '4ja4b', '4ja93', '4jalj', '4jam0', '4jas7', '4jaw9', '4jax3', '4jaz5', '4jazs', '4jb0q', '4jb4o', '4jb66', '4jbba', '4jbsq', '4jbzv', '4jccd', '4jcf1', '4jcfg', '4jcjj', '4jcjr', '4jcwm', '4jcxr', '4jdrg', '4jdtj', '4jeij', '4jerc', '4jewc', '4jez4', '4jf4k', '4jf4m', '4jfg4', '4jfkw', '4jg09', '4jgro', '4jhe5', '4jhn7', '4jhp8', '4jip9', '4jj43', '4jj4j', '4jjdx', '4jjlc', '4jjy9', '4jk42', '4jk6b', '4jkea', '4jken', '4jkes', '4jkvh', '4jkvl', '4jloj', '4jmeh', '4k', '4m9up', '4more', '4nbx4', '4phze', '4pm', '4qfl3', '4qpzx', '4real', '4sx96', '4t4jv', '4t6qx', '4th', '4u', '4ukqe', '4us', '4uy8l', '4v0vr', '4vdc3', '4ve84', '4vgzy', '4visl', '4vp3x', '4vuuy', '4vvou', '4vw9a', '4w06l', '4w0yj', '4w1rr', '4w1s0', '4w22u', '4w269', '4w2ls', '4w3fi', '4w3he', '4w425', '4w472', '4w483', '4w52z', '4w5sy', '4w67l', '4w6lf', '4w70j', '4w8cw', '4w8ja', '4w8kr', '4w8l1', '4w9pe', '4w9w6', '4w9zb', '4wah5', '4ward', '4wauk', '4wb42', '4wb52', '4wbn6', '4wc1k', '4wc1y', '4wcpt', '4wcqa', '4wdgr', '4wdui', '4we4j', '4we51', '4we5w', '4weeks', '4wegx', '4wehl', '4wf30', '4wf3a', '4wfeo', '4wfqn', '4wfs8', '4wg12', '4wgoi', '4wh0l', '4wh0o', '4wh4d', '4whaf', '4wi78', '4wij6', '4wjai', '4wk9i', '4wkhi', '4wkpl', '4wkym', '4wkzi', '4wl7x', '4wlgi', '4wlpf', '4wmaw', '4wn29', '4wn9q', '4woxi', '4wp8l', '4wppe', '4wppn', '4wqe8', '4wqfv', '4wqy4', '4wr8k', '4wrrp', '4wrxq', '4wry2', '4ws3m', '4ws8w', '4ws9r', '4wsjr', '4wsk3', '4wssc', '4wsst', '4wsue', '4wsxi', '4wsy6', '4wt8a', '4wt8k', '4wtom', '4wtyj', '4wtzj', '4wua7', '4wukt', '4x4s', '4yr', '500d', '500kb', '50am', '50k', '50mm', '50p', '511q', '511r', '52aw', '530am', '530p', '53am', '54khn', '55am', '55c', '55hq2o', '56pm', '57am', '5am', '5days', '5e7dr', '5ghz', '5h3ad', '5hours', '5jboh', '5jbp3', '5jbvo', '5jckp', '5jd4b', '5jehr', '5jeu7', '5jf53', '5jfu9', '5jfuu', '5jg0u', '5jg16', '5jg6f', '5jgj3', '5jhim', '5jhtq', '5jhtv', '5jib6', '5jimj', '5jjcc', '5jkbc', '5jkbp', '5jkpz', '5jnl7', '5jnv2', '5jo4w', '5joo9', '5jq91', '5jq9o', '5jtyh', '5jucn', '5jv7j', '5k', '5ke', '5km', '5mths', '5of', '5ofzj', '5pblz', '5pm', '5rylt', '5s', '5s5f9', '5sec', '5th', '5ut6j', '5wb0k', '5ygpg', '5yk38', '5ynxo', '5ynxr', '5yomt', '5yroy', '5ytke', '5yvnd', '5yxd4', '5yyud', '5yzb6', '5z05g', '5z0dc', '5z10d', '5z193', '5z2g9', '5z2sv', '5z2zo', '5z309', '5z36j', '5z3ij', '5z3oq', '5z4p7', '5z4uq', '5z4ve', '5z50g', '5z5kz', '5z5uw', '5z639', '5z6y6', '5z7cg', '5z7v3', '5z7zs', '5z7zv', '600k', '600th', '60gb', '60hrs', '60k', '60s', '60th', '61aam', '61oj0', '61ov1', '624qo', '630p', '630pm', '63ef', '64g3b', '64mdc', '64ozr7', '6500km', '650mb', '660vv', '662vk', '663vr', '664b7', '664uz', '665a2', '665n7', '665to', '665w2', '666gy', '667a4', '6695k', '6698b', '669l2', '669nm', '66l83', '66ltb', '66m7f', '66of2', '66pn1', '66q88', '66r0u', '66roi', '66sbz', '66shw', '66st1', '66tyb', '66u67', '66uor', '66ust', '66vdn', '66vld', '66vlw', '66wxk', '66xlm', '66y00', '66yb9', '66ydb', '66z7a', '66zfd', '66zls', '670rw', '670tp', '6714p', '672s3', '673vt', '674p1', '675t7', '675tw', '675u6', '676hv', '676hz', '676tn', '677bi', '677xt', '67aim', '67azl', '67bpd', '67di2', '67eba', '67f8o', '67f8q', '67fcj', '67gwh', '67gzx', '67hac', '67hvr', '67hw5', '67i82', '67iab', '67jq9', '67jzp', '67k9w', '67kb6', '67kvt', '67l90', '67ljj', '67mj4', '67nht', '67nxe', '67ot5', '67owu', '67qhz', '67qv3', '67rcp', '67rt8', '67sk5r', '67tcr', '67to5', '67tp9', '67twh', '67uc7', '67w20', '67wa0', '67wb4', '67x74', '67x7n', '67x8k', '67xs0', '67xv3', '67ykl', '67z2q', '67zgz', '6814w', '6am', '6fgxd', '6ft', '6hesz', '6hrs', '6jo0v', '6jwjmy', '6k', '6msg', '6nkpuz', '6pm', '6pwwlj', '6rwwtj', '6th', '6urrxta8dom', '6wks', '70mpg', '70s', '71st', '730p', '730pm', '73kg', '75c', '75th', '78qvz', '79fcr', '79l0q', '7a10a', '7af72', '7ag', '7aigm', '7am', '7day', '7pm', '7th', '7vikc', '7y68', '800mhz', '800x', '80s', '80th', '81st', '82k', '88db', '88th', '8a', '8am', '8c36ej', '8d', '8gb8r', '8hrs', '8k', '8m68', '8mm', '8pm', '8q6cjc', '8qagh', '8th', '8w7iq', '8weeks', '90mm', '90mph', '90s', '90th', '930a', '95sx', '9650se', '99pb5', '99usd', '9am', '9followers', '9ftuv3xmrn0', '9h', '9j', '9mua', '9pm', '9r46tahxefkt', '9s', '9th', '9uin', '9vbzg', '9ydhu', '9yn5', '9yr', '_0', '_007', '_01', '_01xx', '_03', '_0407', '_04071991', '_05', '_09', '_0981', '_0_tronic', '_0robertpatt', '_1', '_10807', '_10k', '_11', '_1210', '_123', '_127', '_13', '_15', '_19', '_1988', '_1990', '_1993', '_1999', '_2', '_20', '_2008', '_21thanks', '_22', '_2229', '_26', '_2890', '_2gnt', '_2nd', '_3', '_30439', '_333', '_370', '_3girls', '_4', '_420', '_44', '_47', '_58', '_654', '_76', '_78', '_785', '_786', '_85', '_98', '__', '___', '____', '_____', '____________', '_____________', '__buckley', '__cullen_', '__d', '__diamond', '__hell', '__marie', '_a', '_a4l', '_a_bo0', '_a_hart', '_a_michael', '_a_r_a', '_a_tx', '_achillies', '_ackles', '_ada_franco', '_addict', '_aguirre', '_agwl', '_ahoy', '_ai_08', '_aid16', '_aisa', '_aitana', '_aka_rowan', '_alicev', '_aloud', '_always3', '_am', '_am_umlaut', '_anais', '_and_easy', '_and_jay', '_and_zi', '_anderson', '_anekie', '_angel', '_angel84', '_anke', '_ann_cole', '_another_1', '_anr_shine', '_anstee', '_apple', '_apuya', '_ara', '_archie', '_are_fire', '_argie', '_aries', '_artillero', '_ary', '_asher', '_ashley', '_assassin', '_aston', '_astri', '_at_work', '_attack', '_atticus', '_au', '_august84', '_augustine', '_aureole', '_autism', '_avenue', '_awake', '_aygee', '_b', '_b_', '_b_10', '_b_judah', '_babe', '_babsi', '_baby', '_bach', '_baffoon', '_bailon', '_bambu', '_bandoni', '_bayliss', '_bba', '_bbcrew', '_beachmex', '_beanz', '_beckett', '_beckiie_x', '_beckwith', '_bee', '_beery', '_beez', '_beli', '_believer', '_bennett', '_benson', '_benzo', '_berra', '_bexi', '_beyond', '_bhb', '_bill2030', '_billiam', '_bishop', '_bizzle', '_blache', '_blehh', '_bloggerific', '_blogs', '_bloody_poet', '_blue', '_bmac', '_bob7', '_boduch', '_bones', '_boo', '_booey', '_bop', '_bosworth', '_brad', '_brads', '_breannarose', '_bree', '_brody', '_brown', '_bug68', '_bui', '_bum', '_buns', '_burnett', '_butler', '_by_spork', '_c', '_cabrera', '_caine', '_cali', '_call', '_carroll', '_carter', '_caruso', '_casagrande', '_cass', '_cat', '_cath', '_cera', '_chander', '_chapman', '_charlotte', '_cheryl', '_chick', '_chiel', '_chip', '_chrissy22', '_christie', '_chung', '_ci', '_city', '_claire', '_clp', '_club', '_cm', '_cochran', '_cohen', '_coleman', '_colossus', '_confidential', '_connors', '_conrad', '_control', '_cook', '_cool', '_coppinger', '_cordon', '_couper', '_cowan', '_coza', '_craig', '_craig_g', '_crane', '_crazy', '_crazyangel', '_creek', '_crisis', '_crow', '_crumbles', '_cullen', '_cullen10', '_cullen26', '_cullen8', '_cunning', '_cupcake', '_cupcakes', '_d', '_d_', '_da_', '_da_realest', '_daarling', '_dahsar', '_dam', '_dang', '_daughtry', '_dave', '_davis', '_day26', '_dayne', '_dazzles', '_de_b', '_de_baillon', '_deadgirl', '_deakin', '_death', '_dec0de', '_dee', '_deen', '_defcon1', '_design', '_devi', '_devil1', '_dew', '_diaz', '_diesel', '_dig', '_dinasadik', '_distel', '_diva', '_diva_dee26', '_divine', '_dizon', '_dj', '_dk', '_dog', '_doll', '_dollaz', '_donut', '_double', '_dreamer', '_dreaming', '_dubai', '_duckett', '_dude', '_duerden', '_dulay', '_dunk', '_e', '_eagle', '_earedpages', '_ebru', '_eclectic', '_educator', '_edwards', '_efron', '_el_rumi', '_elaine', '_eleni', '_eliza', '_elmo_', '_emily', '_emo_zac', '_en', '_envy', '_era', '_erincharde', '_ernman', '_eron', '_escobar', '_esl', '_estep', '_exp', '_express', '_extacy', '_eyedea', '_eyes', '_face', '_fam', '_fan', '_fangirl', '_fann', '_fc', '_fear_me', '_ferman', '_fischer', '_fisher', '_flora', '_flores', '_forward', '_foster', '_fp', '_fr', '_fred6', '_frog', '_from_hell', '_ftw', '_g', '_gaba', '_gable', '_gal', '_galore', '_gamefan', '_gant', '_garner', '_gates', '_gd', '_geronimo', '_giiggl3z', '_girl', '_gm', '_go', '_gorham', '_gov', '_greenwizard', '_gregor', '_grenade', '_greta', '_griffin', '_grl', '_grrrl', '_grubb', '_gun', '_gunn', '_gurl', '_gurl_cece', '_gutter', '_guy', '_gyrl', '_h', '_h786', '_hall', '_hammond', '_hansen', '_happy_emox', '_harris', '_hawt', '_hay', '_hayes', '_hayward', '_haze', '_hearts', '_heidi_v', '_hemmat', '_henrie', '_herdman', '_hime', '_ho', '_holden', '_home', '_honey', '_hong', '_honi', '_hope', '_hotsawce', '_houdin', '_hunter', '_hussein', '_hypnotic', '_i', '_i_am_jes', '_i_girl', '_iain', '_ichigo', '_idiots', '_idol', '_ife', '_ii', '_ill', '_illustrated', '_in', '_in_forks', '_in_love', '_in_nh', '_in_tx', '_indian', '_inlapush', '_inovera', '_inthemaking', '_intruder', '_is_here', '_is_one84', '_is_rad', '_it_good', '_j', '_j9', '_j_stuart', '_jackson', '_jamie', '_jane14', '_janeway', '_jayr', '_jayy', '_jean', '_jeffe83', '_jen', '_jenkins', '_jessicab_', '_jg', '_jo', '_jodie', '_joe', '_joelted', '_johnson', '_jolene', '_jones20', '_josa', '_joy', '_joyner', '_juansimon', '_juneau', '_k', '_k_renee', '_kap', '_kartz', '_kat', '_kate', '_kaufer', '_kay', '_kay2', '_kearley', '_keepsitreal', '_kel_17', '_kelly', '_ken', '_khan', '_khc', '_kid', '_kill_boy', '_kimbalicious', '_kinda_guy', '_kiss', '_kittykat', '_kong', '_kookie', '_kritt', '_kryptik', '_ky_monkey', '_l', '_l_s', '_la_mania', '_ladie', '_laiter', '_lambert', '_langley', '_lantos', '_laurie', '_lavish', '_lawrence', '_lay', '_layne', '_leann', '_lee', '_leigh', '_leslie', '_lhoste', '_lia', '_libertine', '_lick', '_life', '_lights', '_liljess_x', '_lipz', '_lisa', '_liv_lyf', '_live', '_loca', '_logos', '_lokelani', '_longman', '_lopez', '_lord', '_lottie', '_lou', '_lou27', '_louise', '_lovato', '_loves_nkotb', '_lpz', '_lu', '_luca', '_luciano', '_luck13', '_lynn', '_m', '_mactastic', '_made_', '_magazine', '_magician', '_mak', '_man', '_mandarich', '_mandm', '_manford', '_mar_mey', '_marie', '_marie1', '_marls', '_mary_typhoid', '_matta', '_matthes', '_mayer', '_mazur', '_mc', '_mcc', '_mcfly', '_mcflyandjb', '_mcflyy', '_mckay2009', '_mclife', '_mcloven', '_mcr', '_mcsupergirl', '_mean', '_meaway', '_megan_', '_meir', '_meirizka', '_mejer', '_mel', '_melbourne', '_meow', '_mexico', '_miacherry', '_michele', '_milano', '_mills', '_ming', '_miss', '_miss_cbw', '_mit_glee', '_mitchell', '_mja', '_moe', '_molecule', '_molotov', '_mom', '_monk', '_monstr', '_morales', '_morgan_', '_morley', '_morris', '_mounce', '_mraz', '_mueller', '_music', '_music_news', '_musings', '_my_soles', '_myst', '_n', '_n_booklife', '_n_dc', '_n_nouns', '_n_wilson', '_nash', '_nation', '_navarro', '_ndo', '_neith', '_nesmith', '_nessiah', '_newman', '_newnew', '_news', '_nexus', '_nichole', '_nickj07', '_nicole', '_niffer', '_nigeria', '_nj', '_nk', '_nkotb', '_nl', '_nobel', '_normal', '_north27', '_nyc', '_nye', '_o', '_o_ash', '_obsession', '_of_chas', '_of_max', '_of_the_dead', '_of_twtr', '_ofoz', '_ohh', '_okeefe', '_oliver', '_om', '_one', '_onfire', '_online', '_ottawa', '_p', '_paige', '_pany', '_paradise', '_parks', '_pase', '_paulevans', '_pax', '_pe', '_peabody', '_pearlman', '_pearson', '_peek', '_peer', '_perez', '_perfect', '_perth', '_peter', '_petty', '_phatass', '_phelps', '_phillips', '_photography', '_pickle', '_pierce', '_pills', '_pina_14', '_pingpong', '_pinkapple', '_polanco', '_pollard', '_pooh', '_popularent', '_precious06', '_princess69', '_printchick', '_pritchard', '_prototype09', '_punk_robot', '_pyee', '_r', '_r_roberts', '_rabbit_', '_rachinea', '_rade', '_radio', '_rahal', '_rain', '_ranjan', '_rankin', '_raquel', '_rashid', '_raven', '_ray', '_rc234', '_read', '_real_nash', '_reality', '_recordings', '_redbone', '_reece', '_reid', '_renee', '_reviews', '_rex_513', '_rey', '_reznor', '_ri_ja', '_ricardo', '_richards', '_richie', '_rigby', '_ritz', '_robert', '_rockett', '_rocks', '_rocks19', '_roe', '_roo', '_rose', '_rosie', '_ross', '_rothlisberger', '_roy', '_rubadeau', '_ryall', '_ryan', '_s', '_s_r', '_sanderson', '_sandman_', '_sara', '_saurus', '_says', '_sb', '_schools', '_schulz', '_seattle', '_shan_west', '_shantz', '_shaw', '_shawn', '_shediddy', '_shep', '_shields06', '_shines92', '_shiny', '_sian', '_simmons', '_sims', '_sis', '_skies', '_sko', '_sl', '_sm', '_smith', '_smith1', '_soch', '_sockso_o', '_song', '_songs', '_soul', '_souljaa', '_sounds', '_spark', '_spn', '_sprigge', '_staack', '_stack', '_stack8', '_stained', '_star', '_star95', '_starla', '_starr', '_stdin_', '_steph', '_steve', '_stewart', '_stiller', '_stokoe', '_storm', '_straycat', '_style', '_sunshine', '_suprnatural', '_surprises', '_sweethearts', '_sweetye', '_sydney', '_taff_jones', '_tah', '_tall_blonde', '_tarrant', '_tastic', '_tattoo', '_team', '_teamgreen', '_tech', '_tech_update', '_tennant', '_terrible', '_the_bc', '_the_bear', '_the_game', '_the_heck', '_the_moon', '_themovie', '_thomas', '_thompson', '_thrifty', '_tickle', '_tifullytragic', '_tina', '_toni', '_trainr', '_trees', '_trick', '_trip', '_troy', '_truesdale', '_truong', '_tv', '_twist86', '_twit01', '_twitster', '_twnzfinest', '_tx', '_uh_knee', '_uk', '_union', '_uppercut', '_uts', '_v', '_val_4_now', '_vegetable', '_vet', '_vincent', '_violence', '_vip', '_von_abe', '_w', '_w_a', '_wants', '_war_mt', '_ward', '_warwounds_c', '_waters', '_watkins', '_watson', '_web_design', '_weber', '_wesely', '_west', '_whacker', '_what_', '_whincop', '_whitex', '_wi_no_name', '_willhoit', '_wockeez', '_world', '_wounds', '_writer', '_writes', '_wst', '_wx', '_x', '_x3', '_x_atl', '_xd', '_xo', '_xox', '_y', '_y_tony', '_y_yankees', '_yavanna', '_yeah', '_yogini', '_you', '_yours13', '_yst', '_z', '_za', '_zaboo', '_zero', '_zol', '_zorz_peep', '_zulu', '_zwitschert', 'a0nw', 'a0pyr', 'a12', 'a2', 'a200k', 'a48', 'a4fdb', 'a9', 'aa', 'aaa', 'aaaa', 'aaaaaaaaaaa', 'aaaaaaaaaahhhhhhhh', 'aaaaaaaaaamazing', 'aaaaaaaafternoon', 'aaaaaaaahhhhhhhh', 'aaaaaah', 'aaaaaahhhhhhhh', 'aaaaaawwwesome', 'aaaaahhhh', 'aaaaall', 'aaaaand', 'aaaaaoouoouoouu', 'aaaaarrrrggghhh', 'aaaaaw', 'aaaaawwwwwww', 'aaaagggessss', 'aaaagh', 'aaaah', 'aaaahh', 'aaaaiieee', 'aaaand', 'aaaargh', 'aaaau', 'aaaaw', 'aaaawww', 'aaah', 'aaahaha', 'aaahh', 'aaahhh', 'aaand', 'aaargh', 'aaarrrgggghhh', 'aaarrrggghhh', 'aaarrrgh', 'aaauuuggghhh', 'aaaw', 'aaaww', 'aaawww', 'aac', 'aaggh', 'aah', 'aahhh', 'aahs', 'aannndd', 'aapko', 'aargh', 'aaron', 'aarrgghh', 'aasman', 'aawww', 'ab', 'aba', 'ababa', 'abalone']\n"
     ]
    }
   ],
   "source": [
    "print(rubbish)"
   ]
  },
  {
   "cell_type": "markdown",
   "metadata": {},
   "source": [
    "- 1) First observation is that we could replace all _ (underscores) with a space.\n",
    "\n",
    "- 2) Need a better method for removing numbers\n",
    "\n",
    "- 3) Leave instances of 'ahhhh' in because they are useful for positive and negative tweets\n",
    "\n",
    "- 4) Things we can't account for: \n",
    "    - Spelling mistakes\n",
    "    - personalised expression"
   ]
  },
  {
   "cell_type": "markdown",
   "metadata": {},
   "source": [
    "### Solution:\n",
    " - First: remove underscores and return the words on their own\n",
    " - Return token data with leading and trailing strings removed"
   ]
  },
  {
   "cell_type": "code",
   "execution_count": 103,
   "metadata": {},
   "outputs": [],
   "source": [
    "def underscoreCleaner(list_words):\n",
    "    cleanedTokens = []\n",
    "    for token in list_words:\n",
    "        token = token.replace('_',' ').strip() # replace underscore and strip leading and trailing spaces for each string\n",
    "        cleanedTokens.append(token)\n",
    "    return cleanedTokens"
   ]
  },
  {
   "cell_type": "code",
   "execution_count": 104,
   "metadata": {},
   "outputs": [
    {
     "name": "stdout",
     "output_type": "stream",
     "text": [
      "['000th', '00am', '00pm', '02mxjj', '05ixbj', '06am', '07am', '07jzs', '07k6e', '07k6x', '07kbq', '07kjr', '07xfs', '07xoh', '07xoi', '08kaifj', '097dfj', '0 o', '0a7v3j', '0f', '0ghz', '0guyoj', '0k', '0l2tsj', '0mqko', '0n', '0rpm', '0ut', '0xhu5j', '0zywwj', '1000th', '1000x', '100greatestgames', '100msg', '100th', '100x', '103f', '104m6wj', '10am', '10days', '10jsepj', '10k', '10m', '10mins', '10mm', '10p', '10pm', '10th', '10ty', '10uemq', '10yr', '1155hours', '117th', '11am', '11e', '11pm', '11th', '11w', '121908inlove', '12am', '12f0y', '12hr', '12k', '12lbs', '12p', '12r3c3', '12s', '12seconds', '12st', '12th', '12yr', '137cty', '1386am', '13f5m0', '13gigs', '13nfk1', '13pdrmj', '13pqtw', '13th', '13tolife', '147heu', '14m', '14mph', '14s', '14th', '14yr', '1500ft', '1500rpm', '153bpm', '154upj', '15am', '15c', '15fo4x', '15gb', '15h30', '15mins', '15minutes', '15th', '15yyid', '1600th', '160hp', '16k', '16lbs', '16th', '16urvv', '16w6zv', '170th', '17again', '17cy61', '17jiy8', '17th', '17zw1j', '1828x1556', '182s', '1864ml', '18aeg8', '18hrs', '18kwzh', '18mos', '18s', '18th', '1930s', '1980s', '199zwd', '19th', '1am', '1bi7ad', '1c', '1direction', '1doeej', '1e15', '1fav', '1gb', '1gurq', '1h30m', '1h33mn', '1hour', '1hr', '1k', '1kg', '1km', '1lol', '1million', '1ntp', '1ofmy', '1pm', '1s', '1st', '1tb', '1thing', '1ujzq', '1vn0', '1x', '1x2610', '1xiz', '1xri', '1zpf', '1zu9', '1zyg', '2008s', '2009the', '200f2', '200km', '200lbs', '201th', '20am', '20dd', '20gf', '20min', '20mins', '20pm', '20somethin', '20th', '20xs', '20yrs', '21cu', '21life', '21month', '21rk', '21st', '21uf', '22hrs', '22nd', '236am', '239k', '23b', '23rd', '24hr', '24hrs', '24mer', '24th', '250e', '250gb', '250k', '253ce', '25c', '25k', '25mbps', '27th', '2888mo', '28c', '28hh', '28th', '291kms', '29ers', '29th', '29yr', '2a', '2aa0m', '2agcth', '2am', '2b', '2cal', '2ce', '2d', '2day', '2dayme', '2dives', '2dmtn', '2do', '2field', '2for1', '2ft', '2gather', '2getha', '2gether', '2ghz', '2goin', '2hear', '2hi2t4y', '2hours', '2hpbg4', '2hrs', '2j3l', '2k6', '2kids', '2l', '2l63l', '2m', '2maro', '2me', '2moro', '2morrow', '2moz', '2mrw', '2my', '2nd', '2ndary', '2night', '2nit', '2nite', '2njv', '2nlc', '2nte', '2nyt', '2or', '2pm', '2s1y', '2sljbw', '2stop', '2sw4v', '2toa', '2twitter', '2uhs', '2urgp', '2uzx4', '2ve', '2vko', '2w5v', '2x', '2x2924', '2xdpf', '2xjoc', '2yr', '2zemt', '2zgfk', '300th', '30am', '30c', '30day', '30mins', '30p', '30pm', '30rc4', '30rock', '30s', '30sec', '30stm', '30th', '30tools', '30yo', '31st', '31th', '320gb', '32mb', '330pm', '336u5', '33hus', '34mb', '35am', '35mins', '35th', '36pz', '37nnd', '37wt5f', '38am', '38pm', '38th', '3alaiiik', '3am', '3bnas', '3bt', '3d', '3ds', '3g', '3goxn', '3hannah', '3hours', '3hrs', '3jfg', '3k', '3koyqo', '3lbs', '3lin', '3lqux', '3mb', '3mdce', '3nid8', '3nzth', '3o3zxoj', '3o7rv', '3oh3', '3oth', '3pj876', '3pjnc', '3pm', '3rd', '3to7', '3u', '3ware', '3wordsaftersex', '3x', '3x2500', '3x3', '3x3wq', '3xm7d', '3ysav', '400e', '400mb', '400th', '404d', '40k', '40mins', '40s', '416b7', '41dbn', '42nd', '449yj', '44am', '44secs', '45am', '45pm', '45r61', '45th', '46am', '47days', '48am', '48gy0', '48hours', '48hoursnz', '49am', '4a', '4am', '4bckp', '4ce', '4d', '4d8', '4days', '4ever', '4fnaa', '4fzo7', '4g', '4gb', '4gemf', '4get', '4give', '4gnlp', '4got', '4hbs5', '4hours', '4hsd2', '4i2zu', '4i3g6', '4iq19', '4iw0x', '4j585', '4j6kc', '4j8us', '4j8yk', '4j91r', '4j92o', '4j95z', '4j99z', '4j9eo', '4j9fb', '4j9x4', '4ja12', '4ja4b', '4ja93', '4jalj', '4jam0', '4jas7', '4jaw9', '4jax3', '4jaz5', '4jazs', '4jb0q', '4jb4o', '4jb66', '4jbba', '4jbsq', '4jbzv', '4jccd', '4jcf1', '4jcfg', '4jcjj', '4jcjr', '4jcwm', '4jcxr', '4jdrg', '4jdtj', '4jeij', '4jerc', '4jewc', '4jez4', '4jf4k', '4jf4m', '4jfg4', '4jfkw', '4jg09', '4jgro', '4jhe5', '4jhn7', '4jhp8', '4jip9', '4jj43', '4jj4j', '4jjdx', '4jjlc', '4jjy9', '4jk42', '4jk6b', '4jkea', '4jken', '4jkes', '4jkvh', '4jkvl', '4jloj', '4jmeh', '4k', '4m9up', '4more', '4nbx4', '4phze', '4pm', '4qfl3', '4qpzx', '4real', '4sx96', '4t4jv', '4t6qx', '4th', '4u', '4ukqe', '4us', '4uy8l', '4v0vr', '4vdc3', '4ve84', '4vgzy', '4visl', '4vp3x', '4vuuy', '4vvou', '4vw9a', '4w06l', '4w0yj', '4w1rr', '4w1s0', '4w22u', '4w269', '4w2ls', '4w3fi', '4w3he', '4w425', '4w472', '4w483', '4w52z', '4w5sy', '4w67l', '4w6lf', '4w70j', '4w8cw', '4w8ja', '4w8kr', '4w8l1', '4w9pe', '4w9w6', '4w9zb', '4wah5', '4ward', '4wauk', '4wb42', '4wb52', '4wbn6', '4wc1k', '4wc1y', '4wcpt', '4wcqa', '4wdgr', '4wdui', '4we4j', '4we51', '4we5w', '4weeks', '4wegx', '4wehl', '4wf30', '4wf3a', '4wfeo', '4wfqn', '4wfs8', '4wg12', '4wgoi', '4wh0l', '4wh0o', '4wh4d', '4whaf', '4wi78', '4wij6', '4wjai', '4wk9i', '4wkhi', '4wkpl', '4wkym', '4wkzi', '4wl7x', '4wlgi', '4wlpf', '4wmaw', '4wn29', '4wn9q', '4woxi', '4wp8l', '4wppe', '4wppn', '4wqe8', '4wqfv', '4wqy4', '4wr8k', '4wrrp', '4wrxq', '4wry2', '4ws3m', '4ws8w', '4ws9r', '4wsjr', '4wsk3', '4wssc', '4wsst', '4wsue', '4wsxi', '4wsy6', '4wt8a', '4wt8k', '4wtom', '4wtyj', '4wtzj', '4wua7', '4wukt', '4x4s', '4yr', '500d', '500kb', '50am', '50k', '50mm', '50p', '511q', '511r', '52aw', '530am', '530p', '53am', '54khn', '55am', '55c', '55hq2o', '56pm', '57am', '5am', '5days', '5e7dr', '5ghz', '5h3ad', '5hours', '5jboh', '5jbp3', '5jbvo', '5jckp', '5jd4b', '5jehr', '5jeu7', '5jf53', '5jfu9', '5jfuu', '5jg0u', '5jg16', '5jg6f', '5jgj3', '5jhim', '5jhtq', '5jhtv', '5jib6', '5jimj', '5jjcc', '5jkbc', '5jkbp', '5jkpz', '5jnl7', '5jnv2', '5jo4w', '5joo9', '5jq91', '5jq9o', '5jtyh', '5jucn', '5jv7j', '5k', '5ke', '5km', '5mths', '5of', '5ofzj', '5pblz', '5pm', '5rylt', '5s', '5s5f9', '5sec', '5th', '5ut6j', '5wb0k', '5ygpg', '5yk38', '5ynxo', '5ynxr', '5yomt', '5yroy', '5ytke', '5yvnd', '5yxd4', '5yyud', '5yzb6', '5z05g', '5z0dc', '5z10d', '5z193', '5z2g9', '5z2sv', '5z2zo', '5z309', '5z36j', '5z3ij', '5z3oq', '5z4p7', '5z4uq', '5z4ve', '5z50g', '5z5kz', '5z5uw', '5z639', '5z6y6', '5z7cg', '5z7v3', '5z7zs', '5z7zv', '600k', '600th', '60gb', '60hrs', '60k', '60s', '60th', '61aam', '61oj0', '61ov1', '624qo', '630p', '630pm', '63ef', '64g3b', '64mdc', '64ozr7', '6500km', '650mb', '660vv', '662vk', '663vr', '664b7', '664uz', '665a2', '665n7', '665to', '665w2', '666gy', '667a4', '6695k', '6698b', '669l2', '669nm', '66l83', '66ltb', '66m7f', '66of2', '66pn1', '66q88', '66r0u', '66roi', '66sbz', '66shw', '66st1', '66tyb', '66u67', '66uor', '66ust', '66vdn', '66vld', '66vlw', '66wxk', '66xlm', '66y00', '66yb9', '66ydb', '66z7a', '66zfd', '66zls', '670rw', '670tp', '6714p', '672s3', '673vt', '674p1', '675t7', '675tw', '675u6', '676hv', '676hz', '676tn', '677bi', '677xt', '67aim', '67azl', '67bpd', '67di2', '67eba', '67f8o', '67f8q', '67fcj', '67gwh', '67gzx', '67hac', '67hvr', '67hw5', '67i82', '67iab', '67jq9', '67jzp', '67k9w', '67kb6', '67kvt', '67l90', '67ljj', '67mj4', '67nht', '67nxe', '67ot5', '67owu', '67qhz', '67qv3', '67rcp', '67rt8', '67sk5r', '67tcr', '67to5', '67tp9', '67twh', '67uc7', '67w20', '67wa0', '67wb4', '67x74', '67x7n', '67x8k', '67xs0', '67xv3', '67ykl', '67z2q', '67zgz', '6814w', '6am', '6fgxd', '6ft', '6hesz', '6hrs', '6jo0v', '6jwjmy', '6k', '6msg', '6nkpuz', '6pm', '6pwwlj', '6rwwtj', '6th', '6urrxta8dom', '6wks', '70mpg', '70s', '71st', '730p', '730pm', '73kg', '75c', '75th', '78qvz', '79fcr', '79l0q', '7a10a', '7af72', '7ag', '7aigm', '7am', '7day', '7pm', '7th', '7vikc', '7y68', '800mhz', '800x', '80s', '80th', '81st', '82k', '88db', '88th', '8a', '8am', '8c36ej', '8d', '8gb8r', '8hrs', '8k', '8m68', '8mm', '8pm', '8q6cjc', '8qagh', '8th', '8w7iq', '8weeks', '90mm', '90mph', '90s', '90th', '930a', '95sx', '9650se', '99pb5', '99usd', '9am', '9followers', '9ftuv3xmrn0', '9h', '9j', '9mua', '9pm', '9r46tahxefkt', '9s', '9th', '9uin', '9vbzg', '9ydhu', '9yn5', '9yr', '0', '007', '01', '01xx', '03', '0407', '04071991', '05', '09', '0981', '0 tronic', '0robertpatt', '1', '10807', '10k', '11', '1210', '123', '127', '13', '15', '19', '1988', '1990', '1993', '1999', '2', '20', '2008', '21thanks', '22', '2229', '26', '2890', '2gnt', '2nd', '3', '30439', '333', '370', '3girls', '4', '420', '44', '47', '58', '654', '76', '78', '785', '786', '85', '98', '', '', '', '', '', '', 'buckley', 'cullen', 'd', 'diamond', 'hell', 'marie', 'a', 'a4l', 'a bo0', 'a hart', 'a michael', 'a r a', 'a tx', 'achillies', 'ackles', 'ada franco', 'addict', 'aguirre', 'agwl', 'ahoy', 'ai 08', 'aid16', 'aisa', 'aitana', 'aka rowan', 'alicev', 'aloud', 'always3', 'am', 'am umlaut', 'anais', 'and easy', 'and jay', 'and zi', 'anderson', 'anekie', 'angel', 'angel84', 'anke', 'ann cole', 'another 1', 'anr shine', 'anstee', 'apple', 'apuya', 'ara', 'archie', 'are fire', 'argie', 'aries', 'artillero', 'ary', 'asher', 'ashley', 'assassin', 'aston', 'astri', 'at work', 'attack', 'atticus', 'au', 'august84', 'augustine', 'aureole', 'autism', 'avenue', 'awake', 'aygee', 'b', 'b', 'b 10', 'b judah', 'babe', 'babsi', 'baby', 'bach', 'baffoon', 'bailon', 'bambu', 'bandoni', 'bayliss', 'bba', 'bbcrew', 'beachmex', 'beanz', 'beckett', 'beckiie x', 'beckwith', 'bee', 'beery', 'beez', 'beli', 'believer', 'bennett', 'benson', 'benzo', 'berra', 'bexi', 'beyond', 'bhb', 'bill2030', 'billiam', 'bishop', 'bizzle', 'blache', 'blehh', 'bloggerific', 'blogs', 'bloody poet', 'blue', 'bmac', 'bob7', 'boduch', 'bones', 'boo', 'booey', 'bop', 'bosworth', 'brad', 'brads', 'breannarose', 'bree', 'brody', 'brown', 'bug68', 'bui', 'bum', 'buns', 'burnett', 'butler', 'by spork', 'c', 'cabrera', 'caine', 'cali', 'call', 'carroll', 'carter', 'caruso', 'casagrande', 'cass', 'cat', 'cath', 'cera', 'chander', 'chapman', 'charlotte', 'cheryl', 'chick', 'chiel', 'chip', 'chrissy22', 'christie', 'chung', 'ci', 'city', 'claire', 'clp', 'club', 'cm', 'cochran', 'cohen', 'coleman', 'colossus', 'confidential', 'connors', 'conrad', 'control', 'cook', 'cool', 'coppinger', 'cordon', 'couper', 'cowan', 'coza', 'craig', 'craig g', 'crane', 'crazy', 'crazyangel', 'creek', 'crisis', 'crow', 'crumbles', 'cullen', 'cullen10', 'cullen26', 'cullen8', 'cunning', 'cupcake', 'cupcakes', 'd', 'd', 'da', 'da realest', 'daarling', 'dahsar', 'dam', 'dang', 'daughtry', 'dave', 'davis', 'day26', 'dayne', 'dazzles', 'de b', 'de baillon', 'deadgirl', 'deakin', 'death', 'dec0de', 'dee', 'deen', 'defcon1', 'design', 'devi', 'devil1', 'dew', 'diaz', 'diesel', 'dig', 'dinasadik', 'distel', 'diva', 'diva dee26', 'divine', 'dizon', 'dj', 'dk', 'dog', 'doll', 'dollaz', 'donut', 'double', 'dreamer', 'dreaming', 'dubai', 'duckett', 'dude', 'duerden', 'dulay', 'dunk', 'e', 'eagle', 'earedpages', 'ebru', 'eclectic', 'educator', 'edwards', 'efron', 'el rumi', 'elaine', 'eleni', 'eliza', 'elmo', 'emily', 'emo zac', 'en', 'envy', 'era', 'erincharde', 'ernman', 'eron', 'escobar', 'esl', 'estep', 'exp', 'express', 'extacy', 'eyedea', 'eyes', 'face', 'fam', 'fan', 'fangirl', 'fann', 'fc', 'fear me', 'ferman', 'fischer', 'fisher', 'flora', 'flores', 'forward', 'foster', 'fp', 'fr', 'fred6', 'frog', 'from hell', 'ftw', 'g', 'gaba', 'gable', 'gal', 'galore', 'gamefan', 'gant', 'garner', 'gates', 'gd', 'geronimo', 'giiggl3z', 'girl', 'gm', 'go', 'gorham', 'gov', 'greenwizard', 'gregor', 'grenade', 'greta', 'griffin', 'grl', 'grrrl', 'grubb', 'gun', 'gunn', 'gurl', 'gurl cece', 'gutter', 'guy', 'gyrl', 'h', 'h786', 'hall', 'hammond', 'hansen', 'happy emox', 'harris', 'hawt', 'hay', 'hayes', 'hayward', 'haze', 'hearts', 'heidi v', 'hemmat', 'henrie', 'herdman', 'hime', 'ho', 'holden', 'home', 'honey', 'hong', 'honi', 'hope', 'hotsawce', 'houdin', 'hunter', 'hussein', 'hypnotic', 'i', 'i am jes', 'i girl', 'iain', 'ichigo', 'idiots', 'idol', 'ife', 'ii', 'ill', 'illustrated', 'in', 'in forks', 'in love', 'in nh', 'in tx', 'indian', 'inlapush', 'inovera', 'inthemaking', 'intruder', 'is here', 'is one84', 'is rad', 'it good', 'j', 'j9', 'j stuart', 'jackson', 'jamie', 'jane14', 'janeway', 'jayr', 'jayy', 'jean', 'jeffe83', 'jen', 'jenkins', 'jessicab', 'jg', 'jo', 'jodie', 'joe', 'joelted', 'johnson', 'jolene', 'jones20', 'josa', 'joy', 'joyner', 'juansimon', 'juneau', 'k', 'k renee', 'kap', 'kartz', 'kat', 'kate', 'kaufer', 'kay', 'kay2', 'kearley', 'keepsitreal', 'kel 17', 'kelly', 'ken', 'khan', 'khc', 'kid', 'kill boy', 'kimbalicious', 'kinda guy', 'kiss', 'kittykat', 'kong', 'kookie', 'kritt', 'kryptik', 'ky monkey', 'l', 'l s', 'la mania', 'ladie', 'laiter', 'lambert', 'langley', 'lantos', 'laurie', 'lavish', 'lawrence', 'lay', 'layne', 'leann', 'lee', 'leigh', 'leslie', 'lhoste', 'lia', 'libertine', 'lick', 'life', 'lights', 'liljess x', 'lipz', 'lisa', 'liv lyf', 'live', 'loca', 'logos', 'lokelani', 'longman', 'lopez', 'lord', 'lottie', 'lou', 'lou27', 'louise', 'lovato', 'loves nkotb', 'lpz', 'lu', 'luca', 'luciano', 'luck13', 'lynn', 'm', 'mactastic', 'made', 'magazine', 'magician', 'mak', 'man', 'mandarich', 'mandm', 'manford', 'mar mey', 'marie', 'marie1', 'marls', 'mary typhoid', 'matta', 'matthes', 'mayer', 'mazur', 'mc', 'mcc', 'mcfly', 'mcflyandjb', 'mcflyy', 'mckay2009', 'mclife', 'mcloven', 'mcr', 'mcsupergirl', 'mean', 'meaway', 'megan', 'meir', 'meirizka', 'mejer', 'mel', 'melbourne', 'meow', 'mexico', 'miacherry', 'michele', 'milano', 'mills', 'ming', 'miss', 'miss cbw', 'mit glee', 'mitchell', 'mja', 'moe', 'molecule', 'molotov', 'mom', 'monk', 'monstr', 'morales', 'morgan', 'morley', 'morris', 'mounce', 'mraz', 'mueller', 'music', 'music news', 'musings', 'my soles', 'myst', 'n', 'n booklife', 'n dc', 'n nouns', 'n wilson', 'nash', 'nation', 'navarro', 'ndo', 'neith', 'nesmith', 'nessiah', 'newman', 'newnew', 'news', 'nexus', 'nichole', 'nickj07', 'nicole', 'niffer', 'nigeria', 'nj', 'nk', 'nkotb', 'nl', 'nobel', 'normal', 'north27', 'nyc', 'nye', 'o', 'o ash', 'obsession', 'of chas', 'of max', 'of the dead', 'of twtr', 'ofoz', 'ohh', 'okeefe', 'oliver', 'om', 'one', 'onfire', 'online', 'ottawa', 'p', 'paige', 'pany', 'paradise', 'parks', 'pase', 'paulevans', 'pax', 'pe', 'peabody', 'pearlman', 'pearson', 'peek', 'peer', 'perez', 'perfect', 'perth', 'peter', 'petty', 'phatass', 'phelps', 'phillips', 'photography', 'pickle', 'pierce', 'pills', 'pina 14', 'pingpong', 'pinkapple', 'polanco', 'pollard', 'pooh', 'popularent', 'precious06', 'princess69', 'printchick', 'pritchard', 'prototype09', 'punk robot', 'pyee', 'r', 'r roberts', 'rabbit', 'rachinea', 'rade', 'radio', 'rahal', 'rain', 'ranjan', 'rankin', 'raquel', 'rashid', 'raven', 'ray', 'rc234', 'read', 'real nash', 'reality', 'recordings', 'redbone', 'reece', 'reid', 'renee', 'reviews', 'rex 513', 'rey', 'reznor', 'ri ja', 'ricardo', 'richards', 'richie', 'rigby', 'ritz', 'robert', 'rockett', 'rocks', 'rocks19', 'roe', 'roo', 'rose', 'rosie', 'ross', 'rothlisberger', 'roy', 'rubadeau', 'ryall', 'ryan', 's', 's r', 'sanderson', 'sandman', 'sara', 'saurus', 'says', 'sb', 'schools', 'schulz', 'seattle', 'shan west', 'shantz', 'shaw', 'shawn', 'shediddy', 'shep', 'shields06', 'shines92', 'shiny', 'sian', 'simmons', 'sims', 'sis', 'skies', 'sko', 'sl', 'sm', 'smith', 'smith1', 'soch', 'sockso o', 'song', 'songs', 'soul', 'souljaa', 'sounds', 'spark', 'spn', 'sprigge', 'staack', 'stack', 'stack8', 'stained', 'star', 'star95', 'starla', 'starr', 'stdin', 'steph', 'steve', 'stewart', 'stiller', 'stokoe', 'storm', 'straycat', 'style', 'sunshine', 'suprnatural', 'surprises', 'sweethearts', 'sweetye', 'sydney', 'taff jones', 'tah', 'tall blonde', 'tarrant', 'tastic', 'tattoo', 'team', 'teamgreen', 'tech', 'tech update', 'tennant', 'terrible', 'the bc', 'the bear', 'the game', 'the heck', 'the moon', 'themovie', 'thomas', 'thompson', 'thrifty', 'tickle', 'tifullytragic', 'tina', 'toni', 'trainr', 'trees', 'trick', 'trip', 'troy', 'truesdale', 'truong', 'tv', 'twist86', 'twit01', 'twitster', 'twnzfinest', 'tx', 'uh knee', 'uk', 'union', 'uppercut', 'uts', 'v', 'val 4 now', 'vegetable', 'vet', 'vincent', 'violence', 'vip', 'von abe', 'w', 'w a', 'wants', 'war mt', 'ward', 'warwounds c', 'waters', 'watkins', 'watson', 'web design', 'weber', 'wesely', 'west', 'whacker', 'what', 'whincop', 'whitex', 'wi no name', 'willhoit', 'wockeez', 'world', 'wounds', 'writer', 'writes', 'wst', 'wx', 'x', 'x3', 'x atl', 'xd', 'xo', 'xox', 'y', 'y tony', 'y yankees', 'yavanna', 'yeah', 'yogini', 'you', 'yours13', 'yst', 'z', 'za', 'zaboo', 'zero', 'zol', 'zorz peep', 'zulu', 'zwitschert', 'a0nw', 'a0pyr', 'a12', 'a2', 'a200k', 'a48', 'a4fdb', 'a9', 'aa', 'aaa', 'aaaa', 'aaaaaaaaaaa', 'aaaaaaaaaahhhhhhhh', 'aaaaaaaaaamazing', 'aaaaaaaafternoon', 'aaaaaaaahhhhhhhh', 'aaaaaah', 'aaaaaahhhhhhhh', 'aaaaaawwwesome', 'aaaaahhhh', 'aaaaall', 'aaaaand', 'aaaaaoouoouoouu', 'aaaaarrrrggghhh', 'aaaaaw', 'aaaaawwwwwww', 'aaaagggessss', 'aaaagh', 'aaaah', 'aaaahh', 'aaaaiieee', 'aaaand', 'aaaargh', 'aaaau', 'aaaaw', 'aaaawww', 'aaah', 'aaahaha', 'aaahh', 'aaahhh', 'aaand', 'aaargh', 'aaarrrgggghhh', 'aaarrrggghhh', 'aaarrrgh', 'aaauuuggghhh', 'aaaw', 'aaaww', 'aaawww', 'aac', 'aaggh', 'aah', 'aahhh', 'aahs', 'aannndd', 'aapko', 'aargh', 'aaron', 'aarrgghh', 'aasman', 'aawww', 'ab', 'aba', 'ababa', 'abalone']\n"
     ]
    }
   ],
   "source": [
    "cleanTokens = underscoreCleaner(rubbish)\n",
    "print(cleanTokens)"
   ]
  },
  {
   "cell_type": "code",
   "execution_count": 105,
   "metadata": {},
   "outputs": [
    {
     "name": "stdout",
     "output_type": "stream",
     "text": [
      "Words in newly cleaned Tokens:  1859\n"
     ]
    }
   ],
   "source": [
    "print(\"Words in newly cleaned Tokens: \", len(cleanTokens))"
   ]
  },
  {
   "cell_type": "markdown",
   "metadata": {},
   "source": [
    "Now the data has more words in the corpus\n",
    "\n",
    "- Now we need to remove: '' , from the data, i.e. no space strings\n",
    "- We can reinstantiate the singleLetter removal method\n",
    "- We can reinstantiate the numberRemoval method\n",
    "- However there are still those words that have a number and random letters as a string. A separate method is required to remove those."
   ]
  },
  {
   "cell_type": "code",
   "execution_count": 106,
   "metadata": {},
   "outputs": [],
   "source": [
    "def numberRemoval(list_object):\n",
    "    pattern = '[0-9]'\n",
    "    tokens = [re.sub(pattern, '', i).strip() for i in list_object] \n",
    "    return tokens"
   ]
  },
  {
   "cell_type": "code",
   "execution_count": 107,
   "metadata": {},
   "outputs": [
    {
     "name": "stdout",
     "output_type": "stream",
     "text": [
      "Number of Tokens after all Digit removal 1859\n"
     ]
    }
   ],
   "source": [
    "cleanTokens = numberRemoval(cleanTokens)\n",
    "print(\"Number of Tokens after all Digit removal\", len(cleanTokens))"
   ]
  },
  {
   "cell_type": "code",
   "execution_count": 108,
   "metadata": {},
   "outputs": [
    {
     "name": "stdout",
     "output_type": "stream",
     "text": [
      "['th', 'am', 'pm', 'mxjj', 'ixbj', 'am', 'am', 'jzs', 'ke', 'kx', 'kbq', 'kjr', 'xfs', 'xoh', 'xoi', 'kaifj', 'dfj', 'o', 'avj', 'f', 'ghz', 'guyoj', 'k', 'ltsj', 'mqko', 'n', 'rpm', 'ut', 'xhuj', 'zywwj', 'th', 'x', 'greatestgames', 'msg', 'th', 'x', 'f', 'mwj', 'am', 'days', 'jsepj', 'k', 'm', 'mins', 'mm', 'p', 'pm', 'th', 'ty', 'uemq', 'yr', 'hours', 'th', 'am', 'e', 'pm', 'th', 'w', 'inlove', 'am', 'fy', 'hr', 'k', 'lbs', 'p', 'rc', 's', 'seconds', 'st', 'th', 'yr', 'cty', 'am', 'fm', 'gigs', 'nfk', 'pdrmj', 'pqtw', 'th', 'tolife', 'heu', 'm', 'mph', 's', 'th', 'yr', 'ft', 'rpm', 'bpm', 'upj', 'am', 'c', 'fox', 'gb', 'h', 'mins', 'minutes', 'th', 'yyid', 'th', 'hp', 'k', 'lbs', 'th', 'urvv', 'wzv', 'th', 'again', 'cy', 'jiy', 'th', 'zwj', 'x', 's', 'ml', 'aeg', 'hrs', 'kwzh', 'mos', 's', 'th', 's', 's', 'zwd', 'th', 'am', 'biad', 'c', 'direction', 'doeej', 'e', 'fav', 'gb', 'gurq', 'hm', 'hmn', 'hour', 'hr', 'k', 'kg', 'km', 'lol', 'million', 'ntp', 'ofmy', 'pm', 's', 'st', 'tb', 'thing', 'ujzq', 'vn', 'x', 'x', 'xiz', 'xri', 'zpf', 'zu', 'zyg', 's', 'the', 'f', 'km', 'lbs', 'th', 'am', 'dd', 'gf', 'min', 'mins', 'pm', 'somethin', 'th', 'xs', 'yrs', 'cu', 'life', 'month', 'rk', 'st', 'uf', 'hrs', 'nd', 'am', 'k', 'b', 'rd', 'hr', 'hrs', 'mer', 'th', 'e', 'gb', 'k', 'ce', 'c', 'k', 'mbps', 'th', 'mo', 'c', 'hh', 'th', 'kms', 'ers', 'th', 'yr', 'a', 'aam', 'agcth', 'am', 'b', 'cal', 'ce', 'd', 'day', 'dayme', 'dives', 'dmtn', 'do', 'field', 'for', 'ft', 'gather', 'getha', 'gether', 'ghz', 'goin', 'hear', 'hity', 'hours', 'hpbg', 'hrs', 'jl', 'k', 'kids', 'l', 'll', 'm', 'maro', 'me', 'moro', 'morrow', 'moz', 'mrw', 'my', 'nd', 'ndary', 'night', 'nit', 'nite', 'njv', 'nlc', 'nte', 'nyt', 'or', 'pm', 'sy', 'sljbw', 'stop', 'swv', 'toa', 'twitter', 'uhs', 'urgp', 'uzx', 've', 'vko', 'wv', 'x', 'x', 'xdpf', 'xjoc', 'yr', 'zemt', 'zgfk', 'th', 'am', 'c', 'day', 'mins', 'p', 'pm', 'rc', 'rock', 's', 'sec', 'stm', 'th', 'tools', 'yo', 'st', 'th', 'gb', 'mb', 'pm', 'u', 'hus', 'mb', 'am', 'mins', 'th', 'pz', 'nnd', 'wtf', 'am', 'pm', 'th', 'alaiiik', 'am', 'bnas', 'bt', 'd', 'ds', 'g', 'goxn', 'hannah', 'hours', 'hrs', 'jfg', 'k', 'koyqo', 'lbs', 'lin', 'lqux', 'mb', 'mdce', 'nid', 'nzth', 'ozxoj', 'orv', 'oh', 'oth', 'pj', 'pjnc', 'pm', 'rd', 'to', 'u', 'ware', 'wordsaftersex', 'x', 'x', 'x', 'xwq', 'xmd', 'ysav', 'e', 'mb', 'th', 'd', 'k', 'mins', 's', 'b', 'dbn', 'nd', 'yj', 'am', 'secs', 'am', 'pm', 'r', 'th', 'am', 'days', 'am', 'gy', 'hours', 'hoursnz', 'am', 'a', 'am', 'bckp', 'ce', 'd', 'd', 'days', 'ever', 'fnaa', 'fzo', 'g', 'gb', 'gemf', 'get', 'give', 'gnlp', 'got', 'hbs', 'hours', 'hsd', 'izu', 'ig', 'iq', 'iwx', 'j', 'jkc', 'jus', 'jyk', 'jr', 'jo', 'jz', 'jz', 'jeo', 'jfb', 'jx', 'ja', 'jab', 'ja', 'jalj', 'jam', 'jas', 'jaw', 'jax', 'jaz', 'jazs', 'jbq', 'jbo', 'jb', 'jbba', 'jbsq', 'jbzv', 'jccd', 'jcf', 'jcfg', 'jcjj', 'jcjr', 'jcwm', 'jcxr', 'jdrg', 'jdtj', 'jeij', 'jerc', 'jewc', 'jez', 'jfk', 'jfm', 'jfg', 'jfkw', 'jg', 'jgro', 'jhe', 'jhn', 'jhp', 'jip', 'jj', 'jjj', 'jjdx', 'jjlc', 'jjy', 'jk', 'jkb', 'jkea', 'jken', 'jkes', 'jkvh', 'jkvl', 'jloj', 'jmeh', 'k', 'mup', 'more', 'nbx', 'phze', 'pm', 'qfl', 'qpzx', 'real', 'sx', 'tjv', 'tqx', 'th', 'u', 'ukqe', 'us', 'uyl', 'vvr', 'vdc', 've', 'vgzy', 'visl', 'vpx', 'vuuy', 'vvou', 'vwa', 'wl', 'wyj', 'wrr', 'ws', 'wu', 'w', 'wls', 'wfi', 'whe', 'w', 'w', 'w', 'wz', 'wsy', 'wl', 'wlf', 'wj', 'wcw', 'wja', 'wkr', 'wl', 'wpe', 'ww', 'wzb', 'wah', 'ward', 'wauk', 'wb', 'wb', 'wbn', 'wck', 'wcy', 'wcpt', 'wcqa', 'wdgr', 'wdui', 'wej', 'we', 'wew', 'weeks', 'wegx', 'wehl', 'wf', 'wfa', 'wfeo', 'wfqn', 'wfs', 'wg', 'wgoi', 'whl', 'who', 'whd', 'whaf', 'wi', 'wij', 'wjai', 'wki', 'wkhi', 'wkpl', 'wkym', 'wkzi', 'wlx', 'wlgi', 'wlpf', 'wmaw', 'wn', 'wnq', 'woxi', 'wpl', 'wppe', 'wppn', 'wqe', 'wqfv', 'wqy', 'wrk', 'wrrp', 'wrxq', 'wry', 'wsm', 'wsw', 'wsr', 'wsjr', 'wsk', 'wssc', 'wsst', 'wsue', 'wsxi', 'wsy', 'wta', 'wtk', 'wtom', 'wtyj', 'wtzj', 'wua', 'wukt', 'xs', 'yr', 'd', 'kb', 'am', 'k', 'mm', 'p', 'q', 'r', 'aw', 'am', 'p', 'am', 'khn', 'am', 'c', 'hqo', 'pm', 'am', 'am', 'days', 'edr', 'ghz', 'had', 'hours', 'jboh', 'jbp', 'jbvo', 'jckp', 'jdb', 'jehr', 'jeu', 'jf', 'jfu', 'jfuu', 'jgu', 'jg', 'jgf', 'jgj', 'jhim', 'jhtq', 'jhtv', 'jib', 'jimj', 'jjcc', 'jkbc', 'jkbp', 'jkpz', 'jnl', 'jnv', 'jow', 'joo', 'jq', 'jqo', 'jtyh', 'jucn', 'jvj', 'k', 'ke', 'km', 'mths', 'of', 'ofzj', 'pblz', 'pm', 'rylt', 's', 'sf', 'sec', 'th', 'utj', 'wbk', 'ygpg', 'yk', 'ynxo', 'ynxr', 'yomt', 'yroy', 'ytke', 'yvnd', 'yxd', 'yyud', 'yzb', 'zg', 'zdc', 'zd', 'z', 'zg', 'zsv', 'zzo', 'z', 'zj', 'zij', 'zoq', 'zp', 'zuq', 'zve', 'zg', 'zkz', 'zuw', 'z', 'zy', 'zcg', 'zv', 'zzs', 'zzv', 'k', 'th', 'gb', 'hrs', 'k', 's', 'th', 'aam', 'oj', 'ov', 'qo', 'p', 'pm', 'ef', 'gb', 'mdc', 'ozr', 'km', 'mb', 'vv', 'vk', 'vr', 'b', 'uz', 'a', 'n', 'to', 'w', 'gy', 'a', 'k', 'b', 'l', 'nm', 'l', 'ltb', 'mf', 'of', 'pn', 'q', 'ru', 'roi', 'sbz', 'shw', 'st', 'tyb', 'u', 'uor', 'ust', 'vdn', 'vld', 'vlw', 'wxk', 'xlm', 'y', 'yb', 'ydb', 'za', 'zfd', 'zls', 'rw', 'tp', 'p', 's', 'vt', 'p', 't', 'tw', 'u', 'hv', 'hz', 'tn', 'bi', 'xt', 'aim', 'azl', 'bpd', 'di', 'eba', 'fo', 'fq', 'fcj', 'gwh', 'gzx', 'hac', 'hvr', 'hw', 'i', 'iab', 'jq', 'jzp', 'kw', 'kb', 'kvt', 'l', 'ljj', 'mj', 'nht', 'nxe', 'ot', 'owu', 'qhz', 'qv', 'rcp', 'rt', 'skr', 'tcr', 'to', 'tp', 'twh', 'uc', 'w', 'wa', 'wb', 'x', 'xn', 'xk', 'xs', 'xv', 'ykl', 'zq', 'zgz', 'w', 'am', 'fgxd', 'ft', 'hesz', 'hrs', 'jov', 'jwjmy', 'k', 'msg', 'nkpuz', 'pm', 'pwwlj', 'rwwtj', 'th', 'urrxtadom', 'wks', 'mpg', 's', 'st', 'p', 'pm', 'kg', 'c', 'th', 'qvz', 'fcr', 'lq', 'aa', 'af', 'ag', 'aigm', 'am', 'day', 'pm', 'th', 'vikc', 'y', 'mhz', 'x', 's', 'th', 'st', 'k', 'db', 'th', 'a', 'am', 'cej', 'd', 'gbr', 'hrs', 'k', 'm', 'mm', 'pm', 'qcjc', 'qagh', 'th', 'wiq', 'weeks', 'mm', 'mph', 's', 'th', 'a', 'sx', 'se', 'pb', 'usd', 'am', 'followers', 'ftuvxmrn', 'h', 'j', 'mua', 'pm', 'rtahxefkt', 's', 'th', 'uin', 'vbzg', 'ydhu', 'yn', 'yr', '', '', '', 'xx', '', '', '', '', '', '', 'tronic', 'robertpatt', '', '', 'k', '', '', '', '', '', '', '', '', '', '', '', '', '', '', 'thanks', '', '', '', '', 'gnt', 'nd', '', '', '', '', 'girls', '', '', '', '', '', '', '', '', '', '', '', '', '', '', '', '', '', '', 'buckley', 'cullen', 'd', 'diamond', 'hell', 'marie', 'a', 'al', 'a bo', 'a hart', 'a michael', 'a r a', 'a tx', 'achillies', 'ackles', 'ada franco', 'addict', 'aguirre', 'agwl', 'ahoy', 'ai', 'aid', 'aisa', 'aitana', 'aka rowan', 'alicev', 'aloud', 'always', 'am', 'am umlaut', 'anais', 'and easy', 'and jay', 'and zi', 'anderson', 'anekie', 'angel', 'angel', 'anke', 'ann cole', 'another', 'anr shine', 'anstee', 'apple', 'apuya', 'ara', 'archie', 'are fire', 'argie', 'aries', 'artillero', 'ary', 'asher', 'ashley', 'assassin', 'aston', 'astri', 'at work', 'attack', 'atticus', 'au', 'august', 'augustine', 'aureole', 'autism', 'avenue', 'awake', 'aygee', 'b', 'b', 'b', 'b judah', 'babe', 'babsi', 'baby', 'bach', 'baffoon', 'bailon', 'bambu', 'bandoni', 'bayliss', 'bba', 'bbcrew', 'beachmex', 'beanz', 'beckett', 'beckiie x', 'beckwith', 'bee', 'beery', 'beez', 'beli', 'believer', 'bennett', 'benson', 'benzo', 'berra', 'bexi', 'beyond', 'bhb', 'bill', 'billiam', 'bishop', 'bizzle', 'blache', 'blehh', 'bloggerific', 'blogs', 'bloody poet', 'blue', 'bmac', 'bob', 'boduch', 'bones', 'boo', 'booey', 'bop', 'bosworth', 'brad', 'brads', 'breannarose', 'bree', 'brody', 'brown', 'bug', 'bui', 'bum', 'buns', 'burnett', 'butler', 'by spork', 'c', 'cabrera', 'caine', 'cali', 'call', 'carroll', 'carter', 'caruso', 'casagrande', 'cass', 'cat', 'cath', 'cera', 'chander', 'chapman', 'charlotte', 'cheryl', 'chick', 'chiel', 'chip', 'chrissy', 'christie', 'chung', 'ci', 'city', 'claire', 'clp', 'club', 'cm', 'cochran', 'cohen', 'coleman', 'colossus', 'confidential', 'connors', 'conrad', 'control', 'cook', 'cool', 'coppinger', 'cordon', 'couper', 'cowan', 'coza', 'craig', 'craig g', 'crane', 'crazy', 'crazyangel', 'creek', 'crisis', 'crow', 'crumbles', 'cullen', 'cullen', 'cullen', 'cullen', 'cunning', 'cupcake', 'cupcakes', 'd', 'd', 'da', 'da realest', 'daarling', 'dahsar', 'dam', 'dang', 'daughtry', 'dave', 'davis', 'day', 'dayne', 'dazzles', 'de b', 'de baillon', 'deadgirl', 'deakin', 'death', 'decde', 'dee', 'deen', 'defcon', 'design', 'devi', 'devil', 'dew', 'diaz', 'diesel', 'dig', 'dinasadik', 'distel', 'diva', 'diva dee', 'divine', 'dizon', 'dj', 'dk', 'dog', 'doll', 'dollaz', 'donut', 'double', 'dreamer', 'dreaming', 'dubai', 'duckett', 'dude', 'duerden', 'dulay', 'dunk', 'e', 'eagle', 'earedpages', 'ebru', 'eclectic', 'educator', 'edwards', 'efron', 'el rumi', 'elaine', 'eleni', 'eliza', 'elmo', 'emily', 'emo zac', 'en', 'envy', 'era', 'erincharde', 'ernman', 'eron', 'escobar', 'esl', 'estep', 'exp', 'express', 'extacy', 'eyedea', 'eyes', 'face', 'fam', 'fan', 'fangirl', 'fann', 'fc', 'fear me', 'ferman', 'fischer', 'fisher', 'flora', 'flores', 'forward', 'foster', 'fp', 'fr', 'fred', 'frog', 'from hell', 'ftw', 'g', 'gaba', 'gable', 'gal', 'galore', 'gamefan', 'gant', 'garner', 'gates', 'gd', 'geronimo', 'giigglz', 'girl', 'gm', 'go', 'gorham', 'gov', 'greenwizard', 'gregor', 'grenade', 'greta', 'griffin', 'grl', 'grrrl', 'grubb', 'gun', 'gunn', 'gurl', 'gurl cece', 'gutter', 'guy', 'gyrl', 'h', 'h', 'hall', 'hammond', 'hansen', 'happy emox', 'harris', 'hawt', 'hay', 'hayes', 'hayward', 'haze', 'hearts', 'heidi v', 'hemmat', 'henrie', 'herdman', 'hime', 'ho', 'holden', 'home', 'honey', 'hong', 'honi', 'hope', 'hotsawce', 'houdin', 'hunter', 'hussein', 'hypnotic', 'i', 'i am jes', 'i girl', 'iain', 'ichigo', 'idiots', 'idol', 'ife', 'ii', 'ill', 'illustrated', 'in', 'in forks', 'in love', 'in nh', 'in tx', 'indian', 'inlapush', 'inovera', 'inthemaking', 'intruder', 'is here', 'is one', 'is rad', 'it good', 'j', 'j', 'j stuart', 'jackson', 'jamie', 'jane', 'janeway', 'jayr', 'jayy', 'jean', 'jeffe', 'jen', 'jenkins', 'jessicab', 'jg', 'jo', 'jodie', 'joe', 'joelted', 'johnson', 'jolene', 'jones', 'josa', 'joy', 'joyner', 'juansimon', 'juneau', 'k', 'k renee', 'kap', 'kartz', 'kat', 'kate', 'kaufer', 'kay', 'kay', 'kearley', 'keepsitreal', 'kel', 'kelly', 'ken', 'khan', 'khc', 'kid', 'kill boy', 'kimbalicious', 'kinda guy', 'kiss', 'kittykat', 'kong', 'kookie', 'kritt', 'kryptik', 'ky monkey', 'l', 'l s', 'la mania', 'ladie', 'laiter', 'lambert', 'langley', 'lantos', 'laurie', 'lavish', 'lawrence', 'lay', 'layne', 'leann', 'lee', 'leigh', 'leslie', 'lhoste', 'lia', 'libertine', 'lick', 'life', 'lights', 'liljess x', 'lipz', 'lisa', 'liv lyf', 'live', 'loca', 'logos', 'lokelani', 'longman', 'lopez', 'lord', 'lottie', 'lou', 'lou', 'louise', 'lovato', 'loves nkotb', 'lpz', 'lu', 'luca', 'luciano', 'luck', 'lynn', 'm', 'mactastic', 'made', 'magazine', 'magician', 'mak', 'man', 'mandarich', 'mandm', 'manford', 'mar mey', 'marie', 'marie', 'marls', 'mary typhoid', 'matta', 'matthes', 'mayer', 'mazur', 'mc', 'mcc', 'mcfly', 'mcflyandjb', 'mcflyy', 'mckay', 'mclife', 'mcloven', 'mcr', 'mcsupergirl', 'mean', 'meaway', 'megan', 'meir', 'meirizka', 'mejer', 'mel', 'melbourne', 'meow', 'mexico', 'miacherry', 'michele', 'milano', 'mills', 'ming', 'miss', 'miss cbw', 'mit glee', 'mitchell', 'mja', 'moe', 'molecule', 'molotov', 'mom', 'monk', 'monstr', 'morales', 'morgan', 'morley', 'morris', 'mounce', 'mraz', 'mueller', 'music', 'music news', 'musings', 'my soles', 'myst', 'n', 'n booklife', 'n dc', 'n nouns', 'n wilson', 'nash', 'nation', 'navarro', 'ndo', 'neith', 'nesmith', 'nessiah', 'newman', 'newnew', 'news', 'nexus', 'nichole', 'nickj', 'nicole', 'niffer', 'nigeria', 'nj', 'nk', 'nkotb', 'nl', 'nobel', 'normal', 'north', 'nyc', 'nye', 'o', 'o ash', 'obsession', 'of chas', 'of max', 'of the dead', 'of twtr', 'ofoz', 'ohh', 'okeefe', 'oliver', 'om', 'one', 'onfire', 'online', 'ottawa', 'p', 'paige', 'pany', 'paradise', 'parks', 'pase', 'paulevans', 'pax', 'pe', 'peabody', 'pearlman', 'pearson', 'peek', 'peer', 'perez', 'perfect', 'perth', 'peter', 'petty', 'phatass', 'phelps', 'phillips', 'photography', 'pickle', 'pierce', 'pills', 'pina', 'pingpong', 'pinkapple', 'polanco', 'pollard', 'pooh', 'popularent', 'precious', 'princess', 'printchick', 'pritchard', 'prototype', 'punk robot', 'pyee', 'r', 'r roberts', 'rabbit', 'rachinea', 'rade', 'radio', 'rahal', 'rain', 'ranjan', 'rankin', 'raquel', 'rashid', 'raven', 'ray', 'rc', 'read', 'real nash', 'reality', 'recordings', 'redbone', 'reece', 'reid', 'renee', 'reviews', 'rex', 'rey', 'reznor', 'ri ja', 'ricardo', 'richards', 'richie', 'rigby', 'ritz', 'robert', 'rockett', 'rocks', 'rocks', 'roe', 'roo', 'rose', 'rosie', 'ross', 'rothlisberger', 'roy', 'rubadeau', 'ryall', 'ryan', 's', 's r', 'sanderson', 'sandman', 'sara', 'saurus', 'says', 'sb', 'schools', 'schulz', 'seattle', 'shan west', 'shantz', 'shaw', 'shawn', 'shediddy', 'shep', 'shields', 'shines', 'shiny', 'sian', 'simmons', 'sims', 'sis', 'skies', 'sko', 'sl', 'sm', 'smith', 'smith', 'soch', 'sockso o', 'song', 'songs', 'soul', 'souljaa', 'sounds', 'spark', 'spn', 'sprigge', 'staack', 'stack', 'stack', 'stained', 'star', 'star', 'starla', 'starr', 'stdin', 'steph', 'steve', 'stewart', 'stiller', 'stokoe', 'storm', 'straycat', 'style', 'sunshine', 'suprnatural', 'surprises', 'sweethearts', 'sweetye', 'sydney', 'taff jones', 'tah', 'tall blonde', 'tarrant', 'tastic', 'tattoo', 'team', 'teamgreen', 'tech', 'tech update', 'tennant', 'terrible', 'the bc', 'the bear', 'the game', 'the heck', 'the moon', 'themovie', 'thomas', 'thompson', 'thrifty', 'tickle', 'tifullytragic', 'tina', 'toni', 'trainr', 'trees', 'trick', 'trip', 'troy', 'truesdale', 'truong', 'tv', 'twist', 'twit', 'twitster', 'twnzfinest', 'tx', 'uh knee', 'uk', 'union', 'uppercut', 'uts', 'v', 'val  now', 'vegetable', 'vet', 'vincent', 'violence', 'vip', 'von abe', 'w', 'w a', 'wants', 'war mt', 'ward', 'warwounds c', 'waters', 'watkins', 'watson', 'web design', 'weber', 'wesely', 'west', 'whacker', 'what', 'whincop', 'whitex', 'wi no name', 'willhoit', 'wockeez', 'world', 'wounds', 'writer', 'writes', 'wst', 'wx', 'x', 'x', 'x atl', 'xd', 'xo', 'xox', 'y', 'y tony', 'y yankees', 'yavanna', 'yeah', 'yogini', 'you', 'yours', 'yst', 'z', 'za', 'zaboo', 'zero', 'zol', 'zorz peep', 'zulu', 'zwitschert', 'anw', 'apyr', 'a', 'a', 'ak', 'a', 'afdb', 'a', 'aa', 'aaa', 'aaaa', 'aaaaaaaaaaa', 'aaaaaaaaaahhhhhhhh', 'aaaaaaaaaamazing', 'aaaaaaaafternoon', 'aaaaaaaahhhhhhhh', 'aaaaaah', 'aaaaaahhhhhhhh', 'aaaaaawwwesome', 'aaaaahhhh', 'aaaaall', 'aaaaand', 'aaaaaoouoouoouu', 'aaaaarrrrggghhh', 'aaaaaw', 'aaaaawwwwwww', 'aaaagggessss', 'aaaagh', 'aaaah', 'aaaahh', 'aaaaiieee', 'aaaand', 'aaaargh', 'aaaau', 'aaaaw', 'aaaawww', 'aaah', 'aaahaha', 'aaahh', 'aaahhh', 'aaand', 'aaargh', 'aaarrrgggghhh', 'aaarrrggghhh', 'aaarrrgh', 'aaauuuggghhh', 'aaaw', 'aaaww', 'aaawww', 'aac', 'aaggh', 'aah', 'aahhh', 'aahs', 'aannndd', 'aapko', 'aargh', 'aaron', 'aarrgghh', 'aasman', 'aawww', 'ab', 'aba', 'ababa', 'abalone']\n"
     ]
    }
   ],
   "source": [
    "print(cleanTokens)"
   ]
  },
  {
   "cell_type": "markdown",
   "metadata": {},
   "source": [
    "### Observations\n",
    "\n",
    "- Do we want to keep 'xx' patterns because they are used in positive tweets\n",
    "- Can instantiate the remove single character removal method:"
   ]
  },
  {
   "cell_type": "code",
   "execution_count": 109,
   "metadata": {},
   "outputs": [],
   "source": [
    "def singleLetterRemoval(list_object):\n",
    "    tokens = []\n",
    "    for token in list_object:\n",
    "        if len(token) > 1:\n",
    "            tokens.append(token)\n",
    "    return tokens"
   ]
  },
  {
   "cell_type": "code",
   "execution_count": 110,
   "metadata": {},
   "outputs": [
    {
     "name": "stdout",
     "output_type": "stream",
     "text": [
      "Number of tokens after Single Letter Removal:  1643\n"
     ]
    }
   ],
   "source": [
    "cleanTokens = singleLetterRemoval(cleanTokens)\n",
    "print(\"Number of tokens after Single Letter Removal: \", len(cleanTokens))"
   ]
  },
  {
   "cell_type": "code",
   "execution_count": 111,
   "metadata": {},
   "outputs": [
    {
     "name": "stdout",
     "output_type": "stream",
     "text": [
      "['th', 'am', 'pm', 'mxjj', 'ixbj', 'am', 'am', 'jzs', 'ke', 'kx', 'kbq', 'kjr', 'xfs', 'xoh', 'xoi', 'kaifj', 'dfj', 'avj', 'ghz', 'guyoj', 'ltsj', 'mqko', 'rpm', 'ut', 'xhuj', 'zywwj', 'th', 'greatestgames', 'msg', 'th', 'mwj', 'am', 'days', 'jsepj', 'mins', 'mm', 'pm', 'th', 'ty', 'uemq', 'yr', 'hours', 'th', 'am', 'pm', 'th', 'inlove', 'am', 'fy', 'hr', 'lbs', 'rc', 'seconds', 'st', 'th', 'yr', 'cty', 'am', 'fm', 'gigs', 'nfk', 'pdrmj', 'pqtw', 'th', 'tolife', 'heu', 'mph', 'th', 'yr', 'ft', 'rpm', 'bpm', 'upj', 'am', 'fox', 'gb', 'mins', 'minutes', 'th', 'yyid', 'th', 'hp', 'lbs', 'th', 'urvv', 'wzv', 'th', 'again', 'cy', 'jiy', 'th', 'zwj', 'ml', 'aeg', 'hrs', 'kwzh', 'mos', 'th', 'zwd', 'th', 'am', 'biad', 'direction', 'doeej', 'fav', 'gb', 'gurq', 'hm', 'hmn', 'hour', 'hr', 'kg', 'km', 'lol', 'million', 'ntp', 'ofmy', 'pm', 'st', 'tb', 'thing', 'ujzq', 'vn', 'xiz', 'xri', 'zpf', 'zu', 'zyg', 'the', 'km', 'lbs', 'th', 'am', 'dd', 'gf', 'min', 'mins', 'pm', 'somethin', 'th', 'xs', 'yrs', 'cu', 'life', 'month', 'rk', 'st', 'uf', 'hrs', 'nd', 'am', 'rd', 'hr', 'hrs', 'mer', 'th', 'gb', 'ce', 'mbps', 'th', 'mo', 'hh', 'th', 'kms', 'ers', 'th', 'yr', 'aam', 'agcth', 'am', 'cal', 'ce', 'day', 'dayme', 'dives', 'dmtn', 'do', 'field', 'for', 'ft', 'gather', 'getha', 'gether', 'ghz', 'goin', 'hear', 'hity', 'hours', 'hpbg', 'hrs', 'jl', 'kids', 'll', 'maro', 'me', 'moro', 'morrow', 'moz', 'mrw', 'my', 'nd', 'ndary', 'night', 'nit', 'nite', 'njv', 'nlc', 'nte', 'nyt', 'or', 'pm', 'sy', 'sljbw', 'stop', 'swv', 'toa', 'twitter', 'uhs', 'urgp', 'uzx', 've', 'vko', 'wv', 'xdpf', 'xjoc', 'yr', 'zemt', 'zgfk', 'th', 'am', 'day', 'mins', 'pm', 'rc', 'rock', 'sec', 'stm', 'th', 'tools', 'yo', 'st', 'th', 'gb', 'mb', 'pm', 'hus', 'mb', 'am', 'mins', 'th', 'pz', 'nnd', 'wtf', 'am', 'pm', 'th', 'alaiiik', 'am', 'bnas', 'bt', 'ds', 'goxn', 'hannah', 'hours', 'hrs', 'jfg', 'koyqo', 'lbs', 'lin', 'lqux', 'mb', 'mdce', 'nid', 'nzth', 'ozxoj', 'orv', 'oh', 'oth', 'pj', 'pjnc', 'pm', 'rd', 'to', 'ware', 'wordsaftersex', 'xwq', 'xmd', 'ysav', 'mb', 'th', 'mins', 'dbn', 'nd', 'yj', 'am', 'secs', 'am', 'pm', 'th', 'am', 'days', 'am', 'gy', 'hours', 'hoursnz', 'am', 'am', 'bckp', 'ce', 'days', 'ever', 'fnaa', 'fzo', 'gb', 'gemf', 'get', 'give', 'gnlp', 'got', 'hbs', 'hours', 'hsd', 'izu', 'ig', 'iq', 'iwx', 'jkc', 'jus', 'jyk', 'jr', 'jo', 'jz', 'jz', 'jeo', 'jfb', 'jx', 'ja', 'jab', 'ja', 'jalj', 'jam', 'jas', 'jaw', 'jax', 'jaz', 'jazs', 'jbq', 'jbo', 'jb', 'jbba', 'jbsq', 'jbzv', 'jccd', 'jcf', 'jcfg', 'jcjj', 'jcjr', 'jcwm', 'jcxr', 'jdrg', 'jdtj', 'jeij', 'jerc', 'jewc', 'jez', 'jfk', 'jfm', 'jfg', 'jfkw', 'jg', 'jgro', 'jhe', 'jhn', 'jhp', 'jip', 'jj', 'jjj', 'jjdx', 'jjlc', 'jjy', 'jk', 'jkb', 'jkea', 'jken', 'jkes', 'jkvh', 'jkvl', 'jloj', 'jmeh', 'mup', 'more', 'nbx', 'phze', 'pm', 'qfl', 'qpzx', 'real', 'sx', 'tjv', 'tqx', 'th', 'ukqe', 'us', 'uyl', 'vvr', 'vdc', 've', 'vgzy', 'visl', 'vpx', 'vuuy', 'vvou', 'vwa', 'wl', 'wyj', 'wrr', 'ws', 'wu', 'wls', 'wfi', 'whe', 'wz', 'wsy', 'wl', 'wlf', 'wj', 'wcw', 'wja', 'wkr', 'wl', 'wpe', 'ww', 'wzb', 'wah', 'ward', 'wauk', 'wb', 'wb', 'wbn', 'wck', 'wcy', 'wcpt', 'wcqa', 'wdgr', 'wdui', 'wej', 'we', 'wew', 'weeks', 'wegx', 'wehl', 'wf', 'wfa', 'wfeo', 'wfqn', 'wfs', 'wg', 'wgoi', 'whl', 'who', 'whd', 'whaf', 'wi', 'wij', 'wjai', 'wki', 'wkhi', 'wkpl', 'wkym', 'wkzi', 'wlx', 'wlgi', 'wlpf', 'wmaw', 'wn', 'wnq', 'woxi', 'wpl', 'wppe', 'wppn', 'wqe', 'wqfv', 'wqy', 'wrk', 'wrrp', 'wrxq', 'wry', 'wsm', 'wsw', 'wsr', 'wsjr', 'wsk', 'wssc', 'wsst', 'wsue', 'wsxi', 'wsy', 'wta', 'wtk', 'wtom', 'wtyj', 'wtzj', 'wua', 'wukt', 'xs', 'yr', 'kb', 'am', 'mm', 'aw', 'am', 'am', 'khn', 'am', 'hqo', 'pm', 'am', 'am', 'days', 'edr', 'ghz', 'had', 'hours', 'jboh', 'jbp', 'jbvo', 'jckp', 'jdb', 'jehr', 'jeu', 'jf', 'jfu', 'jfuu', 'jgu', 'jg', 'jgf', 'jgj', 'jhim', 'jhtq', 'jhtv', 'jib', 'jimj', 'jjcc', 'jkbc', 'jkbp', 'jkpz', 'jnl', 'jnv', 'jow', 'joo', 'jq', 'jqo', 'jtyh', 'jucn', 'jvj', 'ke', 'km', 'mths', 'of', 'ofzj', 'pblz', 'pm', 'rylt', 'sf', 'sec', 'th', 'utj', 'wbk', 'ygpg', 'yk', 'ynxo', 'ynxr', 'yomt', 'yroy', 'ytke', 'yvnd', 'yxd', 'yyud', 'yzb', 'zg', 'zdc', 'zd', 'zg', 'zsv', 'zzo', 'zj', 'zij', 'zoq', 'zp', 'zuq', 'zve', 'zg', 'zkz', 'zuw', 'zy', 'zcg', 'zv', 'zzs', 'zzv', 'th', 'gb', 'hrs', 'th', 'aam', 'oj', 'ov', 'qo', 'pm', 'ef', 'gb', 'mdc', 'ozr', 'km', 'mb', 'vv', 'vk', 'vr', 'uz', 'to', 'gy', 'nm', 'ltb', 'mf', 'of', 'pn', 'ru', 'roi', 'sbz', 'shw', 'st', 'tyb', 'uor', 'ust', 'vdn', 'vld', 'vlw', 'wxk', 'xlm', 'yb', 'ydb', 'za', 'zfd', 'zls', 'rw', 'tp', 'vt', 'tw', 'hv', 'hz', 'tn', 'bi', 'xt', 'aim', 'azl', 'bpd', 'di', 'eba', 'fo', 'fq', 'fcj', 'gwh', 'gzx', 'hac', 'hvr', 'hw', 'iab', 'jq', 'jzp', 'kw', 'kb', 'kvt', 'ljj', 'mj', 'nht', 'nxe', 'ot', 'owu', 'qhz', 'qv', 'rcp', 'rt', 'skr', 'tcr', 'to', 'tp', 'twh', 'uc', 'wa', 'wb', 'xn', 'xk', 'xs', 'xv', 'ykl', 'zq', 'zgz', 'am', 'fgxd', 'ft', 'hesz', 'hrs', 'jov', 'jwjmy', 'msg', 'nkpuz', 'pm', 'pwwlj', 'rwwtj', 'th', 'urrxtadom', 'wks', 'mpg', 'st', 'pm', 'kg', 'th', 'qvz', 'fcr', 'lq', 'aa', 'af', 'ag', 'aigm', 'am', 'day', 'pm', 'th', 'vikc', 'mhz', 'th', 'st', 'db', 'th', 'am', 'cej', 'gbr', 'hrs', 'mm', 'pm', 'qcjc', 'qagh', 'th', 'wiq', 'weeks', 'mm', 'mph', 'th', 'sx', 'se', 'pb', 'usd', 'am', 'followers', 'ftuvxmrn', 'mua', 'pm', 'rtahxefkt', 'th', 'uin', 'vbzg', 'ydhu', 'yn', 'yr', 'xx', 'tronic', 'robertpatt', 'thanks', 'gnt', 'nd', 'girls', 'buckley', 'cullen', 'diamond', 'hell', 'marie', 'al', 'a bo', 'a hart', 'a michael', 'a r a', 'a tx', 'achillies', 'ackles', 'ada franco', 'addict', 'aguirre', 'agwl', 'ahoy', 'ai', 'aid', 'aisa', 'aitana', 'aka rowan', 'alicev', 'aloud', 'always', 'am', 'am umlaut', 'anais', 'and easy', 'and jay', 'and zi', 'anderson', 'anekie', 'angel', 'angel', 'anke', 'ann cole', 'another', 'anr shine', 'anstee', 'apple', 'apuya', 'ara', 'archie', 'are fire', 'argie', 'aries', 'artillero', 'ary', 'asher', 'ashley', 'assassin', 'aston', 'astri', 'at work', 'attack', 'atticus', 'au', 'august', 'augustine', 'aureole', 'autism', 'avenue', 'awake', 'aygee', 'b judah', 'babe', 'babsi', 'baby', 'bach', 'baffoon', 'bailon', 'bambu', 'bandoni', 'bayliss', 'bba', 'bbcrew', 'beachmex', 'beanz', 'beckett', 'beckiie x', 'beckwith', 'bee', 'beery', 'beez', 'beli', 'believer', 'bennett', 'benson', 'benzo', 'berra', 'bexi', 'beyond', 'bhb', 'bill', 'billiam', 'bishop', 'bizzle', 'blache', 'blehh', 'bloggerific', 'blogs', 'bloody poet', 'blue', 'bmac', 'bob', 'boduch', 'bones', 'boo', 'booey', 'bop', 'bosworth', 'brad', 'brads', 'breannarose', 'bree', 'brody', 'brown', 'bug', 'bui', 'bum', 'buns', 'burnett', 'butler', 'by spork', 'cabrera', 'caine', 'cali', 'call', 'carroll', 'carter', 'caruso', 'casagrande', 'cass', 'cat', 'cath', 'cera', 'chander', 'chapman', 'charlotte', 'cheryl', 'chick', 'chiel', 'chip', 'chrissy', 'christie', 'chung', 'ci', 'city', 'claire', 'clp', 'club', 'cm', 'cochran', 'cohen', 'coleman', 'colossus', 'confidential', 'connors', 'conrad', 'control', 'cook', 'cool', 'coppinger', 'cordon', 'couper', 'cowan', 'coza', 'craig', 'craig g', 'crane', 'crazy', 'crazyangel', 'creek', 'crisis', 'crow', 'crumbles', 'cullen', 'cullen', 'cullen', 'cullen', 'cunning', 'cupcake', 'cupcakes', 'da', 'da realest', 'daarling', 'dahsar', 'dam', 'dang', 'daughtry', 'dave', 'davis', 'day', 'dayne', 'dazzles', 'de b', 'de baillon', 'deadgirl', 'deakin', 'death', 'decde', 'dee', 'deen', 'defcon', 'design', 'devi', 'devil', 'dew', 'diaz', 'diesel', 'dig', 'dinasadik', 'distel', 'diva', 'diva dee', 'divine', 'dizon', 'dj', 'dk', 'dog', 'doll', 'dollaz', 'donut', 'double', 'dreamer', 'dreaming', 'dubai', 'duckett', 'dude', 'duerden', 'dulay', 'dunk', 'eagle', 'earedpages', 'ebru', 'eclectic', 'educator', 'edwards', 'efron', 'el rumi', 'elaine', 'eleni', 'eliza', 'elmo', 'emily', 'emo zac', 'en', 'envy', 'era', 'erincharde', 'ernman', 'eron', 'escobar', 'esl', 'estep', 'exp', 'express', 'extacy', 'eyedea', 'eyes', 'face', 'fam', 'fan', 'fangirl', 'fann', 'fc', 'fear me', 'ferman', 'fischer', 'fisher', 'flora', 'flores', 'forward', 'foster', 'fp', 'fr', 'fred', 'frog', 'from hell', 'ftw', 'gaba', 'gable', 'gal', 'galore', 'gamefan', 'gant', 'garner', 'gates', 'gd', 'geronimo', 'giigglz', 'girl', 'gm', 'go', 'gorham', 'gov', 'greenwizard', 'gregor', 'grenade', 'greta', 'griffin', 'grl', 'grrrl', 'grubb', 'gun', 'gunn', 'gurl', 'gurl cece', 'gutter', 'guy', 'gyrl', 'hall', 'hammond', 'hansen', 'happy emox', 'harris', 'hawt', 'hay', 'hayes', 'hayward', 'haze', 'hearts', 'heidi v', 'hemmat', 'henrie', 'herdman', 'hime', 'ho', 'holden', 'home', 'honey', 'hong', 'honi', 'hope', 'hotsawce', 'houdin', 'hunter', 'hussein', 'hypnotic', 'i am jes', 'i girl', 'iain', 'ichigo', 'idiots', 'idol', 'ife', 'ii', 'ill', 'illustrated', 'in', 'in forks', 'in love', 'in nh', 'in tx', 'indian', 'inlapush', 'inovera', 'inthemaking', 'intruder', 'is here', 'is one', 'is rad', 'it good', 'j stuart', 'jackson', 'jamie', 'jane', 'janeway', 'jayr', 'jayy', 'jean', 'jeffe', 'jen', 'jenkins', 'jessicab', 'jg', 'jo', 'jodie', 'joe', 'joelted', 'johnson', 'jolene', 'jones', 'josa', 'joy', 'joyner', 'juansimon', 'juneau', 'k renee', 'kap', 'kartz', 'kat', 'kate', 'kaufer', 'kay', 'kay', 'kearley', 'keepsitreal', 'kel', 'kelly', 'ken', 'khan', 'khc', 'kid', 'kill boy', 'kimbalicious', 'kinda guy', 'kiss', 'kittykat', 'kong', 'kookie', 'kritt', 'kryptik', 'ky monkey', 'l s', 'la mania', 'ladie', 'laiter', 'lambert', 'langley', 'lantos', 'laurie', 'lavish', 'lawrence', 'lay', 'layne', 'leann', 'lee', 'leigh', 'leslie', 'lhoste', 'lia', 'libertine', 'lick', 'life', 'lights', 'liljess x', 'lipz', 'lisa', 'liv lyf', 'live', 'loca', 'logos', 'lokelani', 'longman', 'lopez', 'lord', 'lottie', 'lou', 'lou', 'louise', 'lovato', 'loves nkotb', 'lpz', 'lu', 'luca', 'luciano', 'luck', 'lynn', 'mactastic', 'made', 'magazine', 'magician', 'mak', 'man', 'mandarich', 'mandm', 'manford', 'mar mey', 'marie', 'marie', 'marls', 'mary typhoid', 'matta', 'matthes', 'mayer', 'mazur', 'mc', 'mcc', 'mcfly', 'mcflyandjb', 'mcflyy', 'mckay', 'mclife', 'mcloven', 'mcr', 'mcsupergirl', 'mean', 'meaway', 'megan', 'meir', 'meirizka', 'mejer', 'mel', 'melbourne', 'meow', 'mexico', 'miacherry', 'michele', 'milano', 'mills', 'ming', 'miss', 'miss cbw', 'mit glee', 'mitchell', 'mja', 'moe', 'molecule', 'molotov', 'mom', 'monk', 'monstr', 'morales', 'morgan', 'morley', 'morris', 'mounce', 'mraz', 'mueller', 'music', 'music news', 'musings', 'my soles', 'myst', 'n booklife', 'n dc', 'n nouns', 'n wilson', 'nash', 'nation', 'navarro', 'ndo', 'neith', 'nesmith', 'nessiah', 'newman', 'newnew', 'news', 'nexus', 'nichole', 'nickj', 'nicole', 'niffer', 'nigeria', 'nj', 'nk', 'nkotb', 'nl', 'nobel', 'normal', 'north', 'nyc', 'nye', 'o ash', 'obsession', 'of chas', 'of max', 'of the dead', 'of twtr', 'ofoz', 'ohh', 'okeefe', 'oliver', 'om', 'one', 'onfire', 'online', 'ottawa', 'paige', 'pany', 'paradise', 'parks', 'pase', 'paulevans', 'pax', 'pe', 'peabody', 'pearlman', 'pearson', 'peek', 'peer', 'perez', 'perfect', 'perth', 'peter', 'petty', 'phatass', 'phelps', 'phillips', 'photography', 'pickle', 'pierce', 'pills', 'pina', 'pingpong', 'pinkapple', 'polanco', 'pollard', 'pooh', 'popularent', 'precious', 'princess', 'printchick', 'pritchard', 'prototype', 'punk robot', 'pyee', 'r roberts', 'rabbit', 'rachinea', 'rade', 'radio', 'rahal', 'rain', 'ranjan', 'rankin', 'raquel', 'rashid', 'raven', 'ray', 'rc', 'read', 'real nash', 'reality', 'recordings', 'redbone', 'reece', 'reid', 'renee', 'reviews', 'rex', 'rey', 'reznor', 'ri ja', 'ricardo', 'richards', 'richie', 'rigby', 'ritz', 'robert', 'rockett', 'rocks', 'rocks', 'roe', 'roo', 'rose', 'rosie', 'ross', 'rothlisberger', 'roy', 'rubadeau', 'ryall', 'ryan', 's r', 'sanderson', 'sandman', 'sara', 'saurus', 'says', 'sb', 'schools', 'schulz', 'seattle', 'shan west', 'shantz', 'shaw', 'shawn', 'shediddy', 'shep', 'shields', 'shines', 'shiny', 'sian', 'simmons', 'sims', 'sis', 'skies', 'sko', 'sl', 'sm', 'smith', 'smith', 'soch', 'sockso o', 'song', 'songs', 'soul', 'souljaa', 'sounds', 'spark', 'spn', 'sprigge', 'staack', 'stack', 'stack', 'stained', 'star', 'star', 'starla', 'starr', 'stdin', 'steph', 'steve', 'stewart', 'stiller', 'stokoe', 'storm', 'straycat', 'style', 'sunshine', 'suprnatural', 'surprises', 'sweethearts', 'sweetye', 'sydney', 'taff jones', 'tah', 'tall blonde', 'tarrant', 'tastic', 'tattoo', 'team', 'teamgreen', 'tech', 'tech update', 'tennant', 'terrible', 'the bc', 'the bear', 'the game', 'the heck', 'the moon', 'themovie', 'thomas', 'thompson', 'thrifty', 'tickle', 'tifullytragic', 'tina', 'toni', 'trainr', 'trees', 'trick', 'trip', 'troy', 'truesdale', 'truong', 'tv', 'twist', 'twit', 'twitster', 'twnzfinest', 'tx', 'uh knee', 'uk', 'union', 'uppercut', 'uts', 'val  now', 'vegetable', 'vet', 'vincent', 'violence', 'vip', 'von abe', 'w a', 'wants', 'war mt', 'ward', 'warwounds c', 'waters', 'watkins', 'watson', 'web design', 'weber', 'wesely', 'west', 'whacker', 'what', 'whincop', 'whitex', 'wi no name', 'willhoit', 'wockeez', 'world', 'wounds', 'writer', 'writes', 'wst', 'wx', 'x atl', 'xd', 'xo', 'xox', 'y tony', 'y yankees', 'yavanna', 'yeah', 'yogini', 'you', 'yours', 'yst', 'za', 'zaboo', 'zero', 'zol', 'zorz peep', 'zulu', 'zwitschert', 'anw', 'apyr', 'ak', 'afdb', 'aa', 'aaa', 'aaaa', 'aaaaaaaaaaa', 'aaaaaaaaaahhhhhhhh', 'aaaaaaaaaamazing', 'aaaaaaaafternoon', 'aaaaaaaahhhhhhhh', 'aaaaaah', 'aaaaaahhhhhhhh', 'aaaaaawwwesome', 'aaaaahhhh', 'aaaaall', 'aaaaand', 'aaaaaoouoouoouu', 'aaaaarrrrggghhh', 'aaaaaw', 'aaaaawwwwwww', 'aaaagggessss', 'aaaagh', 'aaaah', 'aaaahh', 'aaaaiieee', 'aaaand', 'aaaargh', 'aaaau', 'aaaaw', 'aaaawww', 'aaah', 'aaahaha', 'aaahh', 'aaahhh', 'aaand', 'aaargh', 'aaarrrgggghhh', 'aaarrrggghhh', 'aaarrrgh', 'aaauuuggghhh', 'aaaw', 'aaaww', 'aaawww', 'aac', 'aaggh', 'aah', 'aahhh', 'aahs', 'aannndd', 'aapko', 'aargh', 'aaron', 'aarrgghh', 'aasman', 'aawww', 'ab', 'aba', 'ababa', 'abalone']\n"
     ]
    }
   ],
   "source": [
    "print(cleanTokens)"
   ]
  },
  {
   "cell_type": "markdown",
   "metadata": {},
   "source": [
    "### Observation:\n",
    "- Theres only two single letter strings left in corpus\n",
    "- Next solution to reduce the number of words here is to remove 2 letter strings?"
   ]
  },
  {
   "cell_type": "code",
   "execution_count": 112,
   "metadata": {},
   "outputs": [],
   "source": [
    "def singleLetterRemoval2(list_object):\n",
    "    tokens = []\n",
    "    for token in list_object:\n",
    "        if len(token) > 2:\n",
    "            tokens.append(token)\n",
    "    return tokens"
   ]
  },
  {
   "cell_type": "code",
   "execution_count": 122,
   "metadata": {},
   "outputs": [
    {
     "name": "stdout",
     "output_type": "stream",
     "text": [
      "Number of tokens after single Letter Removal:  360\n"
     ]
    }
   ],
   "source": [
    "cleanTokens = singleLetterRemoval2(cleanTokens)\n",
    "print(\"Number of tokens after single Letter Removal: \", len(cleanTokens))"
   ]
  },
  {
   "cell_type": "code",
   "execution_count": 114,
   "metadata": {},
   "outputs": [
    {
     "name": "stdout",
     "output_type": "stream",
     "text": [
      "['mxjj', 'ixbj', 'jzs', 'kbq', 'kjr', 'xfs', 'xoh', 'xoi', 'kaifj', 'dfj', 'avj', 'ghz', 'guyoj', 'ltsj', 'mqko', 'rpm', 'xhuj', 'zywwj', 'greatestgames', 'msg', 'mwj', 'days', 'jsepj', 'mins', 'uemq', 'hours', 'inlove', 'lbs', 'seconds', 'cty', 'gigs', 'nfk', 'pdrmj', 'pqtw', 'tolife', 'heu', 'mph', 'rpm', 'bpm', 'upj', 'fox', 'mins', 'minutes', 'yyid', 'lbs', 'urvv', 'wzv', 'again', 'jiy', 'zwj', 'aeg', 'hrs', 'kwzh', 'mos', 'zwd', 'biad', 'direction', 'doeej', 'fav', 'gurq', 'hmn', 'hour', 'lol', 'million', 'ntp', 'ofmy', 'thing', 'ujzq', 'xiz', 'xri', 'zpf', 'zyg', 'the', 'lbs', 'min', 'mins', 'somethin', 'yrs', 'life', 'month', 'hrs', 'hrs', 'mer', 'mbps', 'kms', 'ers', 'aam', 'agcth', 'cal', 'day', 'dayme', 'dives', 'dmtn', 'field', 'for', 'gather', 'getha', 'gether', 'ghz', 'goin', 'hear', 'hity', 'hours', 'hpbg', 'hrs', 'kids', 'maro', 'moro', 'morrow', 'moz', 'mrw', 'ndary', 'night', 'nit', 'nite', 'njv', 'nlc', 'nte', 'nyt', 'sljbw', 'stop', 'swv', 'toa', 'twitter', 'uhs', 'urgp', 'uzx', 'vko', 'xdpf', 'xjoc', 'zemt', 'zgfk', 'day', 'mins', 'rock', 'sec', 'stm', 'tools', 'hus', 'mins', 'nnd', 'wtf', 'alaiiik', 'bnas', 'goxn', 'hannah', 'hours', 'hrs', 'jfg', 'koyqo', 'lbs', 'lin', 'lqux', 'mdce', 'nid', 'nzth', 'ozxoj', 'orv', 'oth', 'pjnc', 'ware', 'wordsaftersex', 'xwq', 'xmd', 'ysav', 'mins', 'dbn', 'secs', 'days', 'hours', 'hoursnz', 'bckp', 'days', 'ever', 'fnaa', 'fzo', 'gemf', 'get', 'give', 'gnlp', 'got', 'hbs', 'hours', 'hsd', 'izu', 'iwx', 'jkc', 'jus', 'jyk', 'jeo', 'jfb', 'jab', 'jalj', 'jam', 'jas', 'jaw', 'jax', 'jaz', 'jazs', 'jbq', 'jbo', 'jbba', 'jbsq', 'jbzv', 'jccd', 'jcf', 'jcfg', 'jcjj', 'jcjr', 'jcwm', 'jcxr', 'jdrg', 'jdtj', 'jeij', 'jerc', 'jewc', 'jez', 'jfk', 'jfm', 'jfg', 'jfkw', 'jgro', 'jhe', 'jhn', 'jhp', 'jip', 'jjj', 'jjdx', 'jjlc', 'jjy', 'jkb', 'jkea', 'jken', 'jkes', 'jkvh', 'jkvl', 'jloj', 'jmeh', 'mup', 'more', 'nbx', 'phze', 'qfl', 'qpzx', 'real', 'tjv', 'tqx', 'ukqe', 'uyl', 'vvr', 'vdc', 'vgzy', 'visl', 'vpx', 'vuuy', 'vvou', 'vwa', 'wyj', 'wrr', 'wls', 'wfi', 'whe', 'wsy', 'wlf', 'wcw', 'wja', 'wkr', 'wpe', 'wzb', 'wah', 'ward', 'wauk', 'wbn', 'wck', 'wcy', 'wcpt', 'wcqa', 'wdgr', 'wdui', 'wej', 'wew', 'weeks', 'wegx', 'wehl', 'wfa', 'wfeo', 'wfqn', 'wfs', 'wgoi', 'whl', 'who', 'whd', 'whaf', 'wij', 'wjai', 'wki', 'wkhi', 'wkpl', 'wkym', 'wkzi', 'wlx', 'wlgi', 'wlpf', 'wmaw', 'wnq', 'woxi', 'wpl', 'wppe', 'wppn', 'wqe', 'wqfv', 'wqy', 'wrk', 'wrrp', 'wrxq', 'wry', 'wsm', 'wsw', 'wsr', 'wsjr', 'wsk', 'wssc', 'wsst', 'wsue', 'wsxi', 'wsy', 'wta', 'wtk', 'wtom', 'wtyj', 'wtzj', 'wua', 'wukt', 'khn', 'hqo', 'days', 'edr', 'ghz', 'had', 'hours', 'jboh', 'jbp', 'jbvo', 'jckp', 'jdb', 'jehr', 'jeu', 'jfu', 'jfuu', 'jgu', 'jgf', 'jgj', 'jhim', 'jhtq', 'jhtv', 'jib', 'jimj', 'jjcc', 'jkbc', 'jkbp', 'jkpz', 'jnl', 'jnv', 'jow', 'joo', 'jqo', 'jtyh', 'jucn', 'jvj', 'mths', 'ofzj', 'pblz', 'rylt', 'sec', 'utj', 'wbk', 'ygpg', 'ynxo', 'ynxr', 'yomt', 'yroy', 'ytke', 'yvnd', 'yxd', 'yyud', 'yzb', 'zdc', 'zsv', 'zzo', 'zij', 'zoq', 'zuq', 'zve', 'zkz', 'zuw', 'zcg', 'zzs', 'zzv', 'hrs', 'aam', 'mdc', 'ozr', 'ltb', 'roi', 'sbz', 'shw', 'tyb', 'uor', 'ust', 'vdn', 'vld', 'vlw', 'wxk', 'xlm', 'ydb', 'zfd', 'zls', 'aim', 'azl', 'bpd', 'eba', 'fcj', 'gwh', 'gzx', 'hac', 'hvr', 'iab', 'jzp', 'kvt', 'ljj', 'nht', 'nxe', 'owu', 'qhz', 'rcp', 'skr', 'tcr', 'twh', 'ykl', 'zgz', 'fgxd', 'hesz', 'hrs', 'jov', 'jwjmy', 'msg', 'nkpuz', 'pwwlj', 'rwwtj', 'urrxtadom', 'wks', 'mpg', 'qvz', 'fcr', 'aigm', 'day', 'vikc', 'mhz', 'cej', 'gbr', 'hrs', 'qcjc', 'qagh', 'wiq', 'weeks', 'mph', 'usd', 'followers', 'ftuvxmrn', 'mua', 'rtahxefkt', 'uin', 'vbzg', 'ydhu', 'tronic', 'robertpatt', 'thanks', 'gnt', 'girls', 'buckley', 'cullen', 'diamond', 'hell', 'marie', 'a bo', 'a hart', 'a michael', 'a r a', 'a tx', 'achillies', 'ackles', 'ada franco', 'addict', 'aguirre', 'agwl', 'ahoy', 'aid', 'aisa', 'aitana', 'aka rowan', 'alicev', 'aloud', 'always', 'am umlaut', 'anais', 'and easy', 'and jay', 'and zi', 'anderson', 'anekie', 'angel', 'angel', 'anke', 'ann cole', 'another', 'anr shine', 'anstee', 'apple', 'apuya', 'ara', 'archie', 'are fire', 'argie', 'aries', 'artillero', 'ary', 'asher', 'ashley', 'assassin', 'aston', 'astri', 'at work', 'attack', 'atticus', 'august', 'augustine', 'aureole', 'autism', 'avenue', 'awake', 'aygee', 'b judah', 'babe', 'babsi', 'baby', 'bach', 'baffoon', 'bailon', 'bambu', 'bandoni', 'bayliss', 'bba', 'bbcrew', 'beachmex', 'beanz', 'beckett', 'beckiie x', 'beckwith', 'bee', 'beery', 'beez', 'beli', 'believer', 'bennett', 'benson', 'benzo', 'berra', 'bexi', 'beyond', 'bhb', 'bill', 'billiam', 'bishop', 'bizzle', 'blache', 'blehh', 'bloggerific', 'blogs', 'bloody poet', 'blue', 'bmac', 'bob', 'boduch', 'bones', 'boo', 'booey', 'bop', 'bosworth', 'brad', 'brads', 'breannarose', 'bree', 'brody', 'brown', 'bug', 'bui', 'bum', 'buns', 'burnett', 'butler', 'by spork', 'cabrera', 'caine', 'cali', 'call', 'carroll', 'carter', 'caruso', 'casagrande', 'cass', 'cat', 'cath', 'cera', 'chander', 'chapman', 'charlotte', 'cheryl', 'chick', 'chiel', 'chip', 'chrissy', 'christie', 'chung', 'city', 'claire', 'clp', 'club', 'cochran', 'cohen', 'coleman', 'colossus', 'confidential', 'connors', 'conrad', 'control', 'cook', 'cool', 'coppinger', 'cordon', 'couper', 'cowan', 'coza', 'craig', 'craig g', 'crane', 'crazy', 'crazyangel', 'creek', 'crisis', 'crow', 'crumbles', 'cullen', 'cullen', 'cullen', 'cullen', 'cunning', 'cupcake', 'cupcakes', 'da realest', 'daarling', 'dahsar', 'dam', 'dang', 'daughtry', 'dave', 'davis', 'day', 'dayne', 'dazzles', 'de b', 'de baillon', 'deadgirl', 'deakin', 'death', 'decde', 'dee', 'deen', 'defcon', 'design', 'devi', 'devil', 'dew', 'diaz', 'diesel', 'dig', 'dinasadik', 'distel', 'diva', 'diva dee', 'divine', 'dizon', 'dog', 'doll', 'dollaz', 'donut', 'double', 'dreamer', 'dreaming', 'dubai', 'duckett', 'dude', 'duerden', 'dulay', 'dunk', 'eagle', 'earedpages', 'ebru', 'eclectic', 'educator', 'edwards', 'efron', 'el rumi', 'elaine', 'eleni', 'eliza', 'elmo', 'emily', 'emo zac', 'envy', 'era', 'erincharde', 'ernman', 'eron', 'escobar', 'esl', 'estep', 'exp', 'express', 'extacy', 'eyedea', 'eyes', 'face', 'fam', 'fan', 'fangirl', 'fann', 'fear me', 'ferman', 'fischer', 'fisher', 'flora', 'flores', 'forward', 'foster', 'fred', 'frog', 'from hell', 'ftw', 'gaba', 'gable', 'gal', 'galore', 'gamefan', 'gant', 'garner', 'gates', 'geronimo', 'giigglz', 'girl', 'gorham', 'gov', 'greenwizard', 'gregor', 'grenade', 'greta', 'griffin', 'grl', 'grrrl', 'grubb', 'gun', 'gunn', 'gurl', 'gurl cece', 'gutter', 'guy', 'gyrl', 'hall', 'hammond', 'hansen', 'happy emox', 'harris', 'hawt', 'hay', 'hayes', 'hayward', 'haze', 'hearts', 'heidi v', 'hemmat', 'henrie', 'herdman', 'hime', 'holden', 'home', 'honey', 'hong', 'honi', 'hope', 'hotsawce', 'houdin', 'hunter', 'hussein', 'hypnotic', 'i am jes', 'i girl', 'iain', 'ichigo', 'idiots', 'idol', 'ife', 'ill', 'illustrated', 'in forks', 'in love', 'in nh', 'in tx', 'indian', 'inlapush', 'inovera', 'inthemaking', 'intruder', 'is here', 'is one', 'is rad', 'it good', 'j stuart', 'jackson', 'jamie', 'jane', 'janeway', 'jayr', 'jayy', 'jean', 'jeffe', 'jen', 'jenkins', 'jessicab', 'jodie', 'joe', 'joelted', 'johnson', 'jolene', 'jones', 'josa', 'joy', 'joyner', 'juansimon', 'juneau', 'k renee', 'kap', 'kartz', 'kat', 'kate', 'kaufer', 'kay', 'kay', 'kearley', 'keepsitreal', 'kel', 'kelly', 'ken', 'khan', 'khc', 'kid', 'kill boy', 'kimbalicious', 'kinda guy', 'kiss', 'kittykat', 'kong', 'kookie', 'kritt', 'kryptik', 'ky monkey', 'l s', 'la mania', 'ladie', 'laiter', 'lambert', 'langley', 'lantos', 'laurie', 'lavish', 'lawrence', 'lay', 'layne', 'leann', 'lee', 'leigh', 'leslie', 'lhoste', 'lia', 'libertine', 'lick', 'life', 'lights', 'liljess x', 'lipz', 'lisa', 'liv lyf', 'live', 'loca', 'logos', 'lokelani', 'longman', 'lopez', 'lord', 'lottie', 'lou', 'lou', 'louise', 'lovato', 'loves nkotb', 'lpz', 'luca', 'luciano', 'luck', 'lynn', 'mactastic', 'made', 'magazine', 'magician', 'mak', 'man', 'mandarich', 'mandm', 'manford', 'mar mey', 'marie', 'marie', 'marls', 'mary typhoid', 'matta', 'matthes', 'mayer', 'mazur', 'mcc', 'mcfly', 'mcflyandjb', 'mcflyy', 'mckay', 'mclife', 'mcloven', 'mcr', 'mcsupergirl', 'mean', 'meaway', 'megan', 'meir', 'meirizka', 'mejer', 'mel', 'melbourne', 'meow', 'mexico', 'miacherry', 'michele', 'milano', 'mills', 'ming', 'miss', 'miss cbw', 'mit glee', 'mitchell', 'mja', 'moe', 'molecule', 'molotov', 'mom', 'monk', 'monstr', 'morales', 'morgan', 'morley', 'morris', 'mounce', 'mraz', 'mueller', 'music', 'music news', 'musings', 'my soles', 'myst', 'n booklife', 'n dc', 'n nouns', 'n wilson', 'nash', 'nation', 'navarro', 'ndo', 'neith', 'nesmith', 'nessiah', 'newman', 'newnew', 'news', 'nexus', 'nichole', 'nickj', 'nicole', 'niffer', 'nigeria', 'nkotb', 'nobel', 'normal', 'north', 'nyc', 'nye', 'o ash', 'obsession', 'of chas', 'of max', 'of the dead', 'of twtr', 'ofoz', 'ohh', 'okeefe', 'oliver', 'one', 'onfire', 'online', 'ottawa', 'paige', 'pany', 'paradise', 'parks', 'pase', 'paulevans', 'pax', 'peabody', 'pearlman', 'pearson', 'peek', 'peer', 'perez', 'perfect', 'perth', 'peter', 'petty', 'phatass', 'phelps', 'phillips', 'photography', 'pickle', 'pierce', 'pills', 'pina', 'pingpong', 'pinkapple', 'polanco', 'pollard', 'pooh', 'popularent', 'precious', 'princess', 'printchick', 'pritchard', 'prototype', 'punk robot', 'pyee', 'r roberts', 'rabbit', 'rachinea', 'rade', 'radio', 'rahal', 'rain', 'ranjan', 'rankin', 'raquel', 'rashid', 'raven', 'ray', 'read', 'real nash', 'reality', 'recordings', 'redbone', 'reece', 'reid', 'renee', 'reviews', 'rex', 'rey', 'reznor', 'ri ja', 'ricardo', 'richards', 'richie', 'rigby', 'ritz', 'robert', 'rockett', 'rocks', 'rocks', 'roe', 'roo', 'rose', 'rosie', 'ross', 'rothlisberger', 'roy', 'rubadeau', 'ryall', 'ryan', 's r', 'sanderson', 'sandman', 'sara', 'saurus', 'says', 'schools', 'schulz', 'seattle', 'shan west', 'shantz', 'shaw', 'shawn', 'shediddy', 'shep', 'shields', 'shines', 'shiny', 'sian', 'simmons', 'sims', 'sis', 'skies', 'sko', 'smith', 'smith', 'soch', 'sockso o', 'song', 'songs', 'soul', 'souljaa', 'sounds', 'spark', 'spn', 'sprigge', 'staack', 'stack', 'stack', 'stained', 'star', 'star', 'starla', 'starr', 'stdin', 'steph', 'steve', 'stewart', 'stiller', 'stokoe', 'storm', 'straycat', 'style', 'sunshine', 'suprnatural', 'surprises', 'sweethearts', 'sweetye', 'sydney', 'taff jones', 'tah', 'tall blonde', 'tarrant', 'tastic', 'tattoo', 'team', 'teamgreen', 'tech', 'tech update', 'tennant', 'terrible', 'the bc', 'the bear', 'the game', 'the heck', 'the moon', 'themovie', 'thomas', 'thompson', 'thrifty', 'tickle', 'tifullytragic', 'tina', 'toni', 'trainr', 'trees', 'trick', 'trip', 'troy', 'truesdale', 'truong', 'twist', 'twit', 'twitster', 'twnzfinest', 'uh knee', 'union', 'uppercut', 'uts', 'val  now', 'vegetable', 'vet', 'vincent', 'violence', 'vip', 'von abe', 'w a', 'wants', 'war mt', 'ward', 'warwounds c', 'waters', 'watkins', 'watson', 'web design', 'weber', 'wesely', 'west', 'whacker', 'what', 'whincop', 'whitex', 'wi no name', 'willhoit', 'wockeez', 'world', 'wounds', 'writer', 'writes', 'wst', 'x atl', 'xox', 'y tony', 'y yankees', 'yavanna', 'yeah', 'yogini', 'you', 'yours', 'yst', 'zaboo', 'zero', 'zol', 'zorz peep', 'zulu', 'zwitschert', 'anw', 'apyr', 'afdb', 'aaa', 'aaaa', 'aaaaaaaaaaa', 'aaaaaaaaaahhhhhhhh', 'aaaaaaaaaamazing', 'aaaaaaaafternoon', 'aaaaaaaahhhhhhhh', 'aaaaaah', 'aaaaaahhhhhhhh', 'aaaaaawwwesome', 'aaaaahhhh', 'aaaaall', 'aaaaand', 'aaaaaoouoouoouu', 'aaaaarrrrggghhh', 'aaaaaw', 'aaaaawwwwwww', 'aaaagggessss', 'aaaagh', 'aaaah', 'aaaahh', 'aaaaiieee', 'aaaand', 'aaaargh', 'aaaau', 'aaaaw', 'aaaawww', 'aaah', 'aaahaha', 'aaahh', 'aaahhh', 'aaand', 'aaargh', 'aaarrrgggghhh', 'aaarrrggghhh', 'aaarrrgh', 'aaauuuggghhh', 'aaaw', 'aaaww', 'aaawww', 'aac', 'aaggh', 'aah', 'aahhh', 'aahs', 'aannndd', 'aapko', 'aargh', 'aaron', 'aarrgghh', 'aasman', 'aawww', 'aba', 'ababa', 'abalone']\n"
     ]
    }
   ],
   "source": [
    "print(cleanTokens)"
   ]
  },
  {
   "cell_type": "markdown",
   "metadata": {},
   "source": [
    "### Observation:\n",
    "- double letter strings removed has a much more significant impact in reducing the number of tokens.\n",
    "- Reason why this is good is because there aren't many words that contribute meaning if they're only two letters."
   ]
  },
  {
   "cell_type": "markdown",
   "metadata": {},
   "source": [
    "### Fix Word lengthening"
   ]
  },
  {
   "cell_type": "markdown",
   "metadata": {},
   "source": [
    "- Next option is to Fix Word Lengthening:\n",
    "\n",
    "\n",
    "- Then use a spell checker for words in order to remove random patterns of letters."
   ]
  },
  {
   "cell_type": "code",
   "execution_count": 115,
   "metadata": {},
   "outputs": [],
   "source": [
    "def reduce_lengthening(list_object):\n",
    "    tokens = []\n",
    "    for token in list_object:\n",
    "        pattern = re.compile(r\"(.)\\1{2,}\")\n",
    "        token = pattern.sub(r\"\\1\\1\", token)\n",
    "        tokens.append(token)\n",
    "    return tokens"
   ]
  },
  {
   "cell_type": "code",
   "execution_count": 116,
   "metadata": {},
   "outputs": [
    {
     "name": "stdout",
     "output_type": "stream",
     "text": [
      "1310\n"
     ]
    }
   ],
   "source": [
    "cleanTokens = reduce_lengthening(cleanTokens)\n",
    "print(len(cleanTokens)) # Don't expect the number of tokens to reduce or increase"
   ]
  },
  {
   "cell_type": "code",
   "execution_count": 117,
   "metadata": {},
   "outputs": [
    {
     "name": "stdout",
     "output_type": "stream",
     "text": [
      "['mxjj', 'ixbj', 'jzs', 'kbq', 'kjr', 'xfs', 'xoh', 'xoi', 'kaifj', 'dfj', 'avj', 'ghz', 'guyoj', 'ltsj', 'mqko', 'rpm', 'xhuj', 'zywwj', 'greatestgames', 'msg', 'mwj', 'days', 'jsepj', 'mins', 'uemq', 'hours', 'inlove', 'lbs', 'seconds', 'cty', 'gigs', 'nfk', 'pdrmj', 'pqtw', 'tolife', 'heu', 'mph', 'rpm', 'bpm', 'upj', 'fox', 'mins', 'minutes', 'yyid', 'lbs', 'urvv', 'wzv', 'again', 'jiy', 'zwj', 'aeg', 'hrs', 'kwzh', 'mos', 'zwd', 'biad', 'direction', 'doeej', 'fav', 'gurq', 'hmn', 'hour', 'lol', 'million', 'ntp', 'ofmy', 'thing', 'ujzq', 'xiz', 'xri', 'zpf', 'zyg', 'the', 'lbs', 'min', 'mins', 'somethin', 'yrs', 'life', 'month', 'hrs', 'hrs', 'mer', 'mbps', 'kms', 'ers', 'aam', 'agcth', 'cal', 'day', 'dayme', 'dives', 'dmtn', 'field', 'for', 'gather', 'getha', 'gether', 'ghz', 'goin', 'hear', 'hity', 'hours', 'hpbg', 'hrs', 'kids', 'maro', 'moro', 'morrow', 'moz', 'mrw', 'ndary', 'night', 'nit', 'nite', 'njv', 'nlc', 'nte', 'nyt', 'sljbw', 'stop', 'swv', 'toa', 'twitter', 'uhs', 'urgp', 'uzx', 'vko', 'xdpf', 'xjoc', 'zemt', 'zgfk', 'day', 'mins', 'rock', 'sec', 'stm', 'tools', 'hus', 'mins', 'nnd', 'wtf', 'alaiik', 'bnas', 'goxn', 'hannah', 'hours', 'hrs', 'jfg', 'koyqo', 'lbs', 'lin', 'lqux', 'mdce', 'nid', 'nzth', 'ozxoj', 'orv', 'oth', 'pjnc', 'ware', 'wordsaftersex', 'xwq', 'xmd', 'ysav', 'mins', 'dbn', 'secs', 'days', 'hours', 'hoursnz', 'bckp', 'days', 'ever', 'fnaa', 'fzo', 'gemf', 'get', 'give', 'gnlp', 'got', 'hbs', 'hours', 'hsd', 'izu', 'iwx', 'jkc', 'jus', 'jyk', 'jeo', 'jfb', 'jab', 'jalj', 'jam', 'jas', 'jaw', 'jax', 'jaz', 'jazs', 'jbq', 'jbo', 'jbba', 'jbsq', 'jbzv', 'jccd', 'jcf', 'jcfg', 'jcjj', 'jcjr', 'jcwm', 'jcxr', 'jdrg', 'jdtj', 'jeij', 'jerc', 'jewc', 'jez', 'jfk', 'jfm', 'jfg', 'jfkw', 'jgro', 'jhe', 'jhn', 'jhp', 'jip', 'jj', 'jjdx', 'jjlc', 'jjy', 'jkb', 'jkea', 'jken', 'jkes', 'jkvh', 'jkvl', 'jloj', 'jmeh', 'mup', 'more', 'nbx', 'phze', 'qfl', 'qpzx', 'real', 'tjv', 'tqx', 'ukqe', 'uyl', 'vvr', 'vdc', 'vgzy', 'visl', 'vpx', 'vuuy', 'vvou', 'vwa', 'wyj', 'wrr', 'wls', 'wfi', 'whe', 'wsy', 'wlf', 'wcw', 'wja', 'wkr', 'wpe', 'wzb', 'wah', 'ward', 'wauk', 'wbn', 'wck', 'wcy', 'wcpt', 'wcqa', 'wdgr', 'wdui', 'wej', 'wew', 'weeks', 'wegx', 'wehl', 'wfa', 'wfeo', 'wfqn', 'wfs', 'wgoi', 'whl', 'who', 'whd', 'whaf', 'wij', 'wjai', 'wki', 'wkhi', 'wkpl', 'wkym', 'wkzi', 'wlx', 'wlgi', 'wlpf', 'wmaw', 'wnq', 'woxi', 'wpl', 'wppe', 'wppn', 'wqe', 'wqfv', 'wqy', 'wrk', 'wrrp', 'wrxq', 'wry', 'wsm', 'wsw', 'wsr', 'wsjr', 'wsk', 'wssc', 'wsst', 'wsue', 'wsxi', 'wsy', 'wta', 'wtk', 'wtom', 'wtyj', 'wtzj', 'wua', 'wukt', 'khn', 'hqo', 'days', 'edr', 'ghz', 'had', 'hours', 'jboh', 'jbp', 'jbvo', 'jckp', 'jdb', 'jehr', 'jeu', 'jfu', 'jfuu', 'jgu', 'jgf', 'jgj', 'jhim', 'jhtq', 'jhtv', 'jib', 'jimj', 'jjcc', 'jkbc', 'jkbp', 'jkpz', 'jnl', 'jnv', 'jow', 'joo', 'jqo', 'jtyh', 'jucn', 'jvj', 'mths', 'ofzj', 'pblz', 'rylt', 'sec', 'utj', 'wbk', 'ygpg', 'ynxo', 'ynxr', 'yomt', 'yroy', 'ytke', 'yvnd', 'yxd', 'yyud', 'yzb', 'zdc', 'zsv', 'zzo', 'zij', 'zoq', 'zuq', 'zve', 'zkz', 'zuw', 'zcg', 'zzs', 'zzv', 'hrs', 'aam', 'mdc', 'ozr', 'ltb', 'roi', 'sbz', 'shw', 'tyb', 'uor', 'ust', 'vdn', 'vld', 'vlw', 'wxk', 'xlm', 'ydb', 'zfd', 'zls', 'aim', 'azl', 'bpd', 'eba', 'fcj', 'gwh', 'gzx', 'hac', 'hvr', 'iab', 'jzp', 'kvt', 'ljj', 'nht', 'nxe', 'owu', 'qhz', 'rcp', 'skr', 'tcr', 'twh', 'ykl', 'zgz', 'fgxd', 'hesz', 'hrs', 'jov', 'jwjmy', 'msg', 'nkpuz', 'pwwlj', 'rwwtj', 'urrxtadom', 'wks', 'mpg', 'qvz', 'fcr', 'aigm', 'day', 'vikc', 'mhz', 'cej', 'gbr', 'hrs', 'qcjc', 'qagh', 'wiq', 'weeks', 'mph', 'usd', 'followers', 'ftuvxmrn', 'mua', 'rtahxefkt', 'uin', 'vbzg', 'ydhu', 'tronic', 'robertpatt', 'thanks', 'gnt', 'girls', 'buckley', 'cullen', 'diamond', 'hell', 'marie', 'a bo', 'a hart', 'a michael', 'a r a', 'a tx', 'achillies', 'ackles', 'ada franco', 'addict', 'aguirre', 'agwl', 'ahoy', 'aid', 'aisa', 'aitana', 'aka rowan', 'alicev', 'aloud', 'always', 'am umlaut', 'anais', 'and easy', 'and jay', 'and zi', 'anderson', 'anekie', 'angel', 'angel', 'anke', 'ann cole', 'another', 'anr shine', 'anstee', 'apple', 'apuya', 'ara', 'archie', 'are fire', 'argie', 'aries', 'artillero', 'ary', 'asher', 'ashley', 'assassin', 'aston', 'astri', 'at work', 'attack', 'atticus', 'august', 'augustine', 'aureole', 'autism', 'avenue', 'awake', 'aygee', 'b judah', 'babe', 'babsi', 'baby', 'bach', 'baffoon', 'bailon', 'bambu', 'bandoni', 'bayliss', 'bba', 'bbcrew', 'beachmex', 'beanz', 'beckett', 'beckiie x', 'beckwith', 'bee', 'beery', 'beez', 'beli', 'believer', 'bennett', 'benson', 'benzo', 'berra', 'bexi', 'beyond', 'bhb', 'bill', 'billiam', 'bishop', 'bizzle', 'blache', 'blehh', 'bloggerific', 'blogs', 'bloody poet', 'blue', 'bmac', 'bob', 'boduch', 'bones', 'boo', 'booey', 'bop', 'bosworth', 'brad', 'brads', 'breannarose', 'bree', 'brody', 'brown', 'bug', 'bui', 'bum', 'buns', 'burnett', 'butler', 'by spork', 'cabrera', 'caine', 'cali', 'call', 'carroll', 'carter', 'caruso', 'casagrande', 'cass', 'cat', 'cath', 'cera', 'chander', 'chapman', 'charlotte', 'cheryl', 'chick', 'chiel', 'chip', 'chrissy', 'christie', 'chung', 'city', 'claire', 'clp', 'club', 'cochran', 'cohen', 'coleman', 'colossus', 'confidential', 'connors', 'conrad', 'control', 'cook', 'cool', 'coppinger', 'cordon', 'couper', 'cowan', 'coza', 'craig', 'craig g', 'crane', 'crazy', 'crazyangel', 'creek', 'crisis', 'crow', 'crumbles', 'cullen', 'cullen', 'cullen', 'cullen', 'cunning', 'cupcake', 'cupcakes', 'da realest', 'daarling', 'dahsar', 'dam', 'dang', 'daughtry', 'dave', 'davis', 'day', 'dayne', 'dazzles', 'de b', 'de baillon', 'deadgirl', 'deakin', 'death', 'decde', 'dee', 'deen', 'defcon', 'design', 'devi', 'devil', 'dew', 'diaz', 'diesel', 'dig', 'dinasadik', 'distel', 'diva', 'diva dee', 'divine', 'dizon', 'dog', 'doll', 'dollaz', 'donut', 'double', 'dreamer', 'dreaming', 'dubai', 'duckett', 'dude', 'duerden', 'dulay', 'dunk', 'eagle', 'earedpages', 'ebru', 'eclectic', 'educator', 'edwards', 'efron', 'el rumi', 'elaine', 'eleni', 'eliza', 'elmo', 'emily', 'emo zac', 'envy', 'era', 'erincharde', 'ernman', 'eron', 'escobar', 'esl', 'estep', 'exp', 'express', 'extacy', 'eyedea', 'eyes', 'face', 'fam', 'fan', 'fangirl', 'fann', 'fear me', 'ferman', 'fischer', 'fisher', 'flora', 'flores', 'forward', 'foster', 'fred', 'frog', 'from hell', 'ftw', 'gaba', 'gable', 'gal', 'galore', 'gamefan', 'gant', 'garner', 'gates', 'geronimo', 'giigglz', 'girl', 'gorham', 'gov', 'greenwizard', 'gregor', 'grenade', 'greta', 'griffin', 'grl', 'grrl', 'grubb', 'gun', 'gunn', 'gurl', 'gurl cece', 'gutter', 'guy', 'gyrl', 'hall', 'hammond', 'hansen', 'happy emox', 'harris', 'hawt', 'hay', 'hayes', 'hayward', 'haze', 'hearts', 'heidi v', 'hemmat', 'henrie', 'herdman', 'hime', 'holden', 'home', 'honey', 'hong', 'honi', 'hope', 'hotsawce', 'houdin', 'hunter', 'hussein', 'hypnotic', 'i am jes', 'i girl', 'iain', 'ichigo', 'idiots', 'idol', 'ife', 'ill', 'illustrated', 'in forks', 'in love', 'in nh', 'in tx', 'indian', 'inlapush', 'inovera', 'inthemaking', 'intruder', 'is here', 'is one', 'is rad', 'it good', 'j stuart', 'jackson', 'jamie', 'jane', 'janeway', 'jayr', 'jayy', 'jean', 'jeffe', 'jen', 'jenkins', 'jessicab', 'jodie', 'joe', 'joelted', 'johnson', 'jolene', 'jones', 'josa', 'joy', 'joyner', 'juansimon', 'juneau', 'k renee', 'kap', 'kartz', 'kat', 'kate', 'kaufer', 'kay', 'kay', 'kearley', 'keepsitreal', 'kel', 'kelly', 'ken', 'khan', 'khc', 'kid', 'kill boy', 'kimbalicious', 'kinda guy', 'kiss', 'kittykat', 'kong', 'kookie', 'kritt', 'kryptik', 'ky monkey', 'l s', 'la mania', 'ladie', 'laiter', 'lambert', 'langley', 'lantos', 'laurie', 'lavish', 'lawrence', 'lay', 'layne', 'leann', 'lee', 'leigh', 'leslie', 'lhoste', 'lia', 'libertine', 'lick', 'life', 'lights', 'liljess x', 'lipz', 'lisa', 'liv lyf', 'live', 'loca', 'logos', 'lokelani', 'longman', 'lopez', 'lord', 'lottie', 'lou', 'lou', 'louise', 'lovato', 'loves nkotb', 'lpz', 'luca', 'luciano', 'luck', 'lynn', 'mactastic', 'made', 'magazine', 'magician', 'mak', 'man', 'mandarich', 'mandm', 'manford', 'mar mey', 'marie', 'marie', 'marls', 'mary typhoid', 'matta', 'matthes', 'mayer', 'mazur', 'mcc', 'mcfly', 'mcflyandjb', 'mcflyy', 'mckay', 'mclife', 'mcloven', 'mcr', 'mcsupergirl', 'mean', 'meaway', 'megan', 'meir', 'meirizka', 'mejer', 'mel', 'melbourne', 'meow', 'mexico', 'miacherry', 'michele', 'milano', 'mills', 'ming', 'miss', 'miss cbw', 'mit glee', 'mitchell', 'mja', 'moe', 'molecule', 'molotov', 'mom', 'monk', 'monstr', 'morales', 'morgan', 'morley', 'morris', 'mounce', 'mraz', 'mueller', 'music', 'music news', 'musings', 'my soles', 'myst', 'n booklife', 'n dc', 'n nouns', 'n wilson', 'nash', 'nation', 'navarro', 'ndo', 'neith', 'nesmith', 'nessiah', 'newman', 'newnew', 'news', 'nexus', 'nichole', 'nickj', 'nicole', 'niffer', 'nigeria', 'nkotb', 'nobel', 'normal', 'north', 'nyc', 'nye', 'o ash', 'obsession', 'of chas', 'of max', 'of the dead', 'of twtr', 'ofoz', 'ohh', 'okeefe', 'oliver', 'one', 'onfire', 'online', 'ottawa', 'paige', 'pany', 'paradise', 'parks', 'pase', 'paulevans', 'pax', 'peabody', 'pearlman', 'pearson', 'peek', 'peer', 'perez', 'perfect', 'perth', 'peter', 'petty', 'phatass', 'phelps', 'phillips', 'photography', 'pickle', 'pierce', 'pills', 'pina', 'pingpong', 'pinkapple', 'polanco', 'pollard', 'pooh', 'popularent', 'precious', 'princess', 'printchick', 'pritchard', 'prototype', 'punk robot', 'pyee', 'r roberts', 'rabbit', 'rachinea', 'rade', 'radio', 'rahal', 'rain', 'ranjan', 'rankin', 'raquel', 'rashid', 'raven', 'ray', 'read', 'real nash', 'reality', 'recordings', 'redbone', 'reece', 'reid', 'renee', 'reviews', 'rex', 'rey', 'reznor', 'ri ja', 'ricardo', 'richards', 'richie', 'rigby', 'ritz', 'robert', 'rockett', 'rocks', 'rocks', 'roe', 'roo', 'rose', 'rosie', 'ross', 'rothlisberger', 'roy', 'rubadeau', 'ryall', 'ryan', 's r', 'sanderson', 'sandman', 'sara', 'saurus', 'says', 'schools', 'schulz', 'seattle', 'shan west', 'shantz', 'shaw', 'shawn', 'shediddy', 'shep', 'shields', 'shines', 'shiny', 'sian', 'simmons', 'sims', 'sis', 'skies', 'sko', 'smith', 'smith', 'soch', 'sockso o', 'song', 'songs', 'soul', 'souljaa', 'sounds', 'spark', 'spn', 'sprigge', 'staack', 'stack', 'stack', 'stained', 'star', 'star', 'starla', 'starr', 'stdin', 'steph', 'steve', 'stewart', 'stiller', 'stokoe', 'storm', 'straycat', 'style', 'sunshine', 'suprnatural', 'surprises', 'sweethearts', 'sweetye', 'sydney', 'taff jones', 'tah', 'tall blonde', 'tarrant', 'tastic', 'tattoo', 'team', 'teamgreen', 'tech', 'tech update', 'tennant', 'terrible', 'the bc', 'the bear', 'the game', 'the heck', 'the moon', 'themovie', 'thomas', 'thompson', 'thrifty', 'tickle', 'tifullytragic', 'tina', 'toni', 'trainr', 'trees', 'trick', 'trip', 'troy', 'truesdale', 'truong', 'twist', 'twit', 'twitster', 'twnzfinest', 'uh knee', 'union', 'uppercut', 'uts', 'val  now', 'vegetable', 'vet', 'vincent', 'violence', 'vip', 'von abe', 'w a', 'wants', 'war mt', 'ward', 'warwounds c', 'waters', 'watkins', 'watson', 'web design', 'weber', 'wesely', 'west', 'whacker', 'what', 'whincop', 'whitex', 'wi no name', 'willhoit', 'wockeez', 'world', 'wounds', 'writer', 'writes', 'wst', 'x atl', 'xox', 'y tony', 'y yankees', 'yavanna', 'yeah', 'yogini', 'you', 'yours', 'yst', 'zaboo', 'zero', 'zol', 'zorz peep', 'zulu', 'zwitschert', 'anw', 'apyr', 'afdb', 'aa', 'aa', 'aa', 'aahh', 'aamazing', 'aafternoon', 'aahh', 'aah', 'aahh', 'aawwesome', 'aahh', 'aall', 'aand', 'aaoouoouoouu', 'aarrgghh', 'aaw', 'aaww', 'aaggess', 'aagh', 'aah', 'aahh', 'aaiiee', 'aand', 'aargh', 'aau', 'aaw', 'aaww', 'aah', 'aahaha', 'aahh', 'aahh', 'aand', 'aargh', 'aarrgghh', 'aarrgghh', 'aarrgh', 'aauugghh', 'aaw', 'aaww', 'aaww', 'aac', 'aaggh', 'aah', 'aahh', 'aahs', 'aanndd', 'aapko', 'aargh', 'aaron', 'aarrgghh', 'aasman', 'aaww', 'aba', 'ababa', 'abalone']\n"
     ]
    }
   ],
   "source": [
    "print(cleanTokens)"
   ]
  },
  {
   "cell_type": "markdown",
   "metadata": {},
   "source": [
    "Now correct the mis spelt words:"
   ]
  },
  {
   "cell_type": "code",
   "execution_count": 118,
   "metadata": {},
   "outputs": [],
   "source": [
    "def spellChecker(list_object):\n",
    "    tokens = []\n",
    "    import enchant # This is a python spell checker form the PyEnchant library \n",
    "    d = enchant.Dict(\"en_Uk\")\n",
    "    for token in list_object:\n",
    "        if d.check(token) == True:\n",
    "            tokens.append(token)\n",
    "    return tokens"
   ]
  },
  {
   "cell_type": "code",
   "execution_count": 119,
   "metadata": {},
   "outputs": [
    {
     "name": "stdout",
     "output_type": "stream",
     "text": [
      "363\n"
     ]
    }
   ],
   "source": [
    "cleanTokens = spellChecker(cleanTokens)\n",
    "print(len(cleanTokens))"
   ]
  },
  {
   "cell_type": "code",
   "execution_count": 120,
   "metadata": {},
   "outputs": [
    {
     "name": "stdout",
     "output_type": "stream",
     "text": [
      "['rpm', 'days', 'hours', 'lbs', 'seconds', 'gigs', 'mph', 'rpm', 'bpm', 'fox', 'minutes', 'lbs', 'again', 'hrs', 'mos', 'direction', 'hour', 'million', 'thing', 'the', 'lbs', 'min', 'yrs', 'life', 'month', 'hrs', 'hrs', 'cal', 'day', 'dives', 'field', 'for', 'gather', 'hear', 'hours', 'hrs', 'kids', 'morrow', 'night', 'nit', 'stop', 'twitter', 'day', 'rock', 'sec', 'tools', 'hours', 'hrs', 'lbs', 'lin', 'ware', 'secs', 'days', 'hours', 'days', 'ever', 'get', 'give', 'got', 'hours', 'jus', 'jab', 'jam', 'jaw', 'more', 'real', 'ward', 'weeks', 'who', 'wry', 'days', 'had', 'hours', 'jib', 'sec', 'hrs', 'aim', 'hrs', 'mpg', 'day', 'hrs', 'weeks', 'mph', 'followers', 'thanks', 'girls', 'diamond', 'hell', 'addict', 'ahoy', 'aid', 'aloud', 'always', 'angel', 'angel', 'another', 'apple', 'assassin', 'attack', 'august', 'aureole', 'autism', 'avenue', 'awake', 'babe', 'baby', 'bach', 'bee', 'beery', 'believer', 'beyond', 'bill', 'bishop', 'blogs', 'blue', 'bob', 'bones', 'boo', 'bop', 'brad', 'brads', 'bree', 'brown', 'bug', 'bum', 'buns', 'butler', 'call', 'carter', 'cat', 'chapman', 'charlotte', 'chick', 'chip', 'christie', 'city', 'club', 'colossus', 'confidential', 'control', 'cook', 'cool', 'cordon', 'crane', 'crazy', 'creek', 'crisis', 'crow', 'crumbles', 'cunning', 'cupcake', 'cupcakes', 'dam', 'dang', 'day', 'dazzles', 'death', 'design', 'devil', 'dew', 'diesel', 'dig', 'diva', 'divine', 'dog', 'doll', 'double', 'dreamer', 'dreaming', 'dude', 'dunk', 'eagle', 'eclectic', 'educator', 'envy', 'era', 'exp', 'express', 'eyes', 'face', 'fam', 'fan', 'fisher', 'flora', 'forward', 'foster', 'frog', 'gable', 'gal', 'galore', 'garner', 'gates', 'girl', 'gov', 'grenade', 'griffin', 'gun', 'gutter', 'guy', 'hall', 'hay', 'hayward', 'haze', 'hearts', 'holden', 'home', 'honey', 'hong', 'hope', 'hunter', 'hypnotic', 'idiots', 'idol', 'ill', 'illustrated', 'intruder', 'jane', 'jean', 'joy', 'kat', 'kelly', 'ken', 'khan', 'kid', 'kiss', 'lambert', 'lavish', 'lay', 'lee', 'libertine', 'lick', 'life', 'lights', 'live', 'logos', 'lord', 'luck', 'made', 'magazine', 'magician', 'man', 'marls', 'mean', 'mel', 'meow', 'mills', 'miss', 'molecule', 'monk', 'morris', 'music', 'musings', 'nation', 'news', 'nexus', 'normal', 'north', 'obsession', 'one', 'online', 'paradise', 'parks', 'pase', 'pax', 'peek', 'peer', 'perfect', 'peter', 'petty', 'photography', 'pickle', 'pierce', 'pills', 'pollard', 'pooh', 'precious', 'princess', 'prototype', 'rabbit', 'radio', 'rain', 'raven', 'ray', 'read', 'reality', 'recordings', 'reviews', 'rocks', 'rocks', 'roe', 'roo', 'rose', 'sandman', 'says', 'schools', 'shaw', 'shields', 'shines', 'shiny', 'sims', 'sis', 'skies', 'smith', 'smith', 'song', 'songs', 'soul', 'sounds', 'spark', 'stack', 'stack', 'stained', 'star', 'star', 'stiller', 'storm', 'style', 'sunshine', 'surprises', 'sweethearts', 'tattoo', 'team', 'tech', 'terrible', 'thrifty', 'tickle', 'trees', 'trick', 'trip', 'troy', 'twist', 'twit', 'union', 'uppercut', 'uts', 'vegetable', 'vet', 'violence', 'wants', 'ward', 'waters', 'weber', 'west', 'whacker', 'what', 'world', 'wounds', 'writer', 'writes', 'yeah', 'yogini', 'you', 'yours', 'zero', 'aa', 'aa', 'aa', 'aah', 'aah', 'aah', 'aah', 'aba', 'abalone']\n"
     ]
    }
   ],
   "source": [
    "print(cleanTokens)"
   ]
  },
  {
   "cell_type": "markdown",
   "metadata": {},
   "source": [
    "### Observation:\n",
    "- This is seriously effective for reducing the corpus size.\n",
    "- However we loose exclamations, whereby the length of an exclamation might indicate something is negative or positive.\n",
    "- We also have the problem of loosing words that tweets describe as negative/positive. These words may be places, names etc. \n",
    "- Solution to this might be to POS tag all words, and then spell check all words except for proper nouns, or nouns."
   ]
  },
  {
   "cell_type": "code",
   "execution_count": 131,
   "metadata": {},
   "outputs": [],
   "source": [
    "#Spell checker test for lists of list of tokens\n",
    "def spellChecker(list_object):\n",
    "    tokens = []\n",
    "    import enchant # This is a python spell checker form the PyEnchant library \n",
    "    d = enchant.Dict(\"en_Uk\")\n",
    "    for tweet in list_object:\n",
    "        temp = []\n",
    "        for token in tweet:\n",
    "            if d.check(token) == True:\n",
    "                temp.append(token)\n",
    "        tokens.append(temp)\n",
    "    return tokens"
   ]
  },
  {
   "cell_type": "code",
   "execution_count": 132,
   "metadata": {},
   "outputs": [],
   "source": [
    "test = [['id', 'have', 'responded', 'if', 'i', 'were', 'going'], ['sooo', 'sad', 'i', 'will', 'miss', 'you', 'here', 'in', 'san', 'diego'], ['my', 'boss', 'is', 'bullying', 'me'], ['what', 'interview', 'leave', 'me', 'alone'], ['sons', 'of', 'why', 'couldnt', 'they', 'put', 'them', 'on', 'the', 'releases', 'we', 'already', 'bought']]"
   ]
  },
  {
   "cell_type": "code",
   "execution_count": 133,
   "metadata": {},
   "outputs": [],
   "source": [
    "tested = spellChecker(test)"
   ]
  },
  {
   "cell_type": "code",
   "execution_count": 134,
   "metadata": {},
   "outputs": [
    {
     "name": "stdout",
     "output_type": "stream",
     "text": [
      "[['id', 'have', 'responded', 'if', 'i', 'were', 'going'], ['sad', 'i', 'will', 'miss', 'you', 'here', 'in'], ['my', 'boss', 'is', 'bullying', 'me'], ['what', 'interview', 'leave', 'me', 'alone'], ['sons', 'of', 'why', 'they', 'put', 'them', 'on', 'the', 'releases', 'we', 'already', 'bought']]\n"
     ]
    }
   ],
   "source": [
    "print(tested)"
   ]
  },
  {
   "cell_type": "code",
   "execution_count": null,
   "metadata": {},
   "outputs": [],
   "source": []
  }
 ],
 "metadata": {
  "kernelspec": {
   "display_name": "Python 3",
   "language": "python",
   "name": "python3"
  },
  "language_info": {
   "codemirror_mode": {
    "name": "ipython",
    "version": 3
   },
   "file_extension": ".py",
   "mimetype": "text/x-python",
   "name": "python",
   "nbconvert_exporter": "python",
   "pygments_lexer": "ipython3",
   "version": "3.8.2"
  }
 },
 "nbformat": 4,
 "nbformat_minor": 4
}
