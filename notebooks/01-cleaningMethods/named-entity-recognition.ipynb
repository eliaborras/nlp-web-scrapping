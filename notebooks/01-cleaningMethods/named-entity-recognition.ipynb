{
 "cells": [
  {
   "cell_type": "markdown",
   "metadata": {},
   "source": [
    "Named-entity recognition (NER) seeks to classify named entities in an unstructured text into pre-defined categories such as proper names, organizations, places, monetary values, etc.\n",
    "\n",
    "SpaCy features fast statistical NER as well as an open-source named-entity visualizer.\n",
    "\n",
    "NER can be very labour-intensive as there is a lot of manual annotation required for the training data set."
   ]
  }
 ],
 "metadata": {
  "kernelspec": {
   "display_name": "Python 3",
   "language": "python",
   "name": "python3"
  },
  "language_info": {
   "codemirror_mode": {
    "name": "ipython",
    "version": 3
   },
   "file_extension": ".py",
   "mimetype": "text/x-python",
   "name": "python",
   "nbconvert_exporter": "python",
   "pygments_lexer": "ipython3",
   "version": "3.7.6"
  }
 },
 "nbformat": 4,
 "nbformat_minor": 4
}
