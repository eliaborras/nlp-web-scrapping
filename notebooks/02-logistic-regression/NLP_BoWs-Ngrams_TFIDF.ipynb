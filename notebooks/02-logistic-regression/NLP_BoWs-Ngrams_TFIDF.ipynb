{
 "cells": [
  {
   "cell_type": "markdown",
   "metadata": {},
   "source": [
    "<h1><center> NLP - Bag of Words, spaCy </center></h1>\n",
    "\n",
    "### From:\n",
    "- https://medium.com/analytics-vidhya/fundamentals-of-bag-of-words-and-tf-idf-9846d301ff22\n",
    "- https://towardsdatascience.com/hacking-scikit-learns-vectorizers-9ef26a7170af\n",
    "\n",
    "***Linked with 'NLP_Logistic-Regression.ipynb' file***\n",
    "\n",
    "## *Written by Nathanael Hitch*"
   ]
  },
  {
   "cell_type": "markdown",
   "metadata": {},
   "source": [
    "# Bag of Words\n",
    "Bag-of-Words (BoW) is a popular, simple method of feature extraction with text data.<br>\n",
    "The problem with modeling text is that it is messy; techniques like machine learning algorithms prefer well defined, fixed-length inputs and outputs.<br>\n",
    "Machine learning algorithms can't work with raw text directly; the text must be converted into numbers, specifically, vectors of numbers.\n",
    "\n",
    "Simply put: similar text must result in closer vector.\n",
    "\n",
    "In this model, text (sentence or a document) is represented as the bag of words; it disregards grammar and word order but keeps multiplicity (the number of times a word appears in the 'bag'). BoW models is commonly used in document classification methods, where the frequency of each word is used as a feature for training a classifier."
   ]
  },
  {
   "cell_type": "markdown",
   "metadata": {},
   "source": [
    "The model involves 2 things;\n",
    "\n",
    "**1. A vocabulary of known words:**<br>\n",
    "constructing a document corpus (a collection of written texts), consisting of unique words in the whole text. Similar to a dictionary with each index corresponding to word.\n",
    "\n",
    "Example: 4 reviews for an Italian pasta dish:\n",
    "\n",
    "- This pasta is vert tasty and affordable.\n",
    "- This pasta is not tasty and is affordable.\n",
    "- This past is delicious and cheap.\n",
    "- Pasta is tasty and pasta tastes good.\n",
    "\n",
    "Counting: there are 12 unique words.\n",
    "\n",
    "**2. A measure of the presense of known words**<br>\n",
    "Taking the first review, we can plot the count of each unique word for each review.\n",
    "\n",
    "<img src=\"Images\\Unique_words_count.png\">\n",
    "\n",
    "<center>Top row = index for a unique word; Second row = the count for that word.</center>"
   ]
  },
  {
   "cell_type": "markdown",
   "metadata": {},
   "source": [
    "## Comparisons\n",
    "\n",
    "Converting these reviews into vectors means that we can compare difference sentences, calculating the *Euclidean distance* between them.<br>\n",
    "This checks how similar 2 sentences are; no common words means a much larger distance.\n",
    "\n",
    "BoW doesn't work well with small changes in terminology, the reviews all have similar meanings just different words, resulting in a vector with a lot of zeros, a sparse vector. These require more memory and resources when modeling.<br>\n",
    "Hence it is better to decrease the size of the vocabulary when using BoW models, i.e. clean up the text:\n",
    "\n",
    "- ignore case\n",
    "- ignore punctuation\n",
    "- remove stopwords\n",
    "- fix misspelt words\n",
    "- reduce words to their stem, Lemmatisation"
   ]
  },
  {
   "cell_type": "markdown",
   "metadata": {},
   "source": [
    "### N-grams Model:\n",
    "\n",
    "These are more sophisticated as they create a vocabulary of grouped words, allowing BoW to capture more meaning from the document with each word or token a 'gram'.\n",
    "\n",
    "\"*An N-gram is an N-token sequence of words: a 2-gram (or 'bigram') is a two-word sequence of words like “please turn”, “turn your”, or “your homework”. A 3-gram (more commonly called a trigram) is a three-word sequence of words like “please turn your”, or “turn your homework”\"*.\n",
    "\n",
    "## Example use of Bag of Words and N-grams\n",
    "\n",
    "To build a representation of our vocabulary, we will use a Vectorizer to convert them into a numerical structure. Each vectoriser will:\n",
    "\n",
    "- Split the document into tokens.\n",
    "- Assign a weight to each token proportional to the frequency with which it shows up in the document.\n",
    "- Creating a document-term matrix: row = a document, column = a token.\n",
    "\n",
    "There are 3 common types of vectorisers:\n",
    "\n",
    "- CountVectorizer: most straightforward, it counts the number of times a token appears in the document using its value as a weight.\n",
    "\n",
    "- HashVectorizer: designed to be as memory efficient as possible; the vectorizer applies the hashing trick to encode tokens as numerical indexes rather than strings. The downside is that once vectorised, the features’ names can no longer be retrieved.\n",
    "\n",
    "- TF-IDF Vectorizer: *more on this below*; the weight assigned to each token depends on its frequency in a document, but also how recurrent that term is in all the documents.\n",
    "\n",
    "From: *https://neptune.ai/blog/exploratory-data-analysis-natural-language-processing-tools*\n",
    "\n",
    "The example below, from neptune.ai (above link), also has a few charts to show its counts"
   ]
  },
  {
   "cell_type": "code",
   "execution_count": 19,
   "metadata": {},
   "outputs": [
    {
     "data": {
      "text/plain": [
       "<matplotlib.axes._subplots.AxesSubplot at 0x2b523f3f688>"
      ]
     },
     "execution_count": 19,
     "metadata": {},
     "output_type": "execute_result"
    },
    {
     "data": {
      "image/png": "[encoded data removed]",
      "text/plain": [
       "<Figure size 432x288 with 1 Axes>"
      ]
     },
     "metadata": {
      "needs_background": "light"
     },
     "output_type": "display_data"
    }
   ],
   "source": [
    "import pandas as pd\n",
    "import seaborn as sns\n",
    "\n",
    "news = pd.read_csv('Files/abcnews-date-text.csv',nrows=10000)\n",
    "# Read .csv file\n",
    "\n",
    "def get_top_ngram(corpus, n=None):\n",
    "# corpus = collection of documents - n = the size of the n-gram (2 = bigram)\n",
    "    \n",
    "    vec = CountVectorizer(ngram_range=(n, n)).fit(corpus)\n",
    "    \n",
    "    \n",
    "    bag_of_words = vec.transform(corpus)\n",
    "    sum_words = bag_of_words.sum(axis=0) \n",
    "    words_freq = [(word, sum_words[0, idx]) \n",
    "                  for word, idx in vec.vocabulary_.items()]\n",
    "    words_freq =sorted(words_freq, key = lambda x: x[1], reverse=True)\n",
    "    return words_freq[:10]\n",
    "\n",
    "top_n_bigrams=get_top_ngram(news['headline_text'],2)[:10]\n",
    "x,y=map(list,zip(*top_n_bigrams))\n",
    "sns.barplot(x=y,y=x)"
   ]
  },
  {
   "cell_type": "markdown",
   "metadata": {},
   "source": [
    "In the news headlines, *Bigrams* such as 'anti war' and 'killed in', that are related to war, dominate.\n",
    "\n",
    "### Customise Vectoriser<br>https://towardsdatascience.com/hacking-scikit-learns-vectorizers-9ef26a7170af\n",
    "\n",
    "While each vectoriser comes with its own preprocesor, tokeniser and analyser, you can assign a custom one if needed:\n",
    "\n",
    "- build_preprocessor: used to preprocess the input text before tokenization.\n",
    "- build_tokenizer: a function that splits a document into tokens.\n",
    "- build_analyzer: a function that applies preprocessing, tokenisation, removes stopwords and creates n-grams.\n",
    "\n",
    "Example below - function won't actually work"
   ]
  },
  {
   "cell_type": "code",
   "execution_count": null,
   "metadata": {},
   "outputs": [],
   "source": [
    "custom_vec = CountVectorizer(preprocessor=my_preprocessor,\n",
    "                             tokenizer=my_tokenizer,\n",
    "                             ngram_range=(1,2),\n",
    "                             stop_words='english')"
   ]
  },
  {
   "cell_type": "markdown",
   "metadata": {},
   "source": [
    "**E.g.** the code below uses a custom function (spacy_cleaner) that  tokenises but also lemmatisises and puts the words into lower case. With words in their base form (testing/tested -> test), it makes classification of documents easier.\n",
    "\n",
    "`The 'spacy_cleaner function (below) was taken from 'NLP_Logistic-Regression.ipynb'`"
   ]
  },
  {
   "cell_type": "code",
   "execution_count": 12,
   "metadata": {},
   "outputs": [
    {
     "name": "stdout",
     "output_type": "stream",
     "text": [
      "Input sentence:\n",
      " This is a test sentence, for testing tests from London. \n",
      "\n",
      "Sentence tokenised:\n",
      " [This, is, a, test, sentence, ,, for, testing, tests, from, London, .] \n",
      "\n",
      "Sentence without stopwords or punctuations:\n",
      " [test, sentence, testing, tests, London] \n",
      "\n",
      "Sentence lemmatisted, no spaces and lowercase (except Proper Noun):\n",
      " ['test', 'sentence', 'test', 'test', 'London'] \n",
      "\n"
     ]
    },
    {
     "data": {
      "text/plain": [
       "['test', 'sentence', 'test', 'test', 'London']"
      ]
     },
     "execution_count": 12,
     "metadata": {},
     "output_type": "execute_result"
    }
   ],
   "source": [
    "from sklearn.feature_extraction.text import CountVectorizer\n",
    "import string # Contains a useful list of punctuation marks.\n",
    "import spacy\n",
    "from spacy.lang.en.stop_words import STOP_WORDS\n",
    "\n",
    "############################### Tokeniser for BoW ###############################\n",
    "\n",
    "nlp = spacy.load(\"en_core_web_sm\")\n",
    "\n",
    "punctuations = string.punctuation\n",
    "# Create list of punctuation marks\n",
    "\n",
    "def spacy_cleaner(sentence):\n",
    "    \n",
    "    print(\"Input sentence:\\n\", sentence,\"\\n\")\n",
    "    \n",
    "    doc = nlp(sentence)\n",
    "    # Pass text into model's pipeline.\n",
    "    \n",
    "    myTokens = [token for token in doc]\n",
    "    # Creating a list of the words in the sentence.\n",
    "    print(\"Sentence tokenised:\\n\", myTokens,\"\\n\")\n",
    "    \n",
    "    myTokens = [token for token in myTokens if token.is_stop == False and token.text not in punctuations]\n",
    "    # List of words without stopwords or punctuations.\n",
    "    print(\"Sentence without stopwords or punctuations:\\n\", myTokens, \"\\n\")\n",
    "    \n",
    "    myTokens = [token.lemma_.strip().lower() if token.pos_ != \"PROPN\" else token.lemma_.strip() \\\n",
    "                for token in myTokens]\n",
    "    # Words are lemmatised, spaces at end removed and (if not a proper noun) lowercased.\n",
    "    \n",
    "    print(\"Sentence lemmatisted, no spaces and lowercase (except Proper Noun):\\n\", myTokens, \"\\n\")\n",
    "    \n",
    "    return myTokens\n",
    "    \n",
    "spacy_cleaner(\"This is a test sentence, for testing tests from London.\")"
   ]
  },
  {
   "cell_type": "code",
   "execution_count": 13,
   "metadata": {},
   "outputs": [],
   "source": [
    "############################## Vectoriser using BoW #############################\n",
    "\n",
    "# We are using the 'spacy_cleaner' function as the tokeniser\n",
    "\n",
    "bow_vector = CountVectorizer(tokenizer = spacy_cleaner, ngram_range=(1,1))\n",
    "# Bag-of-Words n-gram matrix"
   ]
  },
  {
   "cell_type": "markdown",
   "metadata": {},
   "source": [
    "# TF-IDF - Term Frequency - Inverse Document Frequency\n",
    "\n",
    "TF-IDF is a \"*numerical statistic intended to show how important a word is in a document in a collection or corpus*\".<br>\n",
    "The concept **counts** the number of times the word appears in a document and figures out the **frequency** that the word ($w_i$) appears in a document out of all the words in the document ($r_i$):\n",
    "\n",
    "\\begin{equation}\n",
    "TF(w_i,r_i) = \\frac{No.-of-times-w_i-occurs-in-r_i}{Total-no.-of-words-in-r_i}\n",
    "\\end{equation}\n",
    "\n",
    "TF is basically the *probability of finding a word in a document*.\n",
    "\n",
    "The TF-IDF value:\n",
    "\n",
    "- increases proportional to the number of times it appears in the document.\n",
    "- is offset by the number of documents in the corpus that contain the word.\n",
    "\n",
    "Th Inverse Document Frequency is a *measure of how much information the word provides*, if it's common or rare across ALL documents. Words that occur rarely over the documents have a high IDF score. It is logarithmically scaled:\n",
    "\n",
    "\\begin{equation}\n",
    "IDF(w_i,D) = \\log{\\frac{N}{|{d \\in D:w_i \\in d}|}} = \\log{\\frac{Total-No.-of-docs}{No.-of-docs-containing-w_i}}\n",
    "\\end{equation}"
   ]
  },
  {
   "cell_type": "markdown",
   "metadata": {},
   "source": [
    "The actual **TF-IDF** value is simply TF multiplied by IDF:\n",
    "\n",
    "<center>$TF(w_i,r_i) = IDF(w_i,D)$</center>\n",
    "\n",
    "A high weight in tf–idf is reached by a high frequency of the term in the given document, but a low document frequency of the term in the whole collection of documents. Hence, the weights hence tend to filter out common terms.\n",
    "\n",
    "**Fun Maths**: the fraction inside IDF's log function is always $\\ge$ 1, hence the value of IDF, and TF-IDF, is $\\ge$ 0. As a term appears in more documents, it brings the IDF and tf–idf closer to 0.\n",
    "\n",
    "**Basically:**\n",
    "***\n",
    "- `It's a way of representing how important a particular term is in the context of a given document, based on how many times the term appears and how many other documents that same term appears in.`\n",
    "-`The higher the TF-IDF, the more important that term is to that document.`\n",
    "- `TF-IDF gives larger values for less frequent words in a collection (corpus) of documents`\n",
    "- `A high value occurs when both TF and IDF values are high: the word is rare in the collection but frequent in a document`\n",
    "- `However, TF-IDF does not take the semantic meaning of the words`\n",
    "***"
   ]
  },
  {
   "cell_type": "code",
   "execution_count": 14,
   "metadata": {},
   "outputs": [],
   "source": [
    "from sklearn.feature_extraction.text import TfidfVectorizer\n",
    "\n",
    "tfidf_vector = TfidfVectorizer(tokenizer = spacy_cleaner)\n",
    "# TF-IDF result"
   ]
  },
  {
   "cell_type": "markdown",
   "metadata": {},
   "source": [
    "<hr>\n",
    "\n",
    "**Both of these forms of Bag-of-Words can be used in the pipeline for a model.<br>\n",
    "*E.g. NLP_Logisitic-Regression.ipynb***"
   ]
  },
  {
   "cell_type": "code",
   "execution_count": null,
   "metadata": {},
   "outputs": [],
   "source": []
  }
 ],
 "metadata": {
  "kernelspec": {
   "display_name": "Python 3",
   "language": "python",
   "name": "python3"
  },
  "language_info": {
   "codemirror_mode": {
    "name": "ipython",
    "version": 3
   },
   "file_extension": ".py",
   "mimetype": "text/x-python",
   "name": "python",
   "nbconvert_exporter": "python",
   "pygments_lexer": "ipython3",
   "version": "3.7.6"
  }
 },
 "nbformat": 4,
 "nbformat_minor": 4
}
