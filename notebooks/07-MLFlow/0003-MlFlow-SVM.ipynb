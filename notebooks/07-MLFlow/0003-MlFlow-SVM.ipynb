{
 "cells": [
  {
   "cell_type": "code",
   "execution_count": 1,
   "metadata": {},
   "outputs": [],
   "source": [
    "import tempfile\n",
    "import json\n",
    "import os \n",
    "import logging\n",
    "logging.getLogger().setLevel(logging.INFO)\n",
    "\n",
    "import mlflow\n",
    "import pandas as pd\n",
    "import sklearn\n",
    "\n",
    "from sklearn.feature_extraction.text import CountVectorizer\n",
    "from sklearn.model_selection import GridSearchCV\n",
    "from sklearn.pipeline import Pipeline\n",
    "from sklearn.svm import SVC\n",
    "from sklearn.model_selection import train_test_split\n",
    "from sklearn.metrics import accuracy_score, classification_report, confusion_matrix, r2_score\n",
    "from sklearn.model_selection import cross_val_score\n",
    "from sklearn import metrics"
   ]
  },
  {
   "cell_type": "code",
   "execution_count": 2,
   "metadata": {},
   "outputs": [],
   "source": [
    "filename = '../../data/raw/tweets-train.csv'\n",
    "df = pd.read_csv(filename)"
   ]
  },
  {
   "cell_type": "code",
   "execution_count": 3,
   "metadata": {},
   "outputs": [],
   "source": [
    "df = df.dropna()"
   ]
  },
  {
   "cell_type": "code",
   "execution_count": 4,
   "metadata": {},
   "outputs": [],
   "source": [
    "df = df[:5000] # testing purposes"
   ]
  },
  {
   "cell_type": "code",
   "execution_count": 8,
   "metadata": {},
   "outputs": [
    {
     "data": {
      "text/plain": [
       "'C:\\\\Users\\\\Elia\\\\PycharmProjects\\\\nlp-web-scrapping\\\\notebooks\\\\07-MLFlow'"
      ]
     },
     "execution_count": 8,
     "metadata": {},
     "output_type": "execute_result"
    }
   ],
   "source": [
    "import os\n",
    "os.getcwd()"
   ]
  },
  {
   "cell_type": "code",
   "execution_count": 5,
   "metadata": {},
   "outputs": [],
   "source": [
    "location = \"$PROJECT_PATHS$/mlruns\"\n",
    "mlflow.set_tracking_uri(location)"
   ]
  },
  {
   "cell_type": "code",
   "execution_count": 7,
   "metadata": {},
   "outputs": [
    {
     "name": "stdout",
     "output_type": "stream",
     "text": [
      "$PROJECT_PATHS$/mlruns\n"
     ]
    }
   ],
   "source": [
    "print(location)"
   ]
  },
  {
   "cell_type": "code",
   "execution_count": 9,
   "metadata": {},
   "outputs": [
    {
     "data": {
      "text/plain": [
       "mlflow.tracking.fluent.ActiveRun"
      ]
     },
     "execution_count": 9,
     "metadata": {},
     "output_type": "execute_result"
    }
   ],
   "source": [
    "mlflow.ActiveRun"
   ]
  },
  {
   "cell_type": "code",
   "execution_count": 11,
   "metadata": {},
   "outputs": [
    {
     "data": {
      "text/plain": [
       "'$PROJECT_PATHS$/mlruns/0/c8ed900a2d5f40ffa4ffaea65261ed53/artifacts'"
      ]
     },
     "execution_count": 11,
     "metadata": {},
     "output_type": "execute_result"
    }
   ],
   "source": [
    "mlflow.get_artifact_uri()"
   ]
  },
  {
   "cell_type": "code",
   "execution_count": null,
   "metadata": {},
   "outputs": [],
   "source": [
    "if location.find('')"
   ]
  },
  {
   "cell_type": "code",
   "execution_count": 6,
   "metadata": {},
   "outputs": [
    {
     "name": "stderr",
     "output_type": "stream",
     "text": [
      "INFO:root: Model instances created\n",
      "INFO:root: Pipeline created.\n",
      "INFO:root: Logged params.\n",
      "INFO:root: Predictions out.\n",
      "ERROR:root:Not logged metric recall.\n",
      "INFO:root: Metrics logged.\n"
     ]
    },
    {
     "name": "stdout",
     "output_type": "stream",
     "text": [
      "accuracy = 0.6192\n",
      "balanced_accuracy = 0.5865154980363253\n"
     ]
    }
   ],
   "source": [
    "# variables\n",
    "X = df['text']\n",
    "Y = df['sentiment']\n",
    "# Train test split\n",
    "X_train, x_test, Y_train, y_test = train_test_split(X, Y, random_state=42)\n",
    "\n",
    "with mlflow.start_run(run_name='suport_vector_clasifier'):\n",
    "    mlflow.log_param('file name', filename.split(\"/\")[-1])\n",
    "    try:\n",
    "        \n",
    "        count_vectorizer = CountVectorizer(stop_words='english', strip_accents='ascii', lowercase=True, max_features=25000)\n",
    "        svm = SVC(probability=True)\n",
    "    except ValueError: \n",
    "        logging.log(40,\" Error encountered in model instanciation.\".format(item))\n",
    "    \n",
    "    logging.info(\" Model instances created\")\n",
    "    # creating a pipeline\n",
    "    pipe = Pipeline(steps = [('vectorizer', count_vectorizer),\n",
    "                             ('svm_model', svm)])\n",
    "    \n",
    "    logging.info(\" Pipeline created.\")\n",
    "    \n",
    "    pipe.fit(X_train, Y_train)\n",
    "    log_params = [mlflow.log_param(key, value) for key, value in pipe.get_params().items() if '__' in key]\n",
    "    logging.info(\" Logged params.\")\n",
    "    \n",
    "    # Getting predicions \n",
    "    predictions = pipe.predict(x_test)\n",
    "    logging.info(\" Predictions out.\")\n",
    "    \n",
    "    # metrics \n",
    "    metrics_ = {'accuracy': accuracy_score,\n",
    "                'balanced_accuracy': metrics.balanced_accuracy_score,\n",
    "              #  'average_precision': metrics.average_precision_score,\n",
    "              #  'precission': metrics.precision_score,\n",
    "                'recall': metrics.recall_score,\n",
    "               }\n",
    "    \n",
    "    \n",
    "    for metric, func in metrics_.items():\n",
    "        try:\n",
    "            result = func(y_test, predictions)\n",
    "            print(f\"{metric} = {result}\")\n",
    "            mlflow.log_metric(metric, result)\n",
    "        except ValueError:\n",
    "            logging.log(40, f\"Not logged metric {metric}.\")\n",
    "            pass\n",
    "        \n",
    "    \n",
    "    logging.info(\" Metrics logged.\")"
   ]
  },
  {
   "cell_type": "code",
   "execution_count": null,
   "metadata": {},
   "outputs": [],
   "source": []
  },
  {
   "cell_type": "code",
   "execution_count": null,
   "metadata": {},
   "outputs": [],
   "source": []
  },
  {
   "cell_type": "code",
   "execution_count": null,
   "metadata": {},
   "outputs": [],
   "source": []
  }
 ],
 "metadata": {
  "kernelspec": {
   "display_name": "Python 3",
   "language": "python",
   "name": "python3"
  },
  "language_info": {
   "codemirror_mode": {
    "name": "ipython",
    "version": 3
   },
   "file_extension": ".py",
   "mimetype": "text/x-python",
   "name": "python",
   "nbconvert_exporter": "python",
   "pygments_lexer": "ipython3",
   "version": "3.7.0"
  }
 },
 "nbformat": 4,
 "nbformat_minor": 4
}
